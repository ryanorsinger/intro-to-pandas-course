{
 "cells": [
  {
   "cell_type": "markdown",
   "id": "cecbf3a7",
   "metadata": {},
   "source": [
    "# Intro to Pandas\n",
    "by Ryan Orsinger"
   ]
  },
  {
   "cell_type": "markdown",
   "id": "b6533591",
   "metadata": {},
   "source": [
    "## Module 1: Intro to pandas series\n",
    "\n",
    "### Pandas Series Part 3: Strings\n",
    "- Sorting values\n",
    "- Using pandas built-in string methods\n",
    "- Assigning and reassigining results\n",
    "- Using string methods for data cleaning\n",
    "- Updating data types"
   ]
  },
  {
   "cell_type": "code",
   "execution_count": 1,
   "id": "80f405f4",
   "metadata": {},
   "outputs": [],
   "source": [
    "import pandas as pd"
   ]
  },
  {
   "cell_type": "code",
   "execution_count": 2,
   "id": "19e75b5c",
   "metadata": {},
   "outputs": [
    {
     "data": {
      "text/plain": [
       "0        apple\n",
       "1       orange\n",
       "2       banana\n",
       "3        lemon\n",
       "4         lime\n",
       "5    pineapple\n",
       "6    blueberry\n",
       "7    raspberry\n",
       "8    cranberry\n",
       "dtype: object"
      ]
     },
     "execution_count": 2,
     "metadata": {},
     "output_type": "execute_result"
    }
   ],
   "source": [
    "fruits = pd.Series([\"apple\", \"orange\", \"banana\", \"lemon\", \"lime\", \"pineapple\", \"blueberry\", \"raspberry\", \"cranberry\"])\n",
    "fruits"
   ]
  },
  {
   "cell_type": "code",
   "execution_count": 3,
   "id": "d1ac5b21",
   "metadata": {},
   "outputs": [
    {
     "data": {
      "text/plain": [
       "0        apple\n",
       "2       banana\n",
       "6    blueberry\n",
       "8    cranberry\n",
       "3        lemon\n",
       "4         lime\n",
       "1       orange\n",
       "5    pineapple\n",
       "7    raspberry\n",
       "dtype: object"
      ]
     },
     "execution_count": 3,
     "metadata": {},
     "output_type": "execute_result"
    }
   ],
   "source": [
    "# .sort_values sorts strings alphabetically or numbers in numerical order\n",
    "# fruits.sort_values(ascending=True) the default sort order\n",
    "fruits.sort_values()"
   ]
  },
  {
   "cell_type": "code",
   "execution_count": 4,
   "id": "82249142",
   "metadata": {},
   "outputs": [
    {
     "data": {
      "text/plain": [
       "7    raspberry\n",
       "5    pineapple\n",
       "1       orange\n",
       "4         lime\n",
       "3        lemon\n",
       "8    cranberry\n",
       "6    blueberry\n",
       "2       banana\n",
       "0        apple\n",
       "dtype: object"
      ]
     },
     "execution_count": 4,
     "metadata": {},
     "output_type": "execute_result"
    }
   ],
   "source": [
    "fruits.sort_values(ascending=False)"
   ]
  },
  {
   "cell_type": "code",
   "execution_count": 5,
   "id": "838bda26",
   "metadata": {},
   "outputs": [
    {
     "data": {
      "text/plain": [
       "0        apple\n",
       "2       banana\n",
       "6    blueberry\n",
       "8    cranberry\n",
       "3        lemon\n",
       "4         lime\n",
       "1       orange\n",
       "5    pineapple\n",
       "7    raspberry\n",
       "dtype: object"
      ]
     },
     "execution_count": 5,
     "metadata": {},
     "output_type": "execute_result"
    }
   ],
   "source": [
    "# Use inplace=True to operate on the original\n",
    "# For more on .sort_values, see https://pandas.pydata.org/docs/reference/api/pandas.DataFrame.sort_values.html\n",
    "fruits = fruits.sort_values()\n",
    "fruits"
   ]
  },
  {
   "cell_type": "code",
   "execution_count": 6,
   "id": "68158ca0",
   "metadata": {},
   "outputs": [
    {
     "data": {
      "text/plain": [
       "0        apple\n",
       "1       banana\n",
       "2    blueberry\n",
       "3    cranberry\n",
       "4        lemon\n",
       "5         lime\n",
       "6       orange\n",
       "7    pineapple\n",
       "8    raspberry\n",
       "dtype: object"
      ]
     },
     "execution_count": 6,
     "metadata": {},
     "output_type": "execute_result"
    }
   ],
   "source": [
    "# We can reassign the series to hold the sorted values\n",
    "# For more on .sort_values, see https://pandas.pydata.org/docs/reference/api/pandas.DataFrame.sort_values.html\n",
    "fruits = fruits.sort_values(ignore_index=True)\n",
    "fruits"
   ]
  },
  {
   "cell_type": "code",
   "execution_count": 7,
   "id": "c17c5bdd",
   "metadata": {},
   "outputs": [
    {
     "data": {
      "text/plain": [
       "0        Apple\n",
       "1       Banana\n",
       "2    Blueberry\n",
       "3    Cranberry\n",
       "4        Lemon\n",
       "5         Lime\n",
       "6       Orange\n",
       "7    Pineapple\n",
       "8    Raspberry\n",
       "dtype: object"
      ]
     },
     "execution_count": 7,
     "metadata": {},
     "output_type": "execute_result"
    }
   ],
   "source": [
    "# .capitalize to capitalize\n",
    "fruits.str.capitalize()"
   ]
  },
  {
   "cell_type": "code",
   "execution_count": 8,
   "id": "3f1b18c8",
   "metadata": {},
   "outputs": [
    {
     "data": {
      "text/plain": [
       "0        apple\n",
       "1       banana\n",
       "2    blueberry\n",
       "3    cranberry\n",
       "4        lemon\n",
       "5         lime\n",
       "6       orange\n",
       "7    pineapple\n",
       "8    raspberry\n",
       "dtype: object"
      ]
     },
     "execution_count": 8,
     "metadata": {},
     "output_type": "execute_result"
    }
   ],
   "source": [
    "fruits"
   ]
  },
  {
   "cell_type": "code",
   "execution_count": 9,
   "id": "083b9b39",
   "metadata": {},
   "outputs": [
    {
     "data": {
      "text/plain": [
       "0        Apple\n",
       "1       Banana\n",
       "2    Blueberry\n",
       "3    Cranberry\n",
       "4        Lemon\n",
       "5         Lime\n",
       "6       Orange\n",
       "7    Pineapple\n",
       "8    Raspberry\n",
       "dtype: object"
      ]
     },
     "execution_count": 9,
     "metadata": {},
     "output_type": "execute_result"
    }
   ],
   "source": [
    "# String operations keep the original series intact, so we reassign to update\n",
    "capitalized_fruits = fruits.str.capitalize()\n",
    "capitalized_fruits"
   ]
  },
  {
   "cell_type": "code",
   "execution_count": 10,
   "id": "fc19376f",
   "metadata": {},
   "outputs": [
    {
     "data": {
      "text/plain": [
       "0     True\n",
       "1    False\n",
       "2    False\n",
       "3    False\n",
       "4    False\n",
       "5    False\n",
       "6    False\n",
       "7     True\n",
       "8    False\n",
       "dtype: bool"
      ]
     },
     "execution_count": 10,
     "metadata": {},
     "output_type": "execute_result"
    }
   ],
   "source": [
    "# .contains returns a boolean series\n",
    "# Always remember to use .str or your results will be in error\n",
    "fruits.str.contains(\"apple\")"
   ]
  },
  {
   "cell_type": "code",
   "execution_count": 11,
   "id": "79dca530",
   "metadata": {},
   "outputs": [
    {
     "data": {
      "text/plain": [
       "0        apple\n",
       "7    pineapple\n",
       "dtype: object"
      ]
     },
     "execution_count": 11,
     "metadata": {},
     "output_type": "execute_result"
    }
   ],
   "source": [
    "# Since .contains returns a Boolean series, we can use it to filter our results\n",
    "fruits[fruits.str.contains(\"apple\")]"
   ]
  },
  {
   "cell_type": "code",
   "execution_count": 12,
   "id": "00eceac9",
   "metadata": {},
   "outputs": [
    {
     "data": {
      "text/plain": [
       "0    1\n",
       "1    3\n",
       "2    0\n",
       "3    1\n",
       "4    0\n",
       "5    0\n",
       "6    1\n",
       "7    1\n",
       "8    1\n",
       "dtype: int64"
      ]
     },
     "execution_count": 12,
     "metadata": {},
     "output_type": "execute_result"
    }
   ],
   "source": [
    "# .count to count substring occurrences\n",
    "fruits.str.count(\"a\")"
   ]
  },
  {
   "cell_type": "code",
   "execution_count": 13,
   "id": "2bfa1b66",
   "metadata": {},
   "outputs": [
    {
     "data": {
      "text/plain": [
       "0    0\n",
       "1    0\n",
       "2    1\n",
       "3    1\n",
       "4    0\n",
       "5    0\n",
       "6    0\n",
       "7    0\n",
       "8    1\n",
       "dtype: int64"
      ]
     },
     "execution_count": 13,
     "metadata": {},
     "output_type": "execute_result"
    }
   ],
   "source": [
    "fruits.str.count(\"berry\")"
   ]
  },
  {
   "cell_type": "code",
   "execution_count": 14,
   "id": "b1cc2654",
   "metadata": {},
   "outputs": [
    {
     "data": {
      "text/plain": [
       "0    2\n",
       "1    3\n",
       "2    3\n",
       "3    2\n",
       "4    2\n",
       "5    2\n",
       "6    3\n",
       "7    4\n",
       "8    2\n",
       "dtype: int64"
      ]
     },
     "execution_count": 14,
     "metadata": {},
     "output_type": "execute_result"
    }
   ],
   "source": [
    "# Summing up the results of .count\n",
    "vowel_counts = fruits.str.count(\"a\") + fruits.str.count(\"e\") + fruits.str.count(\"i\") + fruits.str.count(\"o\") + fruits.str.count(\"u\")\n",
    "vowel_counts"
   ]
  },
  {
   "cell_type": "code",
   "execution_count": 15,
   "id": "4542f7f3",
   "metadata": {},
   "outputs": [
    {
     "data": {
      "text/plain": [
       "0    2\n",
       "1    3\n",
       "2    3\n",
       "3    2\n",
       "4    2\n",
       "5    2\n",
       "6    3\n",
       "7    4\n",
       "8    2\n",
       "dtype: int64"
      ]
     },
     "execution_count": 15,
     "metadata": {},
     "output_type": "execute_result"
    }
   ],
   "source": [
    "# Using count with a Regular Expression character class\n",
    "# Some of the Pandas string methods can utilize regular expressions\n",
    "fruits.str.count(\"[aeiou]\")"
   ]
  },
  {
   "cell_type": "code",
   "execution_count": 16,
   "id": "42da3ed0",
   "metadata": {},
   "outputs": [
    {
     "data": {
      "text/plain": [
       "1       banana\n",
       "2    blueberry\n",
       "6       orange\n",
       "7    pineapple\n",
       "dtype: object"
      ]
     },
     "execution_count": 16,
     "metadata": {},
     "output_type": "execute_result"
    }
   ],
   "source": [
    "# We can use our new vowel count to filter values from the series\n",
    "fruits[fruits.str.count(\"[aeiou]\") > 2]"
   ]
  },
  {
   "cell_type": "code",
   "execution_count": 17,
   "id": "c4b02a88",
   "metadata": {},
   "outputs": [
    {
     "data": {
      "text/plain": [
       "0    False\n",
       "1    False\n",
       "2    False\n",
       "3    False\n",
       "4     True\n",
       "5     True\n",
       "6    False\n",
       "7    False\n",
       "8    False\n",
       "dtype: bool"
      ]
     },
     "execution_count": 17,
     "metadata": {},
     "output_type": "execute_result"
    }
   ],
   "source": [
    "# .startswith returns a Boolean series\n",
    "fruits.str.startswith(\"l\")"
   ]
  },
  {
   "cell_type": "code",
   "execution_count": 18,
   "id": "01c8b698",
   "metadata": {},
   "outputs": [
    {
     "data": {
      "text/plain": [
       "4    lemon\n",
       "5     lime\n",
       "dtype: object"
      ]
     },
     "execution_count": 18,
     "metadata": {},
     "output_type": "execute_result"
    }
   ],
   "source": [
    "fruits[fruits.str.startswith(\"l\")]"
   ]
  },
  {
   "cell_type": "code",
   "execution_count": 19,
   "id": "d3bc4f8e",
   "metadata": {},
   "outputs": [
    {
     "data": {
      "text/plain": [
       "0    False\n",
       "1    False\n",
       "2     True\n",
       "3     True\n",
       "4    False\n",
       "5    False\n",
       "6    False\n",
       "7    False\n",
       "8     True\n",
       "dtype: bool"
      ]
     },
     "execution_count": 19,
     "metadata": {},
     "output_type": "execute_result"
    }
   ],
   "source": [
    "# .endswith returns a Boolean series\n",
    "fruits.str.endswith(\"berry\")"
   ]
  },
  {
   "cell_type": "code",
   "execution_count": 20,
   "id": "f265989a",
   "metadata": {},
   "outputs": [
    {
     "data": {
      "text/plain": [
       "0    5\n",
       "1    6\n",
       "2    9\n",
       "3    9\n",
       "4    5\n",
       "5    4\n",
       "6    6\n",
       "7    9\n",
       "8    9\n",
       "dtype: int64"
      ]
     },
     "execution_count": 20,
     "metadata": {},
     "output_type": "execute_result"
    }
   ],
   "source": [
    "# .len to get the length of the string\n",
    "fruits.str.len()"
   ]
  },
  {
   "cell_type": "code",
   "execution_count": 21,
   "id": "25d7992c",
   "metadata": {},
   "outputs": [
    {
     "data": {
      "text/plain": [
       "0       please\n",
       "1    lowercase\n",
       "2        these\n",
       "3      strings\n",
       "dtype: object"
      ]
     },
     "execution_count": 21,
     "metadata": {},
     "output_type": "execute_result"
    }
   ],
   "source": [
    "# .lower to lowercase strings\n",
    "shouts = pd.Series([\"PLEASE\", \"LOWERCASE\", \"THESE\", \"STRINGS\"])\n",
    "not_shouts = shouts.str.lower()\n",
    "not_shouts"
   ]
  },
  {
   "cell_type": "code",
   "execution_count": 22,
   "id": "6c9a31bf",
   "metadata": {},
   "outputs": [
    {
     "data": {
      "text/plain": [
       "0      5.995.99\n",
       "1    12.2512.25\n",
       "2          9595\n",
       "dtype: object"
      ]
     },
     "execution_count": 22,
     "metadata": {},
     "output_type": "execute_result"
    }
   ],
   "source": [
    "# Using .replace to replace characters (also used to remove characters)\n",
    "prices = pd.Series([\"€5.99\", \"€12.25\", \"€95\"])\n",
    "\n",
    "# Be sure to reassign the variable\n",
    "prices = prices.str.replace(\"€\", \"\")\n",
    "\n",
    "# But our data type is still a string\n",
    "prices * 2"
   ]
  },
  {
   "cell_type": "code",
   "execution_count": 23,
   "id": "9e9f7fdb",
   "metadata": {},
   "outputs": [
    {
     "data": {
      "text/plain": [
       "0     11.98\n",
       "1     24.50\n",
       "2    190.00\n",
       "dtype: float64"
      ]
     },
     "execution_count": 23,
     "metadata": {},
     "output_type": "execute_result"
    }
   ],
   "source": [
    "# Use .astype to convert a number in a string to a numeric data type\n",
    "prices = prices.astype(float)\n",
    "prices * 2"
   ]
  },
  {
   "cell_type": "code",
   "execution_count": 24,
   "id": "389c1f3d",
   "metadata": {},
   "outputs": [
    {
     "data": {
      "text/plain": [
       "0        APPLE\n",
       "1       BANANA\n",
       "2    BLUEBERRY\n",
       "3    CRANBERRY\n",
       "4        LEMON\n",
       "5         LIME\n",
       "6       ORANGE\n",
       "7    PINEAPPLE\n",
       "8    RASPBERRY\n",
       "dtype: object"
      ]
     },
     "execution_count": 24,
     "metadata": {},
     "output_type": "execute_result"
    }
   ],
   "source": [
    "# .upper to uppercase\n",
    "fruits.str.upper()"
   ]
  },
  {
   "cell_type": "markdown",
   "id": "7a4cd454",
   "metadata": {},
   "source": [
    "## Further Reading\n",
    "- [Pandas user guide for text](https://pandas.pydata.org/docs/user_guide/text.html)\n",
    "- [Pandas user guide](https://pandas.pydata.org/docs/user_guide/basics.html)"
   ]
  },
  {
   "cell_type": "markdown",
   "id": "ffced508",
   "metadata": {},
   "source": [
    "## Exercises\n",
    "- Create a series named `vegetables` using the list of strings `[\"Onion\", \"cucumber\", \"Carrot\", \"squash\", \"Potato\", \"Asperagus\", \"kale\", \"Broccoli\", \"spinach\"]`\n",
    "- Write the code necessary to lowercase all of the vegetables and reassign your series.\n",
    "- Write the pandas code to sort the strings in alphabetical order. Ensure that the series stores the sorted order\n",
    "- Write the pandas code to show only the vegetables that start with a vowel.\n",
    "- Write the pandas code to show the vegetables that have exactly two vowels\n",
    "<br><br>\n",
    "- Now make a new series named `prices` that holds `[\"$2.99\", \"$1,200.25\", \"$5.99\", \"$2,350.00\"]`\n",
    "- Reassign `prices` to hold only a string of numbers. Remove the `$` and `,` characters.\n",
    "- Reassign `prices` to be a float data type\n",
    "- Now multiply your `prices` series by `0.9`"
   ]
  },
  {
   "cell_type": "code",
   "execution_count": 25,
   "id": "b2e77e42",
   "metadata": {},
   "outputs": [],
   "source": [
    "# Create a series of vegetables [\"Onion\", \"cucumber\", \"Carrot\", \"squash\", \"Potato\", \"Asperagus\", \"kale\", \"Broccoli\", \"spinach\"]\n"
   ]
  },
  {
   "cell_type": "code",
   "execution_count": 26,
   "id": "6fdef38f",
   "metadata": {},
   "outputs": [],
   "source": [
    "# Write the code necessary to lowercase all of the vegetables and reassign your series.\n"
   ]
  },
  {
   "cell_type": "code",
   "execution_count": 27,
   "id": "64940068",
   "metadata": {},
   "outputs": [],
   "source": [
    "# Write the pandas code to sort the strings in alphabetical order. Ensure that the series stores the sorted order\n"
   ]
  },
  {
   "cell_type": "code",
   "execution_count": 28,
   "id": "5e60cb3e",
   "metadata": {},
   "outputs": [],
   "source": [
    "# Write the pandas code to show only the vegetables that start with a vowel\n"
   ]
  },
  {
   "cell_type": "code",
   "execution_count": 29,
   "id": "76d58987",
   "metadata": {},
   "outputs": [],
   "source": [
    "# Write the pandas code to show the vegetables that have exactly two vowels\n"
   ]
  },
  {
   "cell_type": "code",
   "execution_count": 30,
   "id": "e320ce68",
   "metadata": {},
   "outputs": [],
   "source": [
    "# Make a new series named prices that holds [\"$2.99\", \"$1,200.25\", \"$5.99\", \"$2,350.00\"]\n"
   ]
  },
  {
   "cell_type": "code",
   "execution_count": 31,
   "id": "73e26b55",
   "metadata": {},
   "outputs": [],
   "source": [
    "# Reassign prices to hold only a string of numbers. Remove the $ and , characters.\n"
   ]
  },
  {
   "cell_type": "code",
   "execution_count": 32,
   "id": "6344fc74",
   "metadata": {},
   "outputs": [],
   "source": [
    "# Reassign prices to be a float data type\n"
   ]
  },
  {
   "cell_type": "code",
   "execution_count": 33,
   "id": "33e1a413",
   "metadata": {},
   "outputs": [],
   "source": [
    "# Multiply your prices series by 0.9\n"
   ]
  },
  {
   "cell_type": "code",
   "execution_count": null,
   "id": "b0291401",
   "metadata": {},
   "outputs": [],
   "source": []
  }
 ],
 "metadata": {
  "kernelspec": {
   "display_name": "Python 3 (ipykernel)",
   "language": "python",
   "name": "python3"
  },
  "language_info": {
   "codemirror_mode": {
    "name": "ipython",
    "version": 3
   },
   "file_extension": ".py",
   "mimetype": "text/x-python",
   "name": "python",
   "nbconvert_exporter": "python",
   "pygments_lexer": "ipython3",
   "version": "3.9.7"
  }
 },
 "nbformat": 4,
 "nbformat_minor": 5
}
