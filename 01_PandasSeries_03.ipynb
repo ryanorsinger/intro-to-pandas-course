{
 "cells": [
  {
   "cell_type": "markdown",
   "id": "cecbf3a7",
   "metadata": {},
   "source": [
    "# Intro to Pandas\n",
    "by Ryan Orsinger"
   ]
  },
  {
   "cell_type": "markdown",
   "id": "b6533591",
   "metadata": {},
   "source": [
    "## Module 1: Intro to pandas series\n",
    "\n",
    "### Pandas Series Part 3: Strings\n",
    "- Sorting values\n",
    "- Using pandas built-in string methods\n",
    "- Assigning and reassigining results\n",
    "- Using string methods for data cleaning\n",
    "- Updating data types"
   ]
  },
  {
   "cell_type": "code",
   "execution_count": null,
   "id": "80f405f4",
   "metadata": {},
   "outputs": [],
   "source": [
    "import pandas as pd"
   ]
  },
  {
   "cell_type": "code",
   "execution_count": null,
   "id": "19e75b5c",
   "metadata": {},
   "outputs": [],
   "source": [
    "fruits = pd.Series([\"apple\", \"orange\", \"banana\", \"lemon\", \"lime\", \"pineapple\", \"blueberry\", \"raspberry\", \"cranberry\"])\n",
    "fruits"
   ]
  },
  {
   "cell_type": "code",
   "execution_count": null,
   "id": "d1ac5b21",
   "metadata": {},
   "outputs": [],
   "source": [
    "# .sort_values sorts strings alphabetically or numbers in numerical order\n",
    "# fruits.sort_values(ascending=True) the default sort order\n",
    "fruits.sort_values()"
   ]
  },
  {
   "cell_type": "code",
   "execution_count": null,
   "id": "82249142",
   "metadata": {},
   "outputs": [],
   "source": [
    "fruits.sort_values(ascending=False)"
   ]
  },
  {
   "cell_type": "code",
   "execution_count": null,
   "id": "838bda26",
   "metadata": {},
   "outputs": [],
   "source": [
    "# Use inplace=True to operate on the original\n",
    "# For more on .sort_values, see https://pandas.pydata.org/docs/reference/api/pandas.DataFrame.sort_values.html\n",
    "fruits = fruits.sort_values()\n",
    "fruits"
   ]
  },
  {
   "cell_type": "code",
   "execution_count": null,
   "id": "68158ca0",
   "metadata": {},
   "outputs": [],
   "source": [
    "# We can reassign the series to hold the sorted values\n",
    "# For more on .sort_values, see https://pandas.pydata.org/docs/reference/api/pandas.DataFrame.sort_values.html\n",
    "fruits = fruits.sort_values(ignore_index=True)\n",
    "fruits"
   ]
  },
  {
   "cell_type": "code",
   "execution_count": null,
   "id": "c17c5bdd",
   "metadata": {},
   "outputs": [],
   "source": [
    "# .capitalize to capitalize\n",
    "fruits.str.capitalize()"
   ]
  },
  {
   "cell_type": "code",
   "execution_count": null,
   "id": "3f1b18c8",
   "metadata": {},
   "outputs": [],
   "source": [
    "fruits"
   ]
  },
  {
   "cell_type": "code",
   "execution_count": null,
   "id": "083b9b39",
   "metadata": {},
   "outputs": [],
   "source": [
    "# String operations keep the original series intact, so we reassign to update\n",
    "capitalized_fruits = fruits.str.capitalize()\n",
    "capitalized_fruits"
   ]
  },
  {
   "cell_type": "code",
   "execution_count": null,
   "id": "fc19376f",
   "metadata": {},
   "outputs": [],
   "source": [
    "# .contains returns a boolean series\n",
    "# Always remember to use .str or your results will be in error\n",
    "fruits.str.contains(\"apple\")"
   ]
  },
  {
   "cell_type": "code",
   "execution_count": null,
   "id": "79dca530",
   "metadata": {},
   "outputs": [],
   "source": [
    "# Since .contains returns a Boolean series, we can use it to filter our results\n",
    "fruits[fruits.str.contains(\"apple\")]"
   ]
  },
  {
   "cell_type": "code",
   "execution_count": null,
   "id": "00eceac9",
   "metadata": {},
   "outputs": [],
   "source": [
    "# .count to count substring occurrences\n",
    "fruits.str.count(\"a\")"
   ]
  },
  {
   "cell_type": "code",
   "execution_count": null,
   "id": "2bfa1b66",
   "metadata": {},
   "outputs": [],
   "source": [
    "fruits.str.count(\"berry\")"
   ]
  },
  {
   "cell_type": "code",
   "execution_count": null,
   "id": "b1cc2654",
   "metadata": {},
   "outputs": [],
   "source": [
    "# Summing up the results of .count\n",
    "vowel_counts = fruits.str.count(\"a\") + fruits.str.count(\"e\") + fruits.str.count(\"i\") + fruits.str.count(\"o\") + fruits.str.count(\"u\")\n",
    "vowel_counts"
   ]
  },
  {
   "cell_type": "code",
   "execution_count": null,
   "id": "4542f7f3",
   "metadata": {},
   "outputs": [],
   "source": [
    "# Using count with a Regular Expression character class\n",
    "# Some of the Pandas string methods can utilize regular expressions\n",
    "fruits.str.count(\"[aeiou]\")"
   ]
  },
  {
   "cell_type": "code",
   "execution_count": null,
   "id": "42da3ed0",
   "metadata": {},
   "outputs": [],
   "source": [
    "# We can use our new vowel count to filter values from the series\n",
    "fruits[fruits.str.count(\"[aeiou]\") > 2]"
   ]
  },
  {
   "cell_type": "code",
   "execution_count": null,
   "id": "c4b02a88",
   "metadata": {},
   "outputs": [],
   "source": [
    "# .startswith returns a Boolean series\n",
    "fruits.str.startswith(\"l\")"
   ]
  },
  {
   "cell_type": "code",
   "execution_count": null,
   "id": "01c8b698",
   "metadata": {},
   "outputs": [],
   "source": [
    "fruits[fruits.str.startswith(\"l\")]"
   ]
  },
  {
   "cell_type": "code",
   "execution_count": null,
   "id": "d3bc4f8e",
   "metadata": {},
   "outputs": [],
   "source": [
    "# .endswith returns a Boolean series\n",
    "fruits.str.endswith(\"berry\")"
   ]
  },
  {
   "cell_type": "code",
   "execution_count": null,
   "id": "f265989a",
   "metadata": {},
   "outputs": [],
   "source": [
    "# .len to get the length of the string\n",
    "fruits.str.len()"
   ]
  },
  {
   "cell_type": "code",
   "execution_count": null,
   "id": "25d7992c",
   "metadata": {},
   "outputs": [],
   "source": [
    "# .lower to lowercase strings\n",
    "shouts = pd.Series([\"PLEASE\", \"LOWERCASE\", \"THESE\", \"STRINGS\"])\n",
    "not_shouts = shouts.str.lower()\n",
    "not_shouts"
   ]
  },
  {
   "cell_type": "code",
   "execution_count": null,
   "id": "6c9a31bf",
   "metadata": {},
   "outputs": [],
   "source": [
    "# Using .replace to replace characters (also used to remove characters)\n",
    "prices = pd.Series([\"€5.99\", \"€12.25\", \"€95\"])\n",
    "\n",
    "# Be sure to reassign the variable\n",
    "prices = prices.str.replace(\"€\", \"\")\n",
    "\n",
    "# But our data type is still a string\n",
    "prices * 2"
   ]
  },
  {
   "cell_type": "code",
   "execution_count": null,
   "id": "9e9f7fdb",
   "metadata": {},
   "outputs": [],
   "source": [
    "# Use .astype to convert a number in a string to a numeric data type\n",
    "prices = prices.astype(float)\n",
    "prices * 2"
   ]
  },
  {
   "cell_type": "code",
   "execution_count": null,
   "id": "389c1f3d",
   "metadata": {},
   "outputs": [],
   "source": [
    "# .upper to uppercase\n",
    "fruits.str.upper()"
   ]
  },
  {
   "cell_type": "markdown",
   "id": "7a4cd454",
   "metadata": {},
   "source": [
    "## Further Reading\n",
    "- [Pandas user guide for text](https://pandas.pydata.org/docs/user_guide/text.html)\n",
    "- [Pandas user guide](https://pandas.pydata.org/docs/user_guide/basics.html)"
   ]
  },
  {
   "cell_type": "markdown",
   "id": "ffced508",
   "metadata": {},
   "source": [
    "## Exercises\n",
    "- Create a series named `vegetables` using the list of strings `[\"Onion\", \"cucumber\", \"Carrot\", \"squash\", \"Potato\", \"Asperagus\", \"kale\", \"Broccoli\", \"spinach\"]`\n",
    "- Write the code necessary to lowercase all of the vegetables and reassign your series.\n",
    "- Write the pandas code to sort the strings in alphabetical order. Ensure that the series stores the sorted order\n",
    "- Write the pandas code to show only the vegetables that start with a vowel.\n",
    "- Write the pandas code to show the vegetables that have exactly two vowels\n",
    "<br><br>\n",
    "- Now make a new series named `prices` that holds `[\"$2.99\", \"$1,200.25\", \"$5.99\", \"$2,350.00\"]`\n",
    "- Reassign `prices` to hold only a string of numbers. Remove the `$` and `,` characters.\n",
    "- Reassign `prices` to be a float data type\n",
    "- Now multiply your `prices` series by `0.9`"
   ]
  },
  {
   "cell_type": "code",
   "execution_count": null,
   "id": "b2e77e42",
   "metadata": {},
   "outputs": [],
   "source": [
    "# Create a series of vegetables [\"Onion\", \"cucumber\", \"Carrot\", \"squash\", \"Potato\", \"Asperagus\", \"kale\", \"Broccoli\", \"spinach\"]\n"
   ]
  },
  {
   "cell_type": "code",
   "execution_count": null,
   "id": "6fdef38f",
   "metadata": {},
   "outputs": [],
   "source": [
    "# Write the code necessary to lowercase all of the vegetables and reassign your series.\n"
   ]
  },
  {
   "cell_type": "code",
   "execution_count": null,
   "id": "64940068",
   "metadata": {},
   "outputs": [],
   "source": [
    "# Write the pandas code to sort the strings in alphabetical order. Ensure that the series stores the sorted order\n"
   ]
  },
  {
   "cell_type": "code",
   "execution_count": null,
   "id": "5e60cb3e",
   "metadata": {},
   "outputs": [],
   "source": [
    "# Write the pandas code to show only the vegetables that start with a vowel\n"
   ]
  },
  {
   "cell_type": "code",
   "execution_count": null,
   "id": "76d58987",
   "metadata": {},
   "outputs": [],
   "source": [
    "# Write the pandas code to show the vegetables that have exactly two vowels\n"
   ]
  },
  {
   "cell_type": "code",
   "execution_count": null,
   "id": "e320ce68",
   "metadata": {},
   "outputs": [],
   "source": [
    "# Make a new series named prices that holds [\"$2.99\", \"$1,200.25\", \"$5.99\", \"$2,350.00\"]\n"
   ]
  },
  {
   "cell_type": "code",
   "execution_count": null,
   "id": "73e26b55",
   "metadata": {},
   "outputs": [],
   "source": [
    "# Reassign prices to hold only a string of numbers. Remove the $ and , characters.\n"
   ]
  },
  {
   "cell_type": "code",
   "execution_count": null,
   "id": "6344fc74",
   "metadata": {},
   "outputs": [],
   "source": [
    "# Reassign prices to be a float data type\n"
   ]
  },
  {
   "cell_type": "code",
   "execution_count": null,
   "id": "33e1a413",
   "metadata": {},
   "outputs": [],
   "source": [
    "# Multiply your prices series by 0.9\n"
   ]
  },
  {
   "cell_type": "code",
   "execution_count": null,
   "id": "b0291401",
   "metadata": {},
   "outputs": [],
   "source": []
  }
 ],
 "metadata": {
  "kernelspec": {
   "display_name": "Python 3 (ipykernel)",
   "language": "python",
   "name": "python3"
  },
  "language_info": {
   "codemirror_mode": {
    "name": "ipython",
    "version": 3
   },
   "file_extension": ".py",
   "mimetype": "text/x-python",
   "name": "python",
   "nbconvert_exporter": "python",
   "pygments_lexer": "ipython3",
   "version": "3.9.7"
  }
 },
 "nbformat": 4,
 "nbformat_minor": 5
}
