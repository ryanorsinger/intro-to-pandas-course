{
 "cells": [
  {
   "cell_type": "markdown",
   "id": "2a8d7950",
   "metadata": {},
   "source": [
    "- .isna\n",
    "- .fillna\n",
    "- .map for transforming values and/or normalizing values\n",
    "- str.split() on a single column containing multiple columns of data (maybe move this to tidy data?)\n",
    "- IQR range rule\n",
    "- 3 sigma rule\n",
    "- working with dates/datetime"
   ]
  },
  {
   "cell_type": "code",
   "execution_count": null,
   "id": "f5e19d32",
   "metadata": {},
   "outputs": [],
   "source": []
  }
 ],
 "metadata": {
  "kernelspec": {
   "display_name": "Python 3 (ipykernel)",
   "language": "python",
   "name": "python3"
  },
  "language_info": {
   "codemirror_mode": {
    "name": "ipython",
    "version": 3
   },
   "file_extension": ".py",
   "mimetype": "text/x-python",
   "name": "python",
   "nbconvert_exporter": "python",
   "pygments_lexer": "ipython3",
   "version": "3.9.7"
  }
 },
 "nbformat": 4,
 "nbformat_minor": 5
}
