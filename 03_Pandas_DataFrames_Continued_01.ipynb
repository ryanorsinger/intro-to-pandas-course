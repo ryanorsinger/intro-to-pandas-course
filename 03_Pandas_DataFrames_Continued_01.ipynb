{
 "cells": [
  {
   "cell_type": "markdown",
   "id": "ae0a5ad5",
   "metadata": {},
   "source": [
    "# Intro to Pandas\n",
    "by Ryan Orsinger"
   ]
  },
  {
   "cell_type": "markdown",
   "id": "efbbdb31",
   "metadata": {},
   "source": [
    "## Module 3: DataFrames Continued\n",
    "\n",
    "### Pandas DataFrames Continued - Identifying Missing Values\n",
    "- Identifying and counting missing values\n",
    "- Removing rows with missing information\n",
    "- Dropping columns from a DataFrame"
   ]
  },
  {
   "cell_type": "code",
   "execution_count": 12,
   "id": "fda235a9",
   "metadata": {},
   "outputs": [],
   "source": [
    "import pandas as pd"
   ]
  },
  {
   "cell_type": "code",
   "execution_count": 13,
   "id": "cd800ff1",
   "metadata": {},
   "outputs": [
    {
     "data": {
      "text/html": [
       "<div>\n",
       "<style scoped>\n",
       "    .dataframe tbody tr th:only-of-type {\n",
       "        vertical-align: middle;\n",
       "    }\n",
       "\n",
       "    .dataframe tbody tr th {\n",
       "        vertical-align: top;\n",
       "    }\n",
       "\n",
       "    .dataframe thead th {\n",
       "        text-align: right;\n",
       "    }\n",
       "</style>\n",
       "<table border=\"1\" class=\"dataframe\">\n",
       "  <thead>\n",
       "    <tr style=\"text-align: right;\">\n",
       "      <th></th>\n",
       "      <th>serving_size</th>\n",
       "      <th>calories</th>\n",
       "      <th>fat</th>\n",
       "      <th>sodium</th>\n",
       "      <th>price</th>\n",
       "      <th>discount</th>\n",
       "    </tr>\n",
       "    <tr>\n",
       "      <th>item</th>\n",
       "      <th></th>\n",
       "      <th></th>\n",
       "      <th></th>\n",
       "      <th></th>\n",
       "      <th></th>\n",
       "      <th></th>\n",
       "    </tr>\n",
       "  </thead>\n",
       "  <tbody>\n",
       "    <tr>\n",
       "      <th>crackers</th>\n",
       "      <td>4 crackers</td>\n",
       "      <td>10.0</td>\n",
       "      <td>1.1g</td>\n",
       "      <td>125mg</td>\n",
       "      <td>2.99</td>\n",
       "      <td>None</td>\n",
       "    </tr>\n",
       "    <tr>\n",
       "      <th>club soda</th>\n",
       "      <td>8 oz</td>\n",
       "      <td>NaN</td>\n",
       "      <td>None</td>\n",
       "      <td>75mg</td>\n",
       "      <td>2.25</td>\n",
       "      <td>None</td>\n",
       "    </tr>\n",
       "    <tr>\n",
       "      <th>apple</th>\n",
       "      <td>2</td>\n",
       "      <td>95.0</td>\n",
       "      <td>None</td>\n",
       "      <td>None</td>\n",
       "      <td>1.99</td>\n",
       "      <td>None</td>\n",
       "    </tr>\n",
       "    <tr>\n",
       "      <th>banana</th>\n",
       "      <td>3</td>\n",
       "      <td>105.0</td>\n",
       "      <td>0.4g</td>\n",
       "      <td>1mg</td>\n",
       "      <td>NaN</td>\n",
       "      <td>None</td>\n",
       "    </tr>\n",
       "    <tr>\n",
       "      <th>spam</th>\n",
       "      <td>1 tin</td>\n",
       "      <td>NaN</td>\n",
       "      <td>None</td>\n",
       "      <td>None</td>\n",
       "      <td>NaN</td>\n",
       "      <td>None</td>\n",
       "    </tr>\n",
       "  </tbody>\n",
       "</table>\n",
       "</div>"
      ],
      "text/plain": [
       "          serving_size  calories   fat sodium  price discount\n",
       "item                                                         \n",
       "crackers    4 crackers      10.0  1.1g  125mg   2.99     None\n",
       "club soda         8 oz       NaN  None   75mg   2.25     None\n",
       "apple                2      95.0  None   None   1.99     None\n",
       "banana               3     105.0  0.4g    1mg    NaN     None\n",
       "spam             1 tin       NaN  None   None    NaN     None"
      ]
     },
     "execution_count": 13,
     "metadata": {},
     "output_type": "execute_result"
    }
   ],
   "source": [
    "# Let's generate some data with missing values. \n",
    "# Real world data often has missing values\n",
    "df = pd.DataFrame([\n",
    "    {\n",
    "        \"item\": \"crackers\",\n",
    "        \"serving_size\": \"4 crackers\",\n",
    "        \"calories\": 10,\n",
    "        \"fat\": \"1.1g\",\n",
    "        \"sodium\": \"125mg\",\n",
    "        \"price\": 2.99,\n",
    "        \"discount\": None\n",
    "    },\n",
    "    {\n",
    "        \"item\": \"club soda\",\n",
    "        \"serving_size\": \"8 oz\",\n",
    "        \"calories\": None,\n",
    "        \"fat\": None,\n",
    "        \"sodium\": \"75mg\",\n",
    "        \"price\": 2.25,\n",
    "        \"discount\": None\n",
    "\n",
    "    },\n",
    "    {\n",
    "        \"item\": \"apple\",\n",
    "        \"serving_size\": 2,\n",
    "        \"calories\": 95,\n",
    "        \"fat\": None,\n",
    "        \"sodium\": None,\n",
    "        \"price\": 1.99,\n",
    "        \"discount\": None\n",
    "    },\n",
    "    {\n",
    "        \"item\": \"banana\",\n",
    "        \"serving_size\": 3,\n",
    "        \"calories\": 105,\n",
    "        \"fat\": \"0.4g\",\n",
    "        \"sodium\": \"1mg\",\n",
    "        \"price\": None,\n",
    "        \"discount\": None\n",
    "    },\n",
    "    {\n",
    "        \"item\": \"spam\",\n",
    "        \"serving_size\": \"1 tin\",\n",
    "        \"calories\": None,\n",
    "        \"fat\": None,\n",
    "        \"sodium\": None,\n",
    "        \"price\": None,\n",
    "        \"discount\": None\n",
    "    }\n",
    "])\n",
    "\n",
    "# Set the index to be the item name\n",
    "df.set_index(\"item\", inplace=True)\n",
    "df"
   ]
  },
  {
   "cell_type": "code",
   "execution_count": 14,
   "id": "1e32b1c6",
   "metadata": {},
   "outputs": [
    {
     "name": "stdout",
     "output_type": "stream",
     "text": [
      "<class 'pandas.core.frame.DataFrame'>\n",
      "Index: 5 entries, crackers to spam\n",
      "Data columns (total 6 columns):\n",
      " #   Column        Non-Null Count  Dtype  \n",
      "---  ------        --------------  -----  \n",
      " 0   serving_size  5 non-null      object \n",
      " 1   calories      3 non-null      float64\n",
      " 2   fat           2 non-null      object \n",
      " 3   sodium        3 non-null      object \n",
      " 4   price         3 non-null      float64\n",
      " 5   discount      0 non-null      object \n",
      "dtypes: float64(2), object(4)\n",
      "memory usage: 280.0+ bytes\n"
     ]
    }
   ],
   "source": [
    "# The .info method outputs data types and non-null value count\n",
    "df.info()"
   ]
  },
  {
   "cell_type": "code",
   "execution_count": 10,
   "id": "a87461c1",
   "metadata": {},
   "outputs": [
    {
     "data": {
      "text/plain": [
       "item\n",
       "crackers      10.0\n",
       "club soda      NaN\n",
       "apple         95.0\n",
       "banana       105.0\n",
       "spam           NaN\n",
       "Name: calories, dtype: float64"
      ]
     },
     "execution_count": 10,
     "metadata": {},
     "output_type": "execute_result"
    }
   ],
   "source": [
    "# Notice that missing values in a numeric column show as NaN, which means \"not a number\"\n",
    "# For more on NaN, see https://en.wikipedia.org/wiki/NaN\n",
    "df.calories"
   ]
  },
  {
   "cell_type": "code",
   "execution_count": 11,
   "id": "3ff30bf8",
   "metadata": {},
   "outputs": [
    {
     "data": {
      "text/plain": [
       "70.0"
      ]
     },
     "execution_count": 11,
     "metadata": {},
     "output_type": "execute_result"
    }
   ],
   "source": [
    "# NaN exists to allow us to do math without getting execution errors\n",
    "# Many math functions ignore NaNs\n",
    "df.calories.mean()"
   ]
  },
  {
   "cell_type": "code",
   "execution_count": 20,
   "id": "ef7484b6",
   "metadata": {},
   "outputs": [
    {
     "data": {
      "text/plain": [
       "125mg    1\n",
       "75mg     1\n",
       "1mg      1\n",
       "Name: sodium, dtype: int64"
      ]
     },
     "execution_count": 20,
     "metadata": {},
     "output_type": "execute_result"
    }
   ],
   "source": [
    "# By default, .value_counts ignores NaNs, too\n",
    "df.sodium.value_counts()"
   ]
  },
  {
   "cell_type": "code",
   "execution_count": 21,
   "id": "5b08a6a3",
   "metadata": {},
   "outputs": [
    {
     "data": {
      "text/plain": [
       "None     2\n",
       "125mg    1\n",
       "75mg     1\n",
       "1mg      1\n",
       "Name: sodium, dtype: int64"
      ]
     },
     "execution_count": 21,
     "metadata": {},
     "output_type": "execute_result"
    }
   ],
   "source": [
    "# Use dropna=False to count missing values\n",
    "df.sodium.value_counts(dropna=False)"
   ]
  },
  {
   "cell_type": "code",
   "execution_count": 6,
   "id": "7067d296",
   "metadata": {},
   "outputs": [
    {
     "data": {
      "text/plain": [
       "item\n",
       "crackers     1.1g\n",
       "club soda    None\n",
       "apple        None\n",
       "banana       0.4g\n",
       "spam         None\n",
       "Name: fat, dtype: object"
      ]
     },
     "execution_count": 6,
     "metadata": {},
     "output_type": "execute_result"
    }
   ],
   "source": [
    "# Notice that missing values in a string/object column show as None\n",
    "df.fat"
   ]
  },
  {
   "cell_type": "code",
   "execution_count": 7,
   "id": "6287b882",
   "metadata": {},
   "outputs": [
    {
     "data": {
      "text/plain": [
       "item\n",
       "crackers     False\n",
       "club soda    False\n",
       "apple         True\n",
       "banana       False\n",
       "spam          True\n",
       "Name: sodium, dtype: bool"
      ]
     },
     "execution_count": 7,
     "metadata": {},
     "output_type": "execute_result"
    }
   ],
   "source": [
    "# .isna() can operate on a column, returning a boolean series\n",
    "df.sodium.isna()"
   ]
  },
  {
   "cell_type": "code",
   "execution_count": 8,
   "id": "aa29eb00",
   "metadata": {},
   "outputs": [
    {
     "data": {
      "text/html": [
       "<div>\n",
       "<style scoped>\n",
       "    .dataframe tbody tr th:only-of-type {\n",
       "        vertical-align: middle;\n",
       "    }\n",
       "\n",
       "    .dataframe tbody tr th {\n",
       "        vertical-align: top;\n",
       "    }\n",
       "\n",
       "    .dataframe thead th {\n",
       "        text-align: right;\n",
       "    }\n",
       "</style>\n",
       "<table border=\"1\" class=\"dataframe\">\n",
       "  <thead>\n",
       "    <tr style=\"text-align: right;\">\n",
       "      <th></th>\n",
       "      <th>serving_size</th>\n",
       "      <th>calories</th>\n",
       "      <th>fat</th>\n",
       "      <th>sodium</th>\n",
       "      <th>price</th>\n",
       "      <th>discount</th>\n",
       "    </tr>\n",
       "    <tr>\n",
       "      <th>item</th>\n",
       "      <th></th>\n",
       "      <th></th>\n",
       "      <th></th>\n",
       "      <th></th>\n",
       "      <th></th>\n",
       "      <th></th>\n",
       "    </tr>\n",
       "  </thead>\n",
       "  <tbody>\n",
       "    <tr>\n",
       "      <th>crackers</th>\n",
       "      <td>False</td>\n",
       "      <td>False</td>\n",
       "      <td>False</td>\n",
       "      <td>False</td>\n",
       "      <td>False</td>\n",
       "      <td>True</td>\n",
       "    </tr>\n",
       "    <tr>\n",
       "      <th>club soda</th>\n",
       "      <td>False</td>\n",
       "      <td>True</td>\n",
       "      <td>True</td>\n",
       "      <td>False</td>\n",
       "      <td>False</td>\n",
       "      <td>True</td>\n",
       "    </tr>\n",
       "    <tr>\n",
       "      <th>apple</th>\n",
       "      <td>False</td>\n",
       "      <td>False</td>\n",
       "      <td>True</td>\n",
       "      <td>True</td>\n",
       "      <td>False</td>\n",
       "      <td>True</td>\n",
       "    </tr>\n",
       "    <tr>\n",
       "      <th>banana</th>\n",
       "      <td>False</td>\n",
       "      <td>False</td>\n",
       "      <td>False</td>\n",
       "      <td>False</td>\n",
       "      <td>True</td>\n",
       "      <td>True</td>\n",
       "    </tr>\n",
       "    <tr>\n",
       "      <th>spam</th>\n",
       "      <td>False</td>\n",
       "      <td>True</td>\n",
       "      <td>True</td>\n",
       "      <td>True</td>\n",
       "      <td>True</td>\n",
       "      <td>True</td>\n",
       "    </tr>\n",
       "  </tbody>\n",
       "</table>\n",
       "</div>"
      ],
      "text/plain": [
       "           serving_size  calories    fat  sodium  price  discount\n",
       "item                                                             \n",
       "crackers          False     False  False   False  False      True\n",
       "club soda         False      True   True   False  False      True\n",
       "apple             False     False   True    True  False      True\n",
       "banana            False     False  False   False   True      True\n",
       "spam              False      True   True    True   True      True"
      ]
     },
     "execution_count": 8,
     "metadata": {},
     "output_type": "execute_result"
    }
   ],
   "source": [
    "# .isna() can also operate on the entire dataframe\n",
    "df.isna()"
   ]
  },
  {
   "cell_type": "code",
   "execution_count": 9,
   "id": "32feee21",
   "metadata": {},
   "outputs": [
    {
     "name": "stdout",
     "output_type": "stream",
     "text": [
      "Number of nulls by column\n"
     ]
    },
    {
     "data": {
      "text/plain": [
       "serving_size    0\n",
       "calories        2\n",
       "fat             3\n",
       "sodium          2\n",
       "price           2\n",
       "discount        5\n",
       "dtype: int64"
      ]
     },
     "execution_count": 9,
     "metadata": {},
     "output_type": "execute_result"
    }
   ],
   "source": [
    "# Counting the number of nulls by column\n",
    "print(\"Number of nulls by column\")\n",
    "df.isna().sum()"
   ]
  },
  {
   "cell_type": "code",
   "execution_count": 10,
   "id": "bf9eee13",
   "metadata": {},
   "outputs": [
    {
     "name": "stdout",
     "output_type": "stream",
     "text": [
      "Proportion of nulls by column\n"
     ]
    },
    {
     "data": {
      "text/plain": [
       "serving_size    0.0\n",
       "calories        0.4\n",
       "fat             0.6\n",
       "sodium          0.4\n",
       "price           0.4\n",
       "discount        1.0\n",
       "dtype: float64"
      ]
     },
     "execution_count": 10,
     "metadata": {},
     "output_type": "execute_result"
    }
   ],
   "source": [
    "print(\"Proportion of nulls by column\")\n",
    "df.isna().mean()"
   ]
  },
  {
   "cell_type": "code",
   "execution_count": 11,
   "id": "1e9fb285",
   "metadata": {},
   "outputs": [
    {
     "name": "stdout",
     "output_type": "stream",
     "text": [
      "Number of nulls by row\n"
     ]
    },
    {
     "data": {
      "text/plain": [
       "item\n",
       "crackers     1\n",
       "club soda    3\n",
       "apple        3\n",
       "banana       2\n",
       "spam         5\n",
       "dtype: int64"
      ]
     },
     "execution_count": 11,
     "metadata": {},
     "output_type": "execute_result"
    }
   ],
   "source": [
    "# Counting the number of nulls by row\n",
    "# Recall that .sum can run on columns or by row, by row with axis=1\n",
    "print(\"Number of nulls by row\")\n",
    "df.isna().sum(axis=1)"
   ]
  },
  {
   "cell_type": "code",
   "execution_count": 12,
   "id": "96a32b29",
   "metadata": {},
   "outputs": [
    {
     "name": "stdout",
     "output_type": "stream",
     "text": [
      "Proportion of nulls by row\n"
     ]
    },
    {
     "data": {
      "text/plain": [
       "item\n",
       "crackers     0.166667\n",
       "club soda    0.500000\n",
       "apple        0.500000\n",
       "banana       0.333333\n",
       "spam         0.833333\n",
       "dtype: float64"
      ]
     },
     "execution_count": 12,
     "metadata": {},
     "output_type": "execute_result"
    }
   ],
   "source": [
    "# Proportion of the number of nulls by row\n",
    "# Recall that .sum can run on columns or by row, by row with axis=1\n",
    "print(\"Proportion of nulls by row\")\n",
    "df.isna().mean(axis=1)"
   ]
  },
  {
   "cell_type": "markdown",
   "id": "ccad9754",
   "metadata": {},
   "source": [
    "### Handling Missing Values\n",
    "- There's no one right answer for all cases. \n",
    "- \"It depends\" is a common answer in data science. Context matters.\n",
    "- Sometimes missing values might mean zero, depending on the context, so we can fill in zero.\n",
    "- Sometimes, dropping entire rows or columns is appropriate\n",
    "- Other times, filling missing values with the mean, the median, the mode, or a likely value is appropriate"
   ]
  },
  {
   "cell_type": "code",
   "execution_count": 13,
   "id": "950304d1",
   "metadata": {},
   "outputs": [
    {
     "data": {
      "text/html": [
       "<div>\n",
       "<style scoped>\n",
       "    .dataframe tbody tr th:only-of-type {\n",
       "        vertical-align: middle;\n",
       "    }\n",
       "\n",
       "    .dataframe tbody tr th {\n",
       "        vertical-align: top;\n",
       "    }\n",
       "\n",
       "    .dataframe thead th {\n",
       "        text-align: right;\n",
       "    }\n",
       "</style>\n",
       "<table border=\"1\" class=\"dataframe\">\n",
       "  <thead>\n",
       "    <tr style=\"text-align: right;\">\n",
       "      <th></th>\n",
       "      <th>serving_size</th>\n",
       "      <th>calories</th>\n",
       "      <th>fat</th>\n",
       "      <th>sodium</th>\n",
       "      <th>price</th>\n",
       "      <th>discount</th>\n",
       "    </tr>\n",
       "    <tr>\n",
       "      <th>item</th>\n",
       "      <th></th>\n",
       "      <th></th>\n",
       "      <th></th>\n",
       "      <th></th>\n",
       "      <th></th>\n",
       "      <th></th>\n",
       "    </tr>\n",
       "  </thead>\n",
       "  <tbody>\n",
       "  </tbody>\n",
       "</table>\n",
       "</div>"
      ],
      "text/plain": [
       "Empty DataFrame\n",
       "Columns: [serving_size, calories, fat, sodium, price, discount]\n",
       "Index: []"
      ]
     },
     "execution_count": 13,
     "metadata": {},
     "output_type": "execute_result"
    }
   ],
   "source": [
    "# Example of removing null values \n",
    "# dropna drops every row with a null value\n",
    "# Since there is missing data in every row, this is quite destructive...\n",
    "# the default axis argument is axis=0, which means row-wise\n",
    "df.dropna()"
   ]
  },
  {
   "cell_type": "code",
   "execution_count": 14,
   "id": "24bb2a02",
   "metadata": {},
   "outputs": [
    {
     "data": {
      "text/html": [
       "<div>\n",
       "<style scoped>\n",
       "    .dataframe tbody tr th:only-of-type {\n",
       "        vertical-align: middle;\n",
       "    }\n",
       "\n",
       "    .dataframe tbody tr th {\n",
       "        vertical-align: top;\n",
       "    }\n",
       "\n",
       "    .dataframe thead th {\n",
       "        text-align: right;\n",
       "    }\n",
       "</style>\n",
       "<table border=\"1\" class=\"dataframe\">\n",
       "  <thead>\n",
       "    <tr style=\"text-align: right;\">\n",
       "      <th></th>\n",
       "      <th>serving_size</th>\n",
       "    </tr>\n",
       "    <tr>\n",
       "      <th>item</th>\n",
       "      <th></th>\n",
       "    </tr>\n",
       "  </thead>\n",
       "  <tbody>\n",
       "    <tr>\n",
       "      <th>crackers</th>\n",
       "      <td>4 crackers</td>\n",
       "    </tr>\n",
       "    <tr>\n",
       "      <th>club soda</th>\n",
       "      <td>8 oz</td>\n",
       "    </tr>\n",
       "    <tr>\n",
       "      <th>apple</th>\n",
       "      <td>2</td>\n",
       "    </tr>\n",
       "    <tr>\n",
       "      <th>banana</th>\n",
       "      <td>3</td>\n",
       "    </tr>\n",
       "    <tr>\n",
       "      <th>spam</th>\n",
       "      <td>1 tin</td>\n",
       "    </tr>\n",
       "  </tbody>\n",
       "</table>\n",
       "</div>"
      ],
      "text/plain": [
       "          serving_size\n",
       "item                  \n",
       "crackers    4 crackers\n",
       "club soda         8 oz\n",
       "apple                2\n",
       "banana               3\n",
       "spam             1 tin"
      ]
     },
     "execution_count": 14,
     "metadata": {},
     "output_type": "execute_result"
    }
   ],
   "source": [
    "# dropna(axis=1) drops all columns with any missing values\n",
    "# This is also too destructive to be helpful\n",
    "df.dropna(axis=1)"
   ]
  },
  {
   "cell_type": "code",
   "execution_count": 15,
   "id": "32693b55",
   "metadata": {},
   "outputs": [
    {
     "data": {
      "text/html": [
       "<div>\n",
       "<style scoped>\n",
       "    .dataframe tbody tr th:only-of-type {\n",
       "        vertical-align: middle;\n",
       "    }\n",
       "\n",
       "    .dataframe tbody tr th {\n",
       "        vertical-align: top;\n",
       "    }\n",
       "\n",
       "    .dataframe thead th {\n",
       "        text-align: right;\n",
       "    }\n",
       "</style>\n",
       "<table border=\"1\" class=\"dataframe\">\n",
       "  <thead>\n",
       "    <tr style=\"text-align: right;\">\n",
       "      <th></th>\n",
       "      <th>serving_size</th>\n",
       "      <th>calories</th>\n",
       "      <th>fat</th>\n",
       "      <th>sodium</th>\n",
       "      <th>price</th>\n",
       "      <th>discount</th>\n",
       "    </tr>\n",
       "    <tr>\n",
       "      <th>item</th>\n",
       "      <th></th>\n",
       "      <th></th>\n",
       "      <th></th>\n",
       "      <th></th>\n",
       "      <th></th>\n",
       "      <th></th>\n",
       "    </tr>\n",
       "  </thead>\n",
       "  <tbody>\n",
       "    <tr>\n",
       "      <th>crackers</th>\n",
       "      <td>4 crackers</td>\n",
       "      <td>10.0</td>\n",
       "      <td>1.1g</td>\n",
       "      <td>125mg</td>\n",
       "      <td>2.99</td>\n",
       "      <td>None</td>\n",
       "    </tr>\n",
       "    <tr>\n",
       "      <th>club soda</th>\n",
       "      <td>8 oz</td>\n",
       "      <td>NaN</td>\n",
       "      <td>None</td>\n",
       "      <td>75mg</td>\n",
       "      <td>2.25</td>\n",
       "      <td>None</td>\n",
       "    </tr>\n",
       "    <tr>\n",
       "      <th>apple</th>\n",
       "      <td>2</td>\n",
       "      <td>95.0</td>\n",
       "      <td>None</td>\n",
       "      <td>None</td>\n",
       "      <td>1.99</td>\n",
       "      <td>None</td>\n",
       "    </tr>\n",
       "    <tr>\n",
       "      <th>banana</th>\n",
       "      <td>3</td>\n",
       "      <td>105.0</td>\n",
       "      <td>0.4g</td>\n",
       "      <td>1mg</td>\n",
       "      <td>NaN</td>\n",
       "      <td>None</td>\n",
       "    </tr>\n",
       "    <tr>\n",
       "      <th>spam</th>\n",
       "      <td>1 tin</td>\n",
       "      <td>NaN</td>\n",
       "      <td>None</td>\n",
       "      <td>None</td>\n",
       "      <td>NaN</td>\n",
       "      <td>None</td>\n",
       "    </tr>\n",
       "  </tbody>\n",
       "</table>\n",
       "</div>"
      ],
      "text/plain": [
       "          serving_size  calories   fat sodium  price discount\n",
       "item                                                         \n",
       "crackers    4 crackers      10.0  1.1g  125mg   2.99     None\n",
       "club soda         8 oz       NaN  None   75mg   2.25     None\n",
       "apple                2      95.0  None   None   1.99     None\n",
       "banana               3     105.0  0.4g    1mg    NaN     None\n",
       "spam             1 tin       NaN  None   None    NaN     None"
      ]
     },
     "execution_count": 15,
     "metadata": {},
     "output_type": "execute_result"
    }
   ],
   "source": [
    "# Let's review the dataframe\n",
    "df.head()"
   ]
  },
  {
   "cell_type": "markdown",
   "id": "fcb7d08d",
   "metadata": {},
   "source": [
    "### Handling Missing Values is a Case in Creative Problem Solving\n",
    "- Could some missing values be a default like 0 or \"unknown\"\n",
    "- Based on the context, is there a logic you could apply to fill missing values?\n",
    "- Sometimes, analysts drop rows with too many missing values\n",
    "- Other times, analysts drop columns with too many missing values\n",
    "- Missing values can also be filled with a reasonable estimation, like a median, mean, or mode value.\n",
    "- Filling too many missing values can skew the original data"
   ]
  },
  {
   "cell_type": "code",
   "execution_count": 16,
   "id": "c113d076",
   "metadata": {},
   "outputs": [
    {
     "data": {
      "text/html": [
       "<div>\n",
       "<style scoped>\n",
       "    .dataframe tbody tr th:only-of-type {\n",
       "        vertical-align: middle;\n",
       "    }\n",
       "\n",
       "    .dataframe tbody tr th {\n",
       "        vertical-align: top;\n",
       "    }\n",
       "\n",
       "    .dataframe thead th {\n",
       "        text-align: right;\n",
       "    }\n",
       "</style>\n",
       "<table border=\"1\" class=\"dataframe\">\n",
       "  <thead>\n",
       "    <tr style=\"text-align: right;\">\n",
       "      <th></th>\n",
       "      <th>serving_size</th>\n",
       "      <th>calories</th>\n",
       "      <th>fat</th>\n",
       "      <th>sodium</th>\n",
       "      <th>price</th>\n",
       "    </tr>\n",
       "    <tr>\n",
       "      <th>item</th>\n",
       "      <th></th>\n",
       "      <th></th>\n",
       "      <th></th>\n",
       "      <th></th>\n",
       "      <th></th>\n",
       "    </tr>\n",
       "  </thead>\n",
       "  <tbody>\n",
       "    <tr>\n",
       "      <th>crackers</th>\n",
       "      <td>4 crackers</td>\n",
       "      <td>10.0</td>\n",
       "      <td>1.1g</td>\n",
       "      <td>125mg</td>\n",
       "      <td>2.99</td>\n",
       "    </tr>\n",
       "    <tr>\n",
       "      <th>club soda</th>\n",
       "      <td>8 oz</td>\n",
       "      <td>NaN</td>\n",
       "      <td>None</td>\n",
       "      <td>75mg</td>\n",
       "      <td>2.25</td>\n",
       "    </tr>\n",
       "    <tr>\n",
       "      <th>apple</th>\n",
       "      <td>2</td>\n",
       "      <td>95.0</td>\n",
       "      <td>None</td>\n",
       "      <td>None</td>\n",
       "      <td>1.99</td>\n",
       "    </tr>\n",
       "    <tr>\n",
       "      <th>banana</th>\n",
       "      <td>3</td>\n",
       "      <td>105.0</td>\n",
       "      <td>0.4g</td>\n",
       "      <td>1mg</td>\n",
       "      <td>NaN</td>\n",
       "    </tr>\n",
       "    <tr>\n",
       "      <th>spam</th>\n",
       "      <td>1 tin</td>\n",
       "      <td>NaN</td>\n",
       "      <td>None</td>\n",
       "      <td>None</td>\n",
       "      <td>NaN</td>\n",
       "    </tr>\n",
       "  </tbody>\n",
       "</table>\n",
       "</div>"
      ],
      "text/plain": [
       "          serving_size  calories   fat sodium  price\n",
       "item                                                \n",
       "crackers    4 crackers      10.0  1.1g  125mg   2.99\n",
       "club soda         8 oz       NaN  None   75mg   2.25\n",
       "apple                2      95.0  None   None   1.99\n",
       "banana               3     105.0  0.4g    1mg    NaN\n",
       "spam             1 tin       NaN  None   None    NaN"
      ]
     },
     "execution_count": 16,
     "metadata": {},
     "output_type": "execute_result"
    }
   ],
   "source": [
    "# The discount column is adding no information here, so we can drop it\n",
    "df.drop(columns=\"discount\", inplace=True)\n",
    "df"
   ]
  },
  {
   "cell_type": "code",
   "execution_count": 17,
   "id": "f9fa74c4",
   "metadata": {},
   "outputs": [
    {
     "data": {
      "text/html": [
       "<div>\n",
       "<style scoped>\n",
       "    .dataframe tbody tr th:only-of-type {\n",
       "        vertical-align: middle;\n",
       "    }\n",
       "\n",
       "    .dataframe tbody tr th {\n",
       "        vertical-align: top;\n",
       "    }\n",
       "\n",
       "    .dataframe thead th {\n",
       "        text-align: right;\n",
       "    }\n",
       "</style>\n",
       "<table border=\"1\" class=\"dataframe\">\n",
       "  <thead>\n",
       "    <tr style=\"text-align: right;\">\n",
       "      <th></th>\n",
       "      <th>serving_size</th>\n",
       "      <th>calories</th>\n",
       "      <th>fat</th>\n",
       "      <th>sodium</th>\n",
       "      <th>price</th>\n",
       "    </tr>\n",
       "    <tr>\n",
       "      <th>item</th>\n",
       "      <th></th>\n",
       "      <th></th>\n",
       "      <th></th>\n",
       "      <th></th>\n",
       "      <th></th>\n",
       "    </tr>\n",
       "  </thead>\n",
       "  <tbody>\n",
       "    <tr>\n",
       "      <th>crackers</th>\n",
       "      <td>4 crackers</td>\n",
       "      <td>10.0</td>\n",
       "      <td>1.1g</td>\n",
       "      <td>125mg</td>\n",
       "      <td>2.99</td>\n",
       "    </tr>\n",
       "    <tr>\n",
       "      <th>club soda</th>\n",
       "      <td>8 oz</td>\n",
       "      <td>NaN</td>\n",
       "      <td>None</td>\n",
       "      <td>75mg</td>\n",
       "      <td>2.25</td>\n",
       "    </tr>\n",
       "    <tr>\n",
       "      <th>apple</th>\n",
       "      <td>2</td>\n",
       "      <td>95.0</td>\n",
       "      <td>None</td>\n",
       "      <td>None</td>\n",
       "      <td>1.99</td>\n",
       "    </tr>\n",
       "    <tr>\n",
       "      <th>banana</th>\n",
       "      <td>3</td>\n",
       "      <td>105.0</td>\n",
       "      <td>0.4g</td>\n",
       "      <td>1mg</td>\n",
       "      <td>NaN</td>\n",
       "    </tr>\n",
       "  </tbody>\n",
       "</table>\n",
       "</div>"
      ],
      "text/plain": [
       "          serving_size  calories   fat sodium  price\n",
       "item                                                \n",
       "crackers    4 crackers      10.0  1.1g  125mg   2.99\n",
       "club soda         8 oz       NaN  None   75mg   2.25\n",
       "apple                2      95.0  None   None   1.99\n",
       "banana               3     105.0  0.4g    1mg    NaN"
      ]
     },
     "execution_count": 17,
     "metadata": {},
     "output_type": "execute_result"
    }
   ],
   "source": [
    "# Reassign the df\n",
    "# df.drop(index=[\"spam\"], inplace=True) would produce the same result\n",
    "df = df[df.index != \"spam\"]\n",
    "df"
   ]
  },
  {
   "cell_type": "code",
   "execution_count": 18,
   "id": "8651f0f6",
   "metadata": {},
   "outputs": [
    {
     "name": "stderr",
     "output_type": "stream",
     "text": [
      "/var/folders/1s/_g4b0srs1s13gfc1m19673dc0000gn/T/ipykernel_20808/1946993388.py:3: SettingWithCopyWarning: \n",
      "A value is trying to be set on a copy of a slice from a DataFrame.\n",
      "Try using .loc[row_indexer,col_indexer] = value instead\n",
      "\n",
      "See the caveats in the documentation: https://pandas.pydata.org/pandas-docs/stable/user_guide/indexing.html#returning-a-view-versus-a-copy\n",
      "  df.fat = df.fat.fillna(0)\n"
     ]
    },
    {
     "data": {
      "text/html": [
       "<div>\n",
       "<style scoped>\n",
       "    .dataframe tbody tr th:only-of-type {\n",
       "        vertical-align: middle;\n",
       "    }\n",
       "\n",
       "    .dataframe tbody tr th {\n",
       "        vertical-align: top;\n",
       "    }\n",
       "\n",
       "    .dataframe thead th {\n",
       "        text-align: right;\n",
       "    }\n",
       "</style>\n",
       "<table border=\"1\" class=\"dataframe\">\n",
       "  <thead>\n",
       "    <tr style=\"text-align: right;\">\n",
       "      <th></th>\n",
       "      <th>serving_size</th>\n",
       "      <th>calories</th>\n",
       "      <th>fat</th>\n",
       "      <th>sodium</th>\n",
       "      <th>price</th>\n",
       "    </tr>\n",
       "    <tr>\n",
       "      <th>item</th>\n",
       "      <th></th>\n",
       "      <th></th>\n",
       "      <th></th>\n",
       "      <th></th>\n",
       "      <th></th>\n",
       "    </tr>\n",
       "  </thead>\n",
       "  <tbody>\n",
       "    <tr>\n",
       "      <th>crackers</th>\n",
       "      <td>4 crackers</td>\n",
       "      <td>10.0</td>\n",
       "      <td>1.1g</td>\n",
       "      <td>125mg</td>\n",
       "      <td>2.99</td>\n",
       "    </tr>\n",
       "    <tr>\n",
       "      <th>club soda</th>\n",
       "      <td>8 oz</td>\n",
       "      <td>NaN</td>\n",
       "      <td>0</td>\n",
       "      <td>75mg</td>\n",
       "      <td>2.25</td>\n",
       "    </tr>\n",
       "    <tr>\n",
       "      <th>apple</th>\n",
       "      <td>2</td>\n",
       "      <td>95.0</td>\n",
       "      <td>0</td>\n",
       "      <td>None</td>\n",
       "      <td>1.99</td>\n",
       "    </tr>\n",
       "    <tr>\n",
       "      <th>banana</th>\n",
       "      <td>3</td>\n",
       "      <td>105.0</td>\n",
       "      <td>0.4g</td>\n",
       "      <td>1mg</td>\n",
       "      <td>NaN</td>\n",
       "    </tr>\n",
       "  </tbody>\n",
       "</table>\n",
       "</div>"
      ],
      "text/plain": [
       "          serving_size  calories   fat sodium  price\n",
       "item                                                \n",
       "crackers    4 crackers      10.0  1.1g  125mg   2.99\n",
       "club soda         8 oz       NaN     0   75mg   2.25\n",
       "apple                2      95.0     0   None   1.99\n",
       "banana               3     105.0  0.4g    1mg    NaN"
      ]
     },
     "execution_count": 18,
     "metadata": {},
     "output_type": "execute_result"
    }
   ],
   "source": [
    "# Example of filling null values with a reasonable value\n",
    "# Apples and club soda don't have fat, so these missing values can be 0\n",
    "df.fat = df.fat.fillna(0)\n",
    "df"
   ]
  },
  {
   "cell_type": "code",
   "execution_count": 19,
   "id": "f62c1b32",
   "metadata": {},
   "outputs": [
    {
     "data": {
      "text/html": [
       "<div>\n",
       "<style scoped>\n",
       "    .dataframe tbody tr th:only-of-type {\n",
       "        vertical-align: middle;\n",
       "    }\n",
       "\n",
       "    .dataframe tbody tr th {\n",
       "        vertical-align: top;\n",
       "    }\n",
       "\n",
       "    .dataframe thead th {\n",
       "        text-align: right;\n",
       "    }\n",
       "</style>\n",
       "<table border=\"1\" class=\"dataframe\">\n",
       "  <thead>\n",
       "    <tr style=\"text-align: right;\">\n",
       "      <th></th>\n",
       "      <th>serving_size</th>\n",
       "      <th>calories</th>\n",
       "      <th>fat</th>\n",
       "      <th>sodium</th>\n",
       "      <th>price</th>\n",
       "    </tr>\n",
       "    <tr>\n",
       "      <th>item</th>\n",
       "      <th></th>\n",
       "      <th></th>\n",
       "      <th></th>\n",
       "      <th></th>\n",
       "      <th></th>\n",
       "    </tr>\n",
       "  </thead>\n",
       "  <tbody>\n",
       "    <tr>\n",
       "      <th>crackers</th>\n",
       "      <td>4 crackers</td>\n",
       "      <td>10.0</td>\n",
       "      <td>1.1g</td>\n",
       "      <td>125mg</td>\n",
       "      <td>2.99</td>\n",
       "    </tr>\n",
       "    <tr>\n",
       "      <th>club soda</th>\n",
       "      <td>8 oz</td>\n",
       "      <td>NaN</td>\n",
       "      <td>0</td>\n",
       "      <td>75mg</td>\n",
       "      <td>2.25</td>\n",
       "    </tr>\n",
       "    <tr>\n",
       "      <th>apple</th>\n",
       "      <td>2</td>\n",
       "      <td>95.0</td>\n",
       "      <td>0</td>\n",
       "      <td>None</td>\n",
       "      <td>1.99</td>\n",
       "    </tr>\n",
       "    <tr>\n",
       "      <th>banana</th>\n",
       "      <td>3</td>\n",
       "      <td>105.0</td>\n",
       "      <td>0.4g</td>\n",
       "      <td>1mg</td>\n",
       "      <td>NaN</td>\n",
       "    </tr>\n",
       "  </tbody>\n",
       "</table>\n",
       "</div>"
      ],
      "text/plain": [
       "          serving_size  calories   fat sodium  price\n",
       "item                                                \n",
       "crackers    4 crackers      10.0  1.1g  125mg   2.99\n",
       "club soda         8 oz       NaN     0   75mg   2.25\n",
       "apple                2      95.0     0   None   1.99\n",
       "banana               3     105.0  0.4g    1mg    NaN"
      ]
     },
     "execution_count": 19,
     "metadata": {},
     "output_type": "execute_result"
    }
   ],
   "source": [
    "# Example of .loc's row_indexing and column_indexing\n",
    "# [start_row:end_row, column_start:column_end]\n",
    "# [:,] returns all rows and all columns\n",
    "df.loc[:,].head()"
   ]
  },
  {
   "cell_type": "code",
   "execution_count": 20,
   "id": "39ff0eff",
   "metadata": {},
   "outputs": [
    {
     "data": {
      "text/html": [
       "<div>\n",
       "<style scoped>\n",
       "    .dataframe tbody tr th:only-of-type {\n",
       "        vertical-align: middle;\n",
       "    }\n",
       "\n",
       "    .dataframe tbody tr th {\n",
       "        vertical-align: top;\n",
       "    }\n",
       "\n",
       "    .dataframe thead th {\n",
       "        text-align: right;\n",
       "    }\n",
       "</style>\n",
       "<table border=\"1\" class=\"dataframe\">\n",
       "  <thead>\n",
       "    <tr style=\"text-align: right;\">\n",
       "      <th></th>\n",
       "      <th>serving_size</th>\n",
       "      <th>calories</th>\n",
       "      <th>fat</th>\n",
       "      <th>sodium</th>\n",
       "      <th>price</th>\n",
       "    </tr>\n",
       "    <tr>\n",
       "      <th>item</th>\n",
       "      <th></th>\n",
       "      <th></th>\n",
       "      <th></th>\n",
       "      <th></th>\n",
       "      <th></th>\n",
       "    </tr>\n",
       "  </thead>\n",
       "  <tbody>\n",
       "    <tr>\n",
       "      <th>club soda</th>\n",
       "      <td>8 oz</td>\n",
       "      <td>NaN</td>\n",
       "      <td>0</td>\n",
       "      <td>75mg</td>\n",
       "      <td>2.25</td>\n",
       "    </tr>\n",
       "    <tr>\n",
       "      <th>apple</th>\n",
       "      <td>2</td>\n",
       "      <td>95.0</td>\n",
       "      <td>0</td>\n",
       "      <td>None</td>\n",
       "      <td>1.99</td>\n",
       "    </tr>\n",
       "    <tr>\n",
       "      <th>banana</th>\n",
       "      <td>3</td>\n",
       "      <td>105.0</td>\n",
       "      <td>0.4g</td>\n",
       "      <td>1mg</td>\n",
       "      <td>NaN</td>\n",
       "    </tr>\n",
       "  </tbody>\n",
       "</table>\n",
       "</div>"
      ],
      "text/plain": [
       "          serving_size  calories   fat sodium  price\n",
       "item                                                \n",
       "club soda         8 oz       NaN     0   75mg   2.25\n",
       "apple                2      95.0     0   None   1.99\n",
       "banana               3     105.0  0.4g    1mg    NaN"
      ]
     },
     "execution_count": 20,
     "metadata": {},
     "output_type": "execute_result"
    }
   ],
   "source": [
    "# Notice how we're getting the range of rows from club soda to apple\n",
    "df.loc[\"club soda\":\"banana\",]"
   ]
  },
  {
   "cell_type": "code",
   "execution_count": 21,
   "id": "40a8a802",
   "metadata": {},
   "outputs": [
    {
     "data": {
      "text/html": [
       "<div>\n",
       "<style scoped>\n",
       "    .dataframe tbody tr th:only-of-type {\n",
       "        vertical-align: middle;\n",
       "    }\n",
       "\n",
       "    .dataframe tbody tr th {\n",
       "        vertical-align: top;\n",
       "    }\n",
       "\n",
       "    .dataframe thead th {\n",
       "        text-align: right;\n",
       "    }\n",
       "</style>\n",
       "<table border=\"1\" class=\"dataframe\">\n",
       "  <thead>\n",
       "    <tr style=\"text-align: right;\">\n",
       "      <th></th>\n",
       "      <th>serving_size</th>\n",
       "      <th>calories</th>\n",
       "      <th>fat</th>\n",
       "      <th>sodium</th>\n",
       "      <th>price</th>\n",
       "    </tr>\n",
       "    <tr>\n",
       "      <th>item</th>\n",
       "      <th></th>\n",
       "      <th></th>\n",
       "      <th></th>\n",
       "      <th></th>\n",
       "      <th></th>\n",
       "    </tr>\n",
       "  </thead>\n",
       "  <tbody>\n",
       "    <tr>\n",
       "      <th>apple</th>\n",
       "      <td>2</td>\n",
       "      <td>95.0</td>\n",
       "      <td>0</td>\n",
       "      <td>None</td>\n",
       "      <td>1.99</td>\n",
       "    </tr>\n",
       "  </tbody>\n",
       "</table>\n",
       "</div>"
      ],
      "text/plain": [
       "      serving_size  calories fat sodium  price\n",
       "item                                          \n",
       "apple            2      95.0   0   None   1.99"
      ]
     },
     "execution_count": 21,
     "metadata": {},
     "output_type": "execute_result"
    }
   ],
   "source": [
    "# Notice how .loc uses the indexing syntax\n",
    "df.loc[df.index == \"apple\"]"
   ]
  },
  {
   "cell_type": "code",
   "execution_count": 22,
   "id": "9608eaee",
   "metadata": {},
   "outputs": [
    {
     "data": {
      "text/html": [
       "<div>\n",
       "<style scoped>\n",
       "    .dataframe tbody tr th:only-of-type {\n",
       "        vertical-align: middle;\n",
       "    }\n",
       "\n",
       "    .dataframe tbody tr th {\n",
       "        vertical-align: top;\n",
       "    }\n",
       "\n",
       "    .dataframe thead th {\n",
       "        text-align: right;\n",
       "    }\n",
       "</style>\n",
       "<table border=\"1\" class=\"dataframe\">\n",
       "  <thead>\n",
       "    <tr style=\"text-align: right;\">\n",
       "      <th></th>\n",
       "      <th>serving_size</th>\n",
       "      <th>calories</th>\n",
       "      <th>fat</th>\n",
       "      <th>sodium</th>\n",
       "      <th>price</th>\n",
       "    </tr>\n",
       "    <tr>\n",
       "      <th>item</th>\n",
       "      <th></th>\n",
       "      <th></th>\n",
       "      <th></th>\n",
       "      <th></th>\n",
       "      <th></th>\n",
       "    </tr>\n",
       "  </thead>\n",
       "  <tbody>\n",
       "    <tr>\n",
       "      <th>banana</th>\n",
       "      <td>3</td>\n",
       "      <td>105.0</td>\n",
       "      <td>0.4g</td>\n",
       "      <td>1mg</td>\n",
       "      <td>NaN</td>\n",
       "    </tr>\n",
       "  </tbody>\n",
       "</table>\n",
       "</div>"
      ],
      "text/plain": [
       "       serving_size  calories   fat sodium  price\n",
       "item                                             \n",
       "banana            3     105.0  0.4g    1mg    NaN"
      ]
     },
     "execution_count": 22,
     "metadata": {},
     "output_type": "execute_result"
    }
   ],
   "source": [
    "# Notice how .loc uses the indexing syntax\n",
    "df.loc[df.serving_size == 3,]"
   ]
  },
  {
   "cell_type": "code",
   "execution_count": 23,
   "id": "ee789fc8",
   "metadata": {},
   "outputs": [
    {
     "data": {
      "text/html": [
       "<div>\n",
       "<style scoped>\n",
       "    .dataframe tbody tr th:only-of-type {\n",
       "        vertical-align: middle;\n",
       "    }\n",
       "\n",
       "    .dataframe tbody tr th {\n",
       "        vertical-align: top;\n",
       "    }\n",
       "\n",
       "    .dataframe thead th {\n",
       "        text-align: right;\n",
       "    }\n",
       "</style>\n",
       "<table border=\"1\" class=\"dataframe\">\n",
       "  <thead>\n",
       "    <tr style=\"text-align: right;\">\n",
       "      <th></th>\n",
       "      <th>serving_size</th>\n",
       "      <th>calories</th>\n",
       "      <th>fat</th>\n",
       "    </tr>\n",
       "    <tr>\n",
       "      <th>item</th>\n",
       "      <th></th>\n",
       "      <th></th>\n",
       "      <th></th>\n",
       "    </tr>\n",
       "  </thead>\n",
       "  <tbody>\n",
       "    <tr>\n",
       "      <th>apple</th>\n",
       "      <td>2</td>\n",
       "      <td>95.0</td>\n",
       "      <td>0</td>\n",
       "    </tr>\n",
       "  </tbody>\n",
       "</table>\n",
       "</div>"
      ],
      "text/plain": [
       "      serving_size  calories fat\n",
       "item                            \n",
       "apple            2      95.0   0"
      ]
     },
     "execution_count": 23,
     "metadata": {},
     "output_type": "execute_result"
    }
   ],
   "source": [
    "# Notice how .loc uses the indexing syntax\n",
    "df.loc[df.index == \"apple\", \"serving_size\":\"fat\"]"
   ]
  },
  {
   "cell_type": "code",
   "execution_count": 24,
   "id": "6faf3a67",
   "metadata": {},
   "outputs": [
    {
     "data": {
      "text/plain": [
       "item\n",
       "crackers      10.0\n",
       "club soda      NaN\n",
       "apple         95.0\n",
       "banana       105.0\n",
       "Name: calories, dtype: float64"
      ]
     },
     "execution_count": 24,
     "metadata": {},
     "output_type": "execute_result"
    }
   ],
   "source": [
    "# All rows, show only calories as the column\n",
    "df.loc[:, \"calories\"]"
   ]
  },
  {
   "cell_type": "code",
   "execution_count": 25,
   "id": "5f499f0a",
   "metadata": {},
   "outputs": [
    {
     "data": {
      "text/html": [
       "<div>\n",
       "<style scoped>\n",
       "    .dataframe tbody tr th:only-of-type {\n",
       "        vertical-align: middle;\n",
       "    }\n",
       "\n",
       "    .dataframe tbody tr th {\n",
       "        vertical-align: top;\n",
       "    }\n",
       "\n",
       "    .dataframe thead th {\n",
       "        text-align: right;\n",
       "    }\n",
       "</style>\n",
       "<table border=\"1\" class=\"dataframe\">\n",
       "  <thead>\n",
       "    <tr style=\"text-align: right;\">\n",
       "      <th></th>\n",
       "      <th>calories</th>\n",
       "      <th>fat</th>\n",
       "      <th>sodium</th>\n",
       "      <th>price</th>\n",
       "    </tr>\n",
       "    <tr>\n",
       "      <th>item</th>\n",
       "      <th></th>\n",
       "      <th></th>\n",
       "      <th></th>\n",
       "      <th></th>\n",
       "    </tr>\n",
       "  </thead>\n",
       "  <tbody>\n",
       "    <tr>\n",
       "      <th>crackers</th>\n",
       "      <td>10.0</td>\n",
       "      <td>1.1g</td>\n",
       "      <td>125mg</td>\n",
       "      <td>2.99</td>\n",
       "    </tr>\n",
       "    <tr>\n",
       "      <th>club soda</th>\n",
       "      <td>NaN</td>\n",
       "      <td>0</td>\n",
       "      <td>75mg</td>\n",
       "      <td>2.25</td>\n",
       "    </tr>\n",
       "    <tr>\n",
       "      <th>apple</th>\n",
       "      <td>95.0</td>\n",
       "      <td>0</td>\n",
       "      <td>None</td>\n",
       "      <td>1.99</td>\n",
       "    </tr>\n",
       "    <tr>\n",
       "      <th>banana</th>\n",
       "      <td>105.0</td>\n",
       "      <td>0.4g</td>\n",
       "      <td>1mg</td>\n",
       "      <td>NaN</td>\n",
       "    </tr>\n",
       "  </tbody>\n",
       "</table>\n",
       "</div>"
      ],
      "text/plain": [
       "           calories   fat sodium  price\n",
       "item                                   \n",
       "crackers       10.0  1.1g  125mg   2.99\n",
       "club soda       NaN     0   75mg   2.25\n",
       "apple          95.0     0   None   1.99\n",
       "banana        105.0  0.4g    1mg    NaN"
      ]
     },
     "execution_count": 25,
     "metadata": {},
     "output_type": "execute_result"
    }
   ],
   "source": [
    "# Notice how : for rows returns all rows\n",
    "# show all the columns from calories through price 9(inclusive)\n",
    "df.loc[:, \"calories\":\"price\"]"
   ]
  },
  {
   "cell_type": "code",
   "execution_count": 26,
   "id": "e4cdf1a5",
   "metadata": {},
   "outputs": [
    {
     "data": {
      "text/html": [
       "<div>\n",
       "<style scoped>\n",
       "    .dataframe tbody tr th:only-of-type {\n",
       "        vertical-align: middle;\n",
       "    }\n",
       "\n",
       "    .dataframe tbody tr th {\n",
       "        vertical-align: top;\n",
       "    }\n",
       "\n",
       "    .dataframe thead th {\n",
       "        text-align: right;\n",
       "    }\n",
       "</style>\n",
       "<table border=\"1\" class=\"dataframe\">\n",
       "  <thead>\n",
       "    <tr style=\"text-align: right;\">\n",
       "      <th></th>\n",
       "      <th>serving_size</th>\n",
       "      <th>calories</th>\n",
       "      <th>fat</th>\n",
       "      <th>sodium</th>\n",
       "      <th>price</th>\n",
       "    </tr>\n",
       "    <tr>\n",
       "      <th>item</th>\n",
       "      <th></th>\n",
       "      <th></th>\n",
       "      <th></th>\n",
       "      <th></th>\n",
       "      <th></th>\n",
       "    </tr>\n",
       "  </thead>\n",
       "  <tbody>\n",
       "    <tr>\n",
       "      <th>crackers</th>\n",
       "      <td>4 crackers</td>\n",
       "      <td>10.0</td>\n",
       "      <td>1.1g</td>\n",
       "      <td>125mg</td>\n",
       "      <td>2.99</td>\n",
       "    </tr>\n",
       "    <tr>\n",
       "      <th>club soda</th>\n",
       "      <td>8 oz</td>\n",
       "      <td>0.0</td>\n",
       "      <td>0</td>\n",
       "      <td>75mg</td>\n",
       "      <td>2.25</td>\n",
       "    </tr>\n",
       "    <tr>\n",
       "      <th>apple</th>\n",
       "      <td>2</td>\n",
       "      <td>95.0</td>\n",
       "      <td>0</td>\n",
       "      <td>None</td>\n",
       "      <td>1.99</td>\n",
       "    </tr>\n",
       "    <tr>\n",
       "      <th>banana</th>\n",
       "      <td>3</td>\n",
       "      <td>105.0</td>\n",
       "      <td>0.4g</td>\n",
       "      <td>1mg</td>\n",
       "      <td>NaN</td>\n",
       "    </tr>\n",
       "  </tbody>\n",
       "</table>\n",
       "</div>"
      ],
      "text/plain": [
       "          serving_size  calories   fat sodium  price\n",
       "item                                                \n",
       "crackers    4 crackers      10.0  1.1g  125mg   2.99\n",
       "club soda         8 oz       0.0     0   75mg   2.25\n",
       "apple                2      95.0     0   None   1.99\n",
       "banana               3     105.0  0.4g    1mg    NaN"
      ]
     },
     "execution_count": 26,
     "metadata": {},
     "output_type": "execute_result"
    }
   ],
   "source": [
    "# Some pandas operataions may throw a SettingWithCopyWarning\n",
    "# Recommend reading the documentation carefully\n",
    "# Pandas developers designed this warning because effects can be difficult to predict\n",
    "# Notice how the above operation evaluated, but the warning can feel disruptive.\n",
    "df.loc[df.calories.isna(), \"calories\"] = 0\n",
    "df"
   ]
  },
  {
   "cell_type": "markdown",
   "id": "f183259a",
   "metadata": {},
   "source": [
    "## Additional Resources\n",
    "- [.value_counts](https://pandas.pydata.org/docs/reference/api/pandas.Series.value_counts.html)\n",
    "- [Pandas .isna documentation](https://pandas.pydata.org/pandas-docs/stable/reference/api/pandas.isna.html)\n",
    "- [numpy random choice](https://numpy.org/doc/stable/reference/random/generated/numpy.random.choice.html) method to choose a random value from a collection"
   ]
  },
  {
   "cell_type": "markdown",
   "id": "40cc58ae",
   "metadata": {},
   "source": [
    "## Exercises\n",
    "- Use `pd.read_csv` to read `\"penguins.csv\"` into a dataframe variable named `penguins`\n",
    "- Write the pandas code to count the number of missing values by column\n",
    "- Write the pandas necessary to get the proportion of missing values by row. Store this to a variable named `percent_missing_by_row`\n",
    "- Sort the `percent_missing_by_row` series in descending order. How many of the rows are mostly empty?"
   ]
  },
  {
   "cell_type": "code",
   "execution_count": 3,
   "id": "b851cc92",
   "metadata": {},
   "outputs": [],
   "source": [
    "# Use `pd.read_csv` to read `\"penguins.csv\"` into a dataframe variable named `penguins`\n"
   ]
  },
  {
   "cell_type": "code",
   "execution_count": 4,
   "id": "1deb7fe4",
   "metadata": {},
   "outputs": [],
   "source": [
    "# Use .isna to count the number of missing values by column\n"
   ]
  },
  {
   "cell_type": "code",
   "execution_count": 5,
   "id": "dd3514aa",
   "metadata": {},
   "outputs": [],
   "source": [
    "# Write the pandas necessary to get the proportion of missing values \n",
    "# by row. Store this to a variable named `percent_missing_by_row`\n"
   ]
  },
  {
   "cell_type": "code",
   "execution_count": null,
   "id": "c7cae724",
   "metadata": {},
   "outputs": [],
   "source": [
    "# Sort the `percent_missing_by_row` series in descending order\n",
    "# How many of the rows are mostly empty"
   ]
  }
 ],
 "metadata": {
  "kernelspec": {
   "display_name": "Python 3 (ipykernel)",
   "language": "python",
   "name": "python3"
  },
  "language_info": {
   "codemirror_mode": {
    "name": "ipython",
    "version": 3
   },
   "file_extension": ".py",
   "mimetype": "text/x-python",
   "name": "python",
   "nbconvert_exporter": "python",
   "pygments_lexer": "ipython3",
   "version": "3.9.7"
  }
 },
 "nbformat": 4,
 "nbformat_minor": 5
}
