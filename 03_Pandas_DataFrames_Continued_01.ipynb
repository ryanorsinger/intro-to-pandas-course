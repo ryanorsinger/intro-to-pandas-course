{
 "cells": [
  {
   "cell_type": "markdown",
   "id": "ae0a5ad5",
   "metadata": {},
   "source": [
    "# Intro to Pandas\n",
    "by Ryan Orsinger"
   ]
  },
  {
   "cell_type": "markdown",
   "id": "efbbdb31",
   "metadata": {},
   "source": [
    "## Module 3: DataFrames Continued\n",
    "\n",
    "### Pandas DataFrames Continued - Identifying Missing Values\n",
    "- Identifying and counting missing values\n",
    "- Removing rows with missing information\n",
    "- Dropping columns from a DataFrame"
   ]
  },
  {
   "cell_type": "code",
   "execution_count": null,
   "id": "fda235a9",
   "metadata": {},
   "outputs": [],
   "source": [
    "import pandas as pd"
   ]
  },
  {
   "cell_type": "code",
   "execution_count": null,
   "id": "cd800ff1",
   "metadata": {},
   "outputs": [],
   "source": [
    "# Let's generate some data with missing values. \n",
    "# Real world data often has missing values\n",
    "df = pd.DataFrame([\n",
    "    {\n",
    "        \"item\": \"crackers\",\n",
    "        \"serving_size\": \"4 crackers\",\n",
    "        \"calories\": 10,\n",
    "        \"fat\": \"1.1g\",\n",
    "        \"sodium\": \"125mg\",\n",
    "        \"price\": 2.99,\n",
    "        \"discount\": None\n",
    "    },\n",
    "    {\n",
    "        \"item\": \"club soda\",\n",
    "        \"serving_size\": \"8 oz\",\n",
    "        \"calories\": None,\n",
    "        \"fat\": None,\n",
    "        \"sodium\": \"75mg\",\n",
    "        \"price\": 2.25,\n",
    "        \"discount\": None\n",
    "\n",
    "    },\n",
    "    {\n",
    "        \"item\": \"apple\",\n",
    "        \"serving_size\": 2,\n",
    "        \"calories\": 95,\n",
    "        \"fat\": None,\n",
    "        \"sodium\": None,\n",
    "        \"price\": 1.99,\n",
    "        \"discount\": None\n",
    "    },\n",
    "    {\n",
    "        \"item\": \"banana\",\n",
    "        \"serving_size\": 3,\n",
    "        \"calories\": 105,\n",
    "        \"fat\": \"0.4g\",\n",
    "        \"sodium\": \"1mg\",\n",
    "        \"price\": None,\n",
    "        \"discount\": None\n",
    "    },\n",
    "    {\n",
    "        \"item\": \"spam\",\n",
    "        \"serving_size\": \"1 tin\",\n",
    "        \"calories\": None,\n",
    "        \"fat\": None,\n",
    "        \"sodium\": None,\n",
    "        \"price\": None,\n",
    "        \"discount\": None\n",
    "    }\n",
    "])\n",
    "\n",
    "# Set the index to be the item name\n",
    "df.set_index(\"item\", inplace=True)\n",
    "df"
   ]
  },
  {
   "cell_type": "code",
   "execution_count": null,
   "id": "1e32b1c6",
   "metadata": {},
   "outputs": [],
   "source": [
    "# The .info method outputs data types and non-null value count\n",
    "df.info()"
   ]
  },
  {
   "cell_type": "code",
   "execution_count": null,
   "id": "a87461c1",
   "metadata": {},
   "outputs": [],
   "source": [
    "# Notice that missing values in a numeric column show as NaN, which means \"not a number\"\n",
    "# For more on NaN, see https://en.wikipedia.org/wiki/NaN\n",
    "df.calories"
   ]
  },
  {
   "cell_type": "code",
   "execution_count": null,
   "id": "3ff30bf8",
   "metadata": {},
   "outputs": [],
   "source": [
    "# NaN exists to allow us to do math without getting execution errors\n",
    "# Many math functions ignore NaNs\n",
    "df.calories.mean()"
   ]
  },
  {
   "cell_type": "code",
   "execution_count": null,
   "id": "ef7484b6",
   "metadata": {},
   "outputs": [],
   "source": [
    "# By default, .value_counts ignores NaNs, too\n",
    "df.sodium.value_counts()"
   ]
  },
  {
   "cell_type": "code",
   "execution_count": null,
   "id": "5b08a6a3",
   "metadata": {},
   "outputs": [],
   "source": [
    "# Use dropna=False to count missing values\n",
    "df.sodium.value_counts(dropna=False)"
   ]
  },
  {
   "cell_type": "code",
   "execution_count": null,
   "id": "7067d296",
   "metadata": {},
   "outputs": [],
   "source": [
    "# Notice that missing values in a string/object column show as None\n",
    "df.fat"
   ]
  },
  {
   "cell_type": "code",
   "execution_count": null,
   "id": "6287b882",
   "metadata": {},
   "outputs": [],
   "source": [
    "# .isna() can operate on a column, returning a boolean series\n",
    "df.sodium.isna()"
   ]
  },
  {
   "cell_type": "code",
   "execution_count": null,
   "id": "aa29eb00",
   "metadata": {},
   "outputs": [],
   "source": [
    "# .isna() can also operate on the entire dataframe\n",
    "df.isna()"
   ]
  },
  {
   "cell_type": "code",
   "execution_count": null,
   "id": "32feee21",
   "metadata": {},
   "outputs": [],
   "source": [
    "# Counting the number of nulls by column\n",
    "print(\"Number of nulls by column\")\n",
    "df.isna().sum()"
   ]
  },
  {
   "cell_type": "code",
   "execution_count": null,
   "id": "bf9eee13",
   "metadata": {},
   "outputs": [],
   "source": [
    "print(\"Proportion of nulls by column\")\n",
    "df.isna().mean()"
   ]
  },
  {
   "cell_type": "code",
   "execution_count": null,
   "id": "1e9fb285",
   "metadata": {},
   "outputs": [],
   "source": [
    "# Counting the number of nulls by row\n",
    "# Recall that .sum can run on columns or by row, by row with axis=1\n",
    "print(\"Number of nulls by row\")\n",
    "df.isna().sum(axis=1)"
   ]
  },
  {
   "cell_type": "code",
   "execution_count": null,
   "id": "96a32b29",
   "metadata": {},
   "outputs": [],
   "source": [
    "# Proportion of the number of nulls by row\n",
    "# Recall that .sum can run on columns or by row, by row with axis=1\n",
    "print(\"Proportion of nulls by row\")\n",
    "df.isna().mean(axis=1)"
   ]
  },
  {
   "cell_type": "markdown",
   "id": "ccad9754",
   "metadata": {},
   "source": [
    "### Handling Missing Values\n",
    "- There's no one right answer for all cases. \n",
    "- \"It depends\" is a common answer in data science. Context matters.\n",
    "- Sometimes missing values might mean zero, depending on the context, so we can fill in zero.\n",
    "- Sometimes, dropping entire rows or columns is appropriate\n",
    "- Sometimes, filling missing values makes sense to keep the rest of the row or column's data"
   ]
  },
  {
   "cell_type": "code",
   "execution_count": null,
   "id": "950304d1",
   "metadata": {},
   "outputs": [],
   "source": [
    "# Example of removing null values \n",
    "# dropna drops every row with a null value\n",
    "# Since there is missing data in every row, this is quite destructive...\n",
    "# the default axis argument is axis=0, which means row-wise\n",
    "df.dropna()"
   ]
  },
  {
   "cell_type": "code",
   "execution_count": null,
   "id": "24bb2a02",
   "metadata": {},
   "outputs": [],
   "source": [
    "# dropna(axis=1) drops all columns with any missing values\n",
    "# This is also too destructive to be helpful\n",
    "df.dropna(axis=1)"
   ]
  },
  {
   "cell_type": "code",
   "execution_count": null,
   "id": "32693b55",
   "metadata": {},
   "outputs": [],
   "source": [
    "# Let's review the dataframe\n",
    "df"
   ]
  },
  {
   "cell_type": "code",
   "execution_count": null,
   "id": "c113d076",
   "metadata": {},
   "outputs": [],
   "source": [
    "# The discount column is adding no information here, so we can drop it\n",
    "df.drop(columns=\"discount\", inplace=True)\n",
    "df"
   ]
  },
  {
   "cell_type": "code",
   "execution_count": null,
   "id": "f9fa74c4",
   "metadata": {},
   "outputs": [],
   "source": [
    "# Reassign the df\n",
    "# df.drop(index=[\"spam\"], inplace=True) would produce the same result\n",
    "df = df[df.index != \"spam\"]\n",
    "df"
   ]
  },
  {
   "cell_type": "markdown",
   "id": "f183259a",
   "metadata": {},
   "source": [
    "## Additional Resources\n",
    "- [.isnull](https://pandas.pydata.org/docs/reference/api/pandas.DataFrame.isnull.html) is an alias for `isna`.\n",
    "- The [.value_counts](https://pandas.pydata.org/docs/reference/api/pandas.Series.value_counts.html) documentation\n",
    "- [Pandas .isna documentation](https://pandas.pydata.org/pandas-docs/stable/reference/api/pandas.isna.html)"
   ]
  },
  {
   "cell_type": "markdown",
   "id": "40cc58ae",
   "metadata": {},
   "source": [
    "## Exercises\n",
    "- Use `pd.read_csv` to read `\"penguins.csv\"` into a dataframe variable named `penguins`\n",
    "- Write the pandas code to count the number of missing values by column\n",
    "- Write the pandas necessary to get the proportion of missing values by row. Store this to a variable named `percent_missing_by_row`\n",
    "- Sort the `percent_missing_by_row` series in descending order. How many of the rows are mostly empty?"
   ]
  },
  {
   "cell_type": "code",
   "execution_count": null,
   "id": "b851cc92",
   "metadata": {},
   "outputs": [],
   "source": [
    "# Use `pd.read_csv` to read `\"penguins.csv\"` into a dataframe variable named `penguins`\n"
   ]
  },
  {
   "cell_type": "code",
   "execution_count": null,
   "id": "1deb7fe4",
   "metadata": {},
   "outputs": [],
   "source": [
    "# Use .isna to count the number of missing values by column\n"
   ]
  },
  {
   "cell_type": "code",
   "execution_count": null,
   "id": "dd3514aa",
   "metadata": {},
   "outputs": [],
   "source": [
    "# Write the pandas necessary to get the proportion of missing values by row. \n",
    "# Store this to a variable named `percent_missing_by_row`\n"
   ]
  },
  {
   "cell_type": "code",
   "execution_count": null,
   "id": "c7cae724",
   "metadata": {},
   "outputs": [],
   "source": [
    "# Sort the `percent_missing_by_row` series in descending order\n",
    "# How many of the rows are mostly empty\n"
   ]
  },
  {
   "cell_type": "code",
   "execution_count": null,
   "id": "cbd841ce",
   "metadata": {},
   "outputs": [],
   "source": []
  }
 ],
 "metadata": {
  "kernelspec": {
   "display_name": "Python 3 (ipykernel)",
   "language": "python",
   "name": "python3"
  },
  "language_info": {
   "codemirror_mode": {
    "name": "ipython",
    "version": 3
   },
   "file_extension": ".py",
   "mimetype": "text/x-python",
   "name": "python",
   "nbconvert_exporter": "python",
   "pygments_lexer": "ipython3",
   "version": "3.9.7"
  }
 },
 "nbformat": 4,
 "nbformat_minor": 5
}
