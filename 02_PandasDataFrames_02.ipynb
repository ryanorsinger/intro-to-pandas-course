{
 "cells": [
  {
   "cell_type": "markdown",
   "id": "f64d46bb",
   "metadata": {},
   "source": [
    "# Intro to Pandas\n",
    "by Ryan Orsinger"
   ]
  },
  {
   "cell_type": "markdown",
   "id": "37bc64da",
   "metadata": {},
   "source": [
    "## Module 2: Introducing DataFrames\n",
    "\n",
    "### Pandas DataFrames Basics - Part 2\n",
    "- Helpful Jupyter features\n",
    "- Importing a CSV dataset\n",
    "- Selecting multiple columns\n",
    "- Counting True values in a Boolean series\n",
    "- Filtering rows with Boolean masks\n",
    "- Using AND and OR operators\n",
    "- Why and when to use .copy\n",
    "- Sorting a dataframe by one or more columns"
   ]
  },
  {
   "cell_type": "code",
   "execution_count": null,
   "id": "34891aca",
   "metadata": {},
   "outputs": [],
   "source": [
    "import pandas as pd"
   ]
  },
  {
   "cell_type": "code",
   "execution_count": null,
   "id": "7ff6b757",
   "metadata": {},
   "outputs": [],
   "source": [
    "# pd.read_csv reads a comma-separated value file and returns a dataframe\n",
    "mpg = pd.read_csv(\"mpg.csv\")\n",
    "mpg"
   ]
  },
  {
   "cell_type": "code",
   "execution_count": null,
   "id": "1460e1a9",
   "metadata": {},
   "outputs": [],
   "source": [
    "# Showing the object.tab autocomplete option\n",
    "# Type the variable that's already been evaluated in memory\n",
    "# This works with imported modules, too\n",
    "# Type .\n",
    "# Then type the <Tab> character\n",
    "mpg.count?"
   ]
  },
  {
   "cell_type": "code",
   "execution_count": null,
   "id": "ed0664bc",
   "metadata": {},
   "outputs": [],
   "source": [
    "# Pulling up the docstring for a method\n",
    "mpg.head?"
   ]
  },
  {
   "cell_type": "code",
   "execution_count": null,
   "id": "b940d553",
   "metadata": {},
   "outputs": [],
   "source": [
    "# .tail looks at the last records of a pandas object (series or datafram)\n",
    "mpg.tail(3)"
   ]
  },
  {
   "cell_type": "code",
   "execution_count": null,
   "id": "3d54be78",
   "metadata": {},
   "outputs": [],
   "source": [
    "# The square brackets on the dataframe can accept a list of column names \n",
    "columns_of_interest = [\"displ\", \"cty\", \"hwy\"]\n",
    "mpg[columns_of_interest].head()"
   ]
  },
  {
   "cell_type": "code",
   "execution_count": null,
   "id": "edf9b18f",
   "metadata": {},
   "outputs": [],
   "source": [
    "# You'll also see the same result with double square brackets\n",
    "mpg[[\"cty\", \"hwy\"]].head()"
   ]
  },
  {
   "cell_type": "code",
   "execution_count": null,
   "id": "1c82ed92",
   "metadata": {},
   "outputs": [],
   "source": [
    "# Our functions like .mean, .sum, .median, min/max evaluate an entire column, by default\n",
    "# There's a default argument in .mean() that's axis=0 (which means column)\n",
    "mpg[[\"cty\", \"hwy\"]].mean(axis=0)"
   ]
  },
  {
   "cell_type": "code",
   "execution_count": null,
   "id": "d3c9740c",
   "metadata": {},
   "outputs": [],
   "source": [
    "mpg[[\"cty\", \"hwy\"]].head()"
   ]
  },
  {
   "cell_type": "code",
   "execution_count": null,
   "id": "ae623a29",
   "metadata": {},
   "outputs": [],
   "source": [
    "# axis=1 means execute the .mean on each row, row-wise execution\n",
    "mpg[[\"cty\", \"hwy\"]].mean(axis=1).head()"
   ]
  },
  {
   "cell_type": "code",
   "execution_count": null,
   "id": "6eb71904",
   "metadata": {},
   "outputs": [],
   "source": [
    "# axis=1 calculates the row-wise average\n",
    "mpg[\"average_mileage\"] = mpg[[\"cty\", \"hwy\"]].mean(axis=1)\n",
    "mpg.head()"
   ]
  },
  {
   "cell_type": "code",
   "execution_count": null,
   "id": "fa44eeb8",
   "metadata": {},
   "outputs": [],
   "source": [
    "# value_counts shows unique values and their distribution\n",
    "mpg.cyl.value_counts()"
   ]
  },
  {
   "cell_type": "code",
   "execution_count": null,
   "id": "a0befd28",
   "metadata": {},
   "outputs": [],
   "source": [
    "# Using Boolean Series to answer questions\n",
    "# How many audis in the dataset\n",
    "# True works as a 1, False works as 0\n",
    "(mpg.manufacturer == \"audi\").sum()"
   ]
  },
  {
   "cell_type": "code",
   "execution_count": null,
   "id": "a1c26a98",
   "metadata": {},
   "outputs": [],
   "source": [
    "# What proportion of engines are 4 cylinders?\n",
    "(mpg.cyl == 4).mean()"
   ]
  },
  {
   "cell_type": "code",
   "execution_count": null,
   "id": "915420ec",
   "metadata": {},
   "outputs": [],
   "source": [
    "# Using Boolean Series to filter a dataframe\n",
    "mpg[mpg.cyl == 5]"
   ]
  },
  {
   "cell_type": "code",
   "execution_count": null,
   "id": "2821bada",
   "metadata": {
    "scrolled": false
   },
   "outputs": [],
   "source": [
    "# You can mix and match the columns used to generate Booleans, the Boolean values don't care\n",
    "mpg[(mpg.model == \"maxima\") | (mpg.cyl == 5)]"
   ]
  },
  {
   "cell_type": "code",
   "execution_count": null,
   "id": "8e44b998",
   "metadata": {},
   "outputs": [],
   "source": [
    "# AND limits options. Both predicates must be true\n",
    "mpg[(mpg[\"class\"] == \"midsize\") & (mpg[\"displ\"] < 2)]"
   ]
  },
  {
   "cell_type": "code",
   "execution_count": null,
   "id": "46915e72",
   "metadata": {},
   "outputs": [],
   "source": [
    "original_df = pd.DataFrame({\"x\": [1, 2, 3]})\n",
    "original_df"
   ]
  },
  {
   "cell_type": "code",
   "execution_count": null,
   "id": "50908de0",
   "metadata": {},
   "outputs": [],
   "source": [
    "# Be careful assigning Python collections like this...\n",
    "# This works the same way with lists, dictionaries, and many other collection objects\n",
    "new_df = original_df"
   ]
  },
  {
   "cell_type": "code",
   "execution_count": null,
   "id": "4ec9a44b",
   "metadata": {},
   "outputs": [],
   "source": [
    "original_df[\"y\"] = original_df.x * 100\n",
    "original_df"
   ]
  },
  {
   "cell_type": "code",
   "execution_count": null,
   "id": "6a726382",
   "metadata": {},
   "outputs": [],
   "source": [
    "new_df"
   ]
  },
  {
   "cell_type": "code",
   "execution_count": null,
   "id": "cd385569",
   "metadata": {},
   "outputs": [],
   "source": [
    "# Use .copy to make a proper copy of a dataframe\n",
    "new_df = original_df.copy()\n",
    "new_df"
   ]
  },
  {
   "cell_type": "code",
   "execution_count": null,
   "id": "9e790875",
   "metadata": {},
   "outputs": [],
   "source": [
    "original_df[\"z\"] = 5000\n",
    "original_df"
   ]
  },
  {
   "cell_type": "code",
   "execution_count": null,
   "id": "b4ebde44",
   "metadata": {},
   "outputs": [],
   "source": [
    "# The new df was created from a copy and avoids future mutation to the original dataframe\n",
    "new_df"
   ]
  },
  {
   "cell_type": "code",
   "execution_count": null,
   "id": "f5d57b4a",
   "metadata": {},
   "outputs": [],
   "source": [
    "# Sorting by a single column\n",
    "mpg.sort_values(by=[\"average_mileage\"], ascending=False, ignore_index=True).head()"
   ]
  },
  {
   "cell_type": "code",
   "execution_count": null,
   "id": "9059739d",
   "metadata": {},
   "outputs": [],
   "source": [
    "# Sorting by multiple columns\n",
    "mpg.sort_values(by=[\"hwy\", \"cty\"], ascending=False, ignore_index=True).head()"
   ]
  },
  {
   "cell_type": "code",
   "execution_count": null,
   "id": "51290503",
   "metadata": {},
   "outputs": [],
   "source": [
    "# Updating the dataframe to store the sorted values\n",
    "# Use inplace=True or reassign the dataframe variable (not both)\n",
    "mpg.sort_values(by=\"displ\", ascending=False, ignore_index=True, inplace=True)\n",
    "mpg.head()"
   ]
  },
  {
   "cell_type": "markdown",
   "id": "535d70ea",
   "metadata": {},
   "source": [
    "## Additional Resources\n",
    "- [Pandas Cheat Sheet](https://pandas.pydata.org/Pandas_Cheat_Sheet.pdf)\n",
    "- [Pandas Comparison to Spreadsheets](https://pandas.pydata.org/docs/dev/getting_started/comparison/comparison_with_spreadsheets.html)\n",
    "- [Pandas Comparison to SQL](https://pandas.pydata.org/docs/dev/getting_started/comparison/comparison_with_sql.html)"
   ]
  },
  {
   "cell_type": "markdown",
   "id": "a8cb227e",
   "metadata": {},
   "source": [
    "## Exercises\n",
    "- Create a new column named `is_automatic` that holds a Boolean if that given vehicle is an automatic transmition or not. \n",
    "- Use the `is_automatic` column to sum up the number of automatic vehicles in this dataset.\n",
    "- Write the pandas code to determine what percentage of the vehicles are subcompacts?\n",
    "- Combined fuel economy is a weighted average of the city value by 55% and the highway value by 45%. Use arithmetic operators to add a new column named `fuel_economy` to the `mpg` dataframe.\n",
    "- Use Boolean masking to find all of the vehicles with a `fuel_economy` above the median `fuel_economy`.\n",
    "\n"
   ]
  },
  {
   "cell_type": "code",
   "execution_count": null,
   "id": "e7f35a2c",
   "metadata": {},
   "outputs": [],
   "source": [
    "# Create a new column named `is_automatic` that holds a Boolean if that given vehicle is an automatic transmition or not. \n"
   ]
  },
  {
   "cell_type": "code",
   "execution_count": null,
   "id": "0f9fb2e7",
   "metadata": {},
   "outputs": [],
   "source": [
    "# Use the `is_automatic` column to sum up the number of automatic vehicles in this dataset.\n"
   ]
  },
  {
   "cell_type": "code",
   "execution_count": null,
   "id": "f3234786",
   "metadata": {},
   "outputs": [],
   "source": [
    "# Write the pandas code to determine what percentage of the vehicles are subcompacts?\n"
   ]
  },
  {
   "cell_type": "code",
   "execution_count": null,
   "id": "b59a6d9a",
   "metadata": {},
   "outputs": [],
   "source": [
    "# Create a `fuel_economy` column. Fuel economy is a weighted average of the city value by 55% and the highway value by 45%\n"
   ]
  },
  {
   "cell_type": "code",
   "execution_count": null,
   "id": "84f45b10",
   "metadata": {},
   "outputs": [],
   "source": [
    "# Use Boolean masking to find all of the vehicles with a `fuel_economy` above the median `fuel_economy`.\n"
   ]
  },
  {
   "cell_type": "code",
   "execution_count": null,
   "id": "e30748e4",
   "metadata": {},
   "outputs": [],
   "source": []
  }
 ],
 "metadata": {
  "kernelspec": {
   "display_name": "Python 3 (ipykernel)",
   "language": "python",
   "name": "python3"
  },
  "language_info": {
   "codemirror_mode": {
    "name": "ipython",
    "version": 3
   },
   "file_extension": ".py",
   "mimetype": "text/x-python",
   "name": "python",
   "nbconvert_exporter": "python",
   "pygments_lexer": "ipython3",
   "version": "3.9.7"
  }
 },
 "nbformat": 4,
 "nbformat_minor": 5
}
