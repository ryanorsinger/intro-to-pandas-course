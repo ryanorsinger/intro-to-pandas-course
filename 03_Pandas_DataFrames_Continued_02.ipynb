{
 "cells": [
  {
   "cell_type": "markdown",
   "id": "b93319a7",
   "metadata": {},
   "source": [
    "# Intro to Pandas\n",
    "by Ryan Orsinger"
   ]
  },
  {
   "cell_type": "markdown",
   "id": "dce75101",
   "metadata": {},
   "source": [
    "## Module 3: DataFrames Continued\n",
    "\n",
    "### Pandas DataFrames Continued - Filling Missing Values\n",
    "- Filling missing values\n",
    "- Using `.fillna`\n",
    "- Using `.loc` with DataFrames (similar to `.loc` on Series, but two-dimensional w/ rows and columns)\n",
    "\n",
    "### Handling Missing Values is a Case in Creative Problem Solving\n",
    "- There's no single right answer for all cases. \n",
    "- \"It depends\" is a common answer in data science. Context matters.\n",
    "\n",
    "- Sometimes missing values might mean zero, depending on the context, so we can fill in zero.\n",
    "- Sometimes, dropping entire rows or columns is appropriate\n",
    "- Other times, filling missing values with the mean, the median, the mode, or a likely value is appropriate\n",
    "\n",
    "- Sometimes, analysts drop rows with too many missing values\n",
    "- Other times, analysts drop columns with too many missing values\n",
    "- Missing values can also be filled with a reasonable estimation, like a median, mean, or mode value.\n",
    "- Filling too many missing values can skew the original data."
   ]
  },
  {
   "cell_type": "code",
   "execution_count": null,
   "id": "09eb8bf9",
   "metadata": {},
   "outputs": [],
   "source": [
    "import pandas as pd"
   ]
  },
  {
   "cell_type": "code",
   "execution_count": null,
   "id": "e5f3ada8",
   "metadata": {},
   "outputs": [],
   "source": [
    "# Let's generate some data with missing values. \n",
    "# Real world data often has missing values\n",
    "df = pd.DataFrame([\n",
    "    {\n",
    "        \"item\": \"crackers\",\n",
    "        \"serving_size\": \"4 crackers\",\n",
    "        \"calories\": 10,\n",
    "        \"fat\": \"1.1g\",\n",
    "        \"sodium\": \"125mg\",\n",
    "        \"price\": 2.99,\n",
    "    },\n",
    "    {\n",
    "        \"item\": \"club soda\",\n",
    "        \"serving_size\": \"8 oz\",\n",
    "        \"calories\": None,\n",
    "        \"fat\": None,\n",
    "        \"sodium\": \"75mg\",\n",
    "        \"price\": 2.25,\n",
    "\n",
    "    },\n",
    "    {\n",
    "        \"item\": \"apple\",\n",
    "        \"serving_size\": 2,\n",
    "        \"calories\": 95,\n",
    "        \"fat\": None,\n",
    "        \"sodium\": None,\n",
    "        \"price\": 1.99,\n",
    "    },\n",
    "    {\n",
    "        \"item\": \"banana\",\n",
    "        \"serving_size\": 3,\n",
    "        \"calories\": 105,\n",
    "        \"fat\": \"0.4g\",\n",
    "        \"sodium\": \"1mg\",\n",
    "        \"price\": None,\n",
    "    },\n",
    "    {\n",
    "        \"item\": \"spam\",\n",
    "        \"serving_size\": \"1 tin\",\n",
    "        \"calories\": None,\n",
    "        \"fat\": None,\n",
    "        \"sodium\": None,\n",
    "        \"price\": None,\n",
    "    }\n",
    "])\n",
    "\n",
    "# Set the index to be the item name\n",
    "df.set_index(\"item\", inplace=True)\n",
    "df"
   ]
  },
  {
   "cell_type": "code",
   "execution_count": null,
   "id": "249eb6fb",
   "metadata": {},
   "outputs": [],
   "source": [
    "# Example of filling null values with a reasonable value\n",
    "# Apples and club soda don't have fat, so these missing values can be 0\n",
    "df.fat = df.fat.fillna(0)\n",
    "df"
   ]
  },
  {
   "cell_type": "markdown",
   "id": "b22a1095",
   "metadata": {},
   "source": [
    "### An Aside About Pandas Warnings\n",
    "- Pandas warnings are not errors. The code will run. The warning is a notice, not an error that halts execution.\n",
    "- Depending on your version of pandas, the above code might produce the following warning.\n",
    "```\n",
    "SettingWithCopyWarning: A value is trying to be set on a copy of a slice from a DataFrame.\n",
    "Try using .loc[row_index,col_indexer] = value instead\n",
    "```\n",
    "- Since this may impact some users, we'll move into working with `.loc` \n"
   ]
  },
  {
   "cell_type": "code",
   "execution_count": null,
   "id": "39c60955",
   "metadata": {},
   "outputs": [],
   "source": [
    "# Example of .loc's row_indexing and column_indexing\n",
    "# [start_row:end_row, column_start:column_end]\n",
    "# [:,] returns all rows and all columns\n",
    "df.loc[:,]"
   ]
  },
  {
   "cell_type": "code",
   "execution_count": null,
   "id": "9298f935",
   "metadata": {},
   "outputs": [],
   "source": [
    "# Notice how we're getting the range of rows from club soda to apple\n",
    "# df.loc[\"club soda\":\"banana\", :]\n",
    "df.loc[\"club soda\":\"banana\"]"
   ]
  },
  {
   "cell_type": "code",
   "execution_count": null,
   "id": "70857f14",
   "metadata": {},
   "outputs": [],
   "source": [
    "# Notice how .loc uses the indexing syntax\n",
    "df.loc[df.index == \"apple\"]"
   ]
  },
  {
   "cell_type": "code",
   "execution_count": null,
   "id": "e29e83a6",
   "metadata": {},
   "outputs": [],
   "source": [
    "# Notice how .loc uses the indexing syntax\n",
    "df.loc[df.serving_size == 3]"
   ]
  },
  {
   "cell_type": "code",
   "execution_count": null,
   "id": "b397a6fd",
   "metadata": {},
   "outputs": [],
   "source": [
    "# Notice how .loc uses the indexing syntax\n",
    "df.loc[df.index == \"apple\", \"serving_size\":\"fat\"]"
   ]
  },
  {
   "cell_type": "code",
   "execution_count": null,
   "id": "9aa89b12",
   "metadata": {},
   "outputs": [],
   "source": [
    "# All rows, show only calories as the column\n",
    "df.loc[:, \"calories\"]"
   ]
  },
  {
   "cell_type": "code",
   "execution_count": null,
   "id": "50c7a2a9",
   "metadata": {},
   "outputs": [],
   "source": [
    "# Notice how : for rows returns all rows\n",
    "# show all the columns from calories through price 9(inclusive)\n",
    "df.loc[:, \"calories\":\"price\"]"
   ]
  },
  {
   "cell_type": "code",
   "execution_count": null,
   "id": "1245119f",
   "metadata": {},
   "outputs": [],
   "source": [
    "# Some pandas operataions may throw a SettingWithCopyWarning\n",
    "# Recommend reading the documentation carefully\n",
    "# Pandas developers designed this warning because effects can be difficult to predict\n",
    "# Notice how the above operation evaluated, but the warning can feel disruptive.\n",
    "df.loc[df.calories.isna(), \"calories\"] = 0\n",
    "df"
   ]
  },
  {
   "cell_type": "code",
   "execution_count": null,
   "id": "5847a4e0",
   "metadata": {},
   "outputs": [],
   "source": [
    "# An average price might be reasonable here, since we don't have other information\n",
    "df.loc[df.price.isna(), \"price\"] = df.price.mean()\n",
    "df"
   ]
  },
  {
   "cell_type": "code",
   "execution_count": null,
   "id": "3aa4b619",
   "metadata": {},
   "outputs": [],
   "source": [
    "# Actual Spam information\n",
    "spam_calories = 1080\n",
    "spam_fat = \"96g\"\n",
    "spam_sodium = \"4740mg\" \n",
    "spam_price = 3.25\n",
    "\n",
    "df.loc[df.index == \"spam\", \"calories\":\"price\"] = [spam_calories, spam_fat, spam_sodium, spam_price]\n",
    "df"
   ]
  },
  {
   "cell_type": "code",
   "execution_count": null,
   "id": "ba0a9162",
   "metadata": {},
   "outputs": [],
   "source": [
    "# Let's say we got in some new information about discounts\n",
    "# The business manager says that we'll use discounts in the future and the existing values should be 0.\n",
    "# We'll need to re-create the column and assign it zero\n",
    "df[\"discount\"] = 0"
   ]
  },
  {
   "cell_type": "code",
   "execution_count": null,
   "id": "6f8b714c",
   "metadata": {},
   "outputs": [],
   "source": [
    "df"
   ]
  },
  {
   "cell_type": "markdown",
   "id": "b9973ad8",
   "metadata": {},
   "source": [
    "## Additional Resources\n",
    "- Using [.fillna](https://pandas.pydata.org/docs/reference/api/pandas.DataFrame.fillna.html)\n",
    "- [Returning-a-view-versus-a-copy in the pandas docs](https://pandas.pydata.org/pandas-docs/stable/user_guide/indexing.html#returning-a-view-versus-a-copy)\n",
    "- [pandas .loc documentation](https://pandas.pydata.org/docs/reference/api/pandas.DataFrame.loc.html)\n",
    "- [pandas .iloc documentation](https://pandas.pydata.org/docs/reference/api/pandas.DataFrame.iloc.html)"
   ]
  },
  {
   "cell_type": "markdown",
   "id": "050e7a8b",
   "metadata": {},
   "source": [
    "## Exercises\n",
    "- Run the cells above to remove or fill most of the missing values from the `df` variable.\n",
    "- Fill the missing sodium value with a logical choice.\n",
    "- Use `pd.read_csv` to read `\"penguins.csv\"` into a dataframe variable named `penguins`\n",
    "- Fill the missing values of the `bill_length_mm` with its average\n",
    "- Fill in the missing values for `bill_depth_mm` with its average\n",
    "- Fill in the missing values for `body_mass_g` with its average\n",
    "- Run `.value_counts` on the `sex` column\n",
    "- Fill the missing values in the `sex` column with the `mode` (Follow .mode() with [0] to access the string value)\n",
    "- Run `.value_counts` on the `sex` column again, after filling the missing values"
   ]
  },
  {
   "cell_type": "code",
   "execution_count": null,
   "id": "a6bff091",
   "metadata": {},
   "outputs": [],
   "source": [
    "# Fill the missing sodium value with a logical choice.\n"
   ]
  },
  {
   "cell_type": "code",
   "execution_count": null,
   "id": "ed25635a",
   "metadata": {},
   "outputs": [],
   "source": [
    "# df.loc[row_indexer, column_indexer] = value\n",
    "df.loc[df.sodium.insa(), \"sodium\"] = 0"
   ]
  },
  {
   "cell_type": "code",
   "execution_count": null,
   "id": "36cdefcf",
   "metadata": {},
   "outputs": [],
   "source": [
    "# Use `pd.read_csv` to read `\"penguins.csv\"` into a dataframe variable named `penguins`\n"
   ]
  },
  {
   "cell_type": "code",
   "execution_count": null,
   "id": "c9ddb08a",
   "metadata": {},
   "outputs": [],
   "source": [
    "# Fill the missing values of the `bill_length_mm` with its average\n"
   ]
  },
  {
   "cell_type": "code",
   "execution_count": null,
   "id": "9e74e93c",
   "metadata": {},
   "outputs": [],
   "source": [
    "# Fill in the missing values for `bill_depth_mm` with its average\n"
   ]
  },
  {
   "cell_type": "code",
   "execution_count": null,
   "id": "e0edd81f",
   "metadata": {},
   "outputs": [],
   "source": [
    "# Fill in the missing values for `body_mass_g` with its average\n"
   ]
  },
  {
   "cell_type": "code",
   "execution_count": null,
   "id": "89ebf79f",
   "metadata": {},
   "outputs": [],
   "source": [
    "# Run `.value_counts` on the `sex` column\n"
   ]
  },
  {
   "cell_type": "code",
   "execution_count": null,
   "id": "5e7a5dc3",
   "metadata": {},
   "outputs": [],
   "source": [
    "# Fill the missing values in the `sex` column with the `mode` (Follow .mode() with [0] to access the string value)\n"
   ]
  },
  {
   "cell_type": "code",
   "execution_count": null,
   "id": "6fc6c35c",
   "metadata": {},
   "outputs": [],
   "source": [
    "# Run `.value_counts` on the `sex` column again, after filling the missing values\n"
   ]
  },
  {
   "cell_type": "code",
   "execution_count": null,
   "id": "b5197a84",
   "metadata": {},
   "outputs": [],
   "source": []
  }
 ],
 "metadata": {
  "kernelspec": {
   "display_name": "Python 3 (ipykernel)",
   "language": "python",
   "name": "python3"
  },
  "language_info": {
   "codemirror_mode": {
    "name": "ipython",
    "version": 3
   },
   "file_extension": ".py",
   "mimetype": "text/x-python",
   "name": "python",
   "nbconvert_exporter": "python",
   "pygments_lexer": "ipython3",
   "version": "3.9.7"
  }
 },
 "nbformat": 4,
 "nbformat_minor": 5
}
