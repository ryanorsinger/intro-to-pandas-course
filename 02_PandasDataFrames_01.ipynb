{
 "cells": [
  {
   "cell_type": "markdown",
   "id": "3f395488",
   "metadata": {},
   "source": [
    "# Intro to Pandas\n",
    "by Ryan Orsinger"
   ]
  },
  {
   "cell_type": "markdown",
   "id": "2803c8da",
   "metadata": {},
   "source": [
    "## Module 2: Introducing the DataFrame\n",
    "\n",
    "### Pandas Series Part 1\n",
    "- How to make pandas DataFrames from other Python\n",
    "- Learning about your dataframe\n",
    "- Selecting a single column\n",
    "- Selecting multiple columns\n",
    "- Adding new columns to a DataFrame"
   ]
  },
  {
   "cell_type": "code",
   "execution_count": null,
   "id": "78e9baf8",
   "metadata": {},
   "outputs": [],
   "source": []
  }
 ],
 "metadata": {
  "kernelspec": {
   "display_name": "Python 3 (ipykernel)",
   "language": "python",
   "name": "python3"
  },
  "language_info": {
   "codemirror_mode": {
    "name": "ipython",
    "version": 3
   },
   "file_extension": ".py",
   "mimetype": "text/x-python",
   "name": "python",
   "nbconvert_exporter": "python",
   "pygments_lexer": "ipython3",
   "version": "3.9.7"
  }
 },
 "nbformat": 4,
 "nbformat_minor": 5
}
