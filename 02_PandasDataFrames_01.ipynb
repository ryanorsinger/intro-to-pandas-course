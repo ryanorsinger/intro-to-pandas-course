{
 "cells": [
  {
   "cell_type": "markdown",
   "id": "3f395488",
   "metadata": {},
   "source": [
    "# Intro to Pandas\n",
    "by Ryan Orsinger"
   ]
  },
  {
   "cell_type": "markdown",
   "id": "2803c8da",
   "metadata": {},
   "source": [
    "## Module 2: Introducing DataFrames\n",
    "\n",
    "### Pandas DataFrames Basics - Part 1\n",
    "- How to make pandas DataFrames from other Python collections\n",
    "- Learning about your dataframe's properties and information\n",
    "- Selecting a single column\n",
    "- Adding new columns to a DataFrame\n",
    "- Renaming columns\n",
    "- Descriptive stats on the columns"
   ]
  },
  {
   "cell_type": "code",
   "execution_count": null,
   "id": "30ad2d93",
   "metadata": {},
   "outputs": [],
   "source": [
    "import pandas as pd"
   ]
  },
  {
   "cell_type": "code",
   "execution_count": null,
   "id": "3f78f0c9",
   "metadata": {},
   "outputs": [],
   "source": [
    "# Creating a dataframe from a list of dictionaries\n",
    "basket = [\n",
    "    {\"item\": \"mango\", \"quantity\": 4, \"price\": 2.99},\n",
    "    {\"item\": \"bread\", \"quantity\": 2, \"price\": 3.25},\n",
    "    {\"item\": \"juice\", \"quantity\": 1, \"price\": 5.90},\n",
    "    {\"item\": \"orange\", \"quantity\": 3, \"price\": 2.99},\n",
    "    {\"item\": \"lime\", \"quantity\": 3, \"price\": 0.3},\n",
    "]\n",
    "basket"
   ]
  },
  {
   "cell_type": "code",
   "execution_count": null,
   "id": "de47a542",
   "metadata": {},
   "outputs": [],
   "source": [
    "# With dataframes, our columns are our variables or features\n",
    "# Each row represents a unique observation (usually)\n",
    "df = pd.DataFrame(basket)\n",
    "df"
   ]
  },
  {
   "cell_type": "code",
   "execution_count": null,
   "id": "b1292792",
   "metadata": {},
   "outputs": [],
   "source": [
    "# Creating a dataframe from a dictionary of lists\n",
    "basket = {\n",
    "    \"item\": [\"mango\", \"bread\", \"juice\", \"orange\", \"lime\"],\n",
    "    \"quantity\": [4, 2, 1, 3, 3],\n",
    "    \"price\": [2.99, 3.25, 5.90, 2.99, 0.30]\n",
    "}\n",
    "basket"
   ]
  },
  {
   "cell_type": "code",
   "execution_count": null,
   "id": "58735ce3",
   "metadata": {},
   "outputs": [],
   "source": [
    "pd.DataFrame(basket)"
   ]
  },
  {
   "cell_type": "code",
   "execution_count": null,
   "id": "16868baf",
   "metadata": {},
   "outputs": [],
   "source": [
    "# Creating a dataframe from a list of lists\n",
    "example = [\n",
    "    [1, 2, 3],\n",
    "    [4, 5, 6],\n",
    "    [7, 8, 9]\n",
    "]\n",
    "\n",
    "column_names = [\"variable_a\", \"variable_b\", \"variable_c\"]\n",
    "row_names = [\"observation_1\", \"observation_2\", \"observation_3\"]\n",
    "\n",
    "pd.DataFrame(example, columns=column_names, index=row_names)"
   ]
  },
  {
   "cell_type": "code",
   "execution_count": null,
   "id": "3491ae56",
   "metadata": {},
   "outputs": [],
   "source": [
    "# Creating an empty dataframe\n",
    "df = pd.DataFrame()\n",
    "\n",
    "# Adding columns to a dataframe\n",
    "# Any list-like data type can become a column\n",
    "df[\"item\"] = pd.Series([\"Mango\", \"Bread\", \"Juice\", \"Orange\", \"Lime\"])\n",
    "df[\"quantity\"] = [2, 2, 1, 3, 3]\n",
    "df[\"price\"] = (2.99, 3.25, 5.90, 2.99, 0.30)\n",
    "df"
   ]
  },
  {
   "cell_type": "code",
   "execution_count": null,
   "id": "d10a4b7d",
   "metadata": {},
   "outputs": [],
   "source": [
    "# .shape returns rows, columns\n",
    "df.shape"
   ]
  },
  {
   "cell_type": "code",
   "execution_count": null,
   "id": "2022035a",
   "metadata": {},
   "outputs": [],
   "source": [
    "# Returns the rows\n",
    "df.shape[0]"
   ]
  },
  {
   "cell_type": "code",
   "execution_count": null,
   "id": "609cdcb5",
   "metadata": {},
   "outputs": [],
   "source": [
    "# Returns the number of columns\n",
    "df.shape[1]"
   ]
  },
  {
   "cell_type": "code",
   "execution_count": null,
   "id": "cf2e6fcd",
   "metadata": {},
   "outputs": [],
   "source": [
    "# len returns number of rows\n",
    "len(df)"
   ]
  },
  {
   "cell_type": "code",
   "execution_count": null,
   "id": "edc6c56e",
   "metadata": {},
   "outputs": [],
   "source": [
    "# size returns rows * columns\n",
    "df.size"
   ]
  },
  {
   "cell_type": "code",
   "execution_count": null,
   "id": "aac8d0e7",
   "metadata": {},
   "outputs": [],
   "source": [
    "# Adding new columns to the dataframe\n",
    "df[\"subtotal\"] = df[\"quantity\"] * df[\"price\"]\n",
    "df"
   ]
  },
  {
   "cell_type": "code",
   "execution_count": null,
   "id": "054bc713",
   "metadata": {},
   "outputs": [],
   "source": [
    "# set_index can overwrite the default index\n",
    "df.set_index(\"item\", inplace=True)\n",
    "df"
   ]
  },
  {
   "cell_type": "code",
   "execution_count": null,
   "id": "c599c8eb",
   "metadata": {},
   "outputs": [],
   "source": [
    "# Accessing the index values\n",
    "df.index"
   ]
  },
  {
   "cell_type": "code",
   "execution_count": null,
   "id": "99349263",
   "metadata": {},
   "outputs": [],
   "source": [
    "# We can also overwrite the index with a Series of equal length\n",
    "df.index = df.index.str.lower()\n",
    "df"
   ]
  },
  {
   "cell_type": "code",
   "execution_count": null,
   "id": "76e1132c",
   "metadata": {},
   "outputs": [],
   "source": [
    "# Accessing all the columns\n",
    "df.columns"
   ]
  },
  {
   "cell_type": "code",
   "execution_count": null,
   "id": "2f3993ac",
   "metadata": {},
   "outputs": [],
   "source": [
    "# Another example of creating a new column\n",
    "df[\"tax\"] = 0.07\n",
    "df"
   ]
  },
  {
   "cell_type": "code",
   "execution_count": null,
   "id": "48831344",
   "metadata": {},
   "outputs": [],
   "source": [
    "# The \"total cost\" column does not exist, but this bracket syntax creates it.\n",
    "df[\"total cost\"] = df[\"subtotal\"] + (df[\"subtotal\"] * df[\"tax\"])\n",
    "df"
   ]
  },
  {
   "cell_type": "code",
   "execution_count": null,
   "id": "89e429b8",
   "metadata": {},
   "outputs": [],
   "source": [
    "# Dot syntax also allows for calling an existing column\n",
    "# Using .column syntax only works if the column exists already, has no spaces, and is not a dataframe method already\n",
    "df.price"
   ]
  },
  {
   "cell_type": "code",
   "execution_count": null,
   "id": "5fc9b9b2",
   "metadata": {},
   "outputs": [],
   "source": [
    "# .dtypes outputs the datatypes of all columns in the dataframe\n",
    "df.dtypes"
   ]
  },
  {
   "cell_type": "code",
   "execution_count": null,
   "id": "42a266de",
   "metadata": {},
   "outputs": [],
   "source": [
    "# .info returns datatype and non-null count\n",
    "df.info()"
   ]
  },
  {
   "cell_type": "code",
   "execution_count": null,
   "id": "32df1baa",
   "metadata": {},
   "outputs": [],
   "source": [
    "df.price.describe()"
   ]
  },
  {
   "cell_type": "code",
   "execution_count": null,
   "id": "a30fc88f",
   "metadata": {},
   "outputs": [],
   "source": [
    "# Show descriptive stats for numeric columns\n",
    "df.describe()"
   ]
  },
  {
   "cell_type": "code",
   "execution_count": null,
   "id": "a68bd228",
   "metadata": {},
   "outputs": [],
   "source": [
    "# A column in a dataframe is a series\n",
    "type(df.quantity)"
   ]
  },
  {
   "cell_type": "code",
   "execution_count": null,
   "id": "302b7fb7",
   "metadata": {},
   "outputs": [],
   "source": [
    "# .value_counts returns a series\n",
    "df.quantity.value_counts()"
   ]
  },
  {
   "cell_type": "code",
   "execution_count": null,
   "id": "32c5003b",
   "metadata": {},
   "outputs": [],
   "source": [
    "# Aggregate functions can run on all the numeric values in the dataframe\n",
    "df.mean()"
   ]
  },
  {
   "cell_type": "code",
   "execution_count": null,
   "id": "a34b3597",
   "metadata": {},
   "outputs": [],
   "source": [
    "# Obtain the median of all numeric columns\n",
    "df.median()"
   ]
  },
  {
   "cell_type": "code",
   "execution_count": null,
   "id": "9ba2daf1",
   "metadata": {},
   "outputs": [],
   "source": [
    "# Standard deviation of all the numeric columns\n",
    "df.std()"
   ]
  },
  {
   "cell_type": "code",
   "execution_count": null,
   "id": "2882d338",
   "metadata": {},
   "outputs": [],
   "source": [
    "# The square bracket syntax can be used to access column names with spaces\n",
    "# Same with column names that are methods on the dataframe object\n",
    "# Recommend avoiding column names with spaces, removing spaces when you encounter them\n",
    "# Recommend avoiding naming columns after dataframe method\n",
    "df[\"shape\"] = [\"round\", \"loaf\", \"jug\", \"round\", \"round\"]\n",
    "df"
   ]
  },
  {
   "cell_type": "code",
   "execution_count": null,
   "id": "fed7bb27",
   "metadata": {},
   "outputs": [],
   "source": [
    "# Remember that the .shape attribute shows # rows, #columns\n",
    "df.shape"
   ]
  },
  {
   "cell_type": "code",
   "execution_count": null,
   "id": "966087d2",
   "metadata": {},
   "outputs": [],
   "source": [
    "# The bracket quote syntax returns the column\n",
    "df[\"shape\"]"
   ]
  },
  {
   "cell_type": "code",
   "execution_count": null,
   "id": "e4dd538e",
   "metadata": {},
   "outputs": [],
   "source": [
    "# Naming columns the same as built-in dataframe methods and spaces in column names are not helpful\n",
    "# .rename allows for renaming columns in a dataframe using a dictionary\n",
    "df.rename(columns={\"shape\": \"item_shape\", \"total cost\": \"total\"}, inplace=True)\n",
    "df"
   ]
  },
  {
   "cell_type": "markdown",
   "id": "0e5976e6",
   "metadata": {},
   "source": [
    "## Exercises\n",
    "- Assign dataframe named `items` out of the following list of dictionaries.\n",
    "```\n",
    "items = [\n",
    "    {\"item name\": \"USB cable\", \"price\": \"$10.99\", \"type\": \"USB C to USB C\"},\n",
    "    {\"item name\": \"USB cable\", \"price\": \"$10.99\", \"type\": \"USB A to USB C\"},\n",
    "    {\"item name\": \"Batteries\", \"price\": \"$9.99\", \"type\": \"AA\"},\n",
    "    {\"item name\": \"Batteries\", \"price\": \"$8.99\", \"type\": \"AAA\"},\n",
    "    {\"item name\": \"Mouse\", \"price\": \"$12.99\", \"type\": \"Wireless USB\"},\n",
    "]\n",
    "```\n",
    "- Rename the `item name` column to `item_name`\n",
    "- Add a column named `units_sold` to this dataframe and assign the values `[41, 113, 54, 35, 22]`\n",
    "- Use what you learned from working with strings to convert the price column into a float (hint: remove non-numeric characters before attempting to convert the data type to a float)\n",
    "- Create a new column named `total_revenue` that holds the `price` column times the `units_sold` column\n",
    "- Round the `total_revenue` column values to the nearest cent. (hint: search or consult the pandas documentation"
   ]
  },
  {
   "cell_type": "code",
   "execution_count": null,
   "id": "ced77590",
   "metadata": {},
   "outputs": [],
   "source": [
    "# Assign dataframe named `items` out of the following list of dictionaries.\n"
   ]
  },
  {
   "cell_type": "code",
   "execution_count": null,
   "id": "c295cbbe",
   "metadata": {},
   "outputs": [],
   "source": [
    "# Rename the item name column to item_name\n"
   ]
  },
  {
   "cell_type": "code",
   "execution_count": null,
   "id": "1cf96712",
   "metadata": {},
   "outputs": [],
   "source": [
    "# Add a column named units_sold to this dataframe and assign the values [41, 113, 54, 35, 22]\n"
   ]
  },
  {
   "cell_type": "code",
   "execution_count": null,
   "id": "c8d2ec24",
   "metadata": {},
   "outputs": [],
   "source": [
    "# Convert the price column into a float data type\n"
   ]
  },
  {
   "cell_type": "code",
   "execution_count": null,
   "id": "fbc9017a",
   "metadata": {},
   "outputs": [],
   "source": [
    "# Create a new column named \"total_revenue\" that holds the `price` column times the `units_sold` column\n"
   ]
  },
  {
   "cell_type": "code",
   "execution_count": null,
   "id": "d0737961",
   "metadata": {},
   "outputs": [],
   "source": [
    "# Round the total_revenue column values to the nearest cent.\n"
   ]
  }
 ],
 "metadata": {
  "kernelspec": {
   "display_name": "Python 3 (ipykernel)",
   "language": "python",
   "name": "python3"
  },
  "language_info": {
   "codemirror_mode": {
    "name": "ipython",
    "version": 3
   },
   "file_extension": ".py",
   "mimetype": "text/x-python",
   "name": "python",
   "nbconvert_exporter": "python",
   "pygments_lexer": "ipython3",
   "version": "3.9.7"
  }
 },
 "nbformat": 4,
 "nbformat_minor": 5
}
