{
 "cells": [
  {
   "cell_type": "markdown",
   "id": "2ffd6d5f",
   "metadata": {},
   "source": [
    "# Intro to Pandas\n",
    "by Ryan Orsinger"
   ]
  },
  {
   "cell_type": "markdown",
   "id": "f9521d1d",
   "metadata": {},
   "source": [
    "## Module 1: Intro to pandas series\n",
    "\n",
    "### Pandas Series Part 2\n",
    "\n",
    "- Using comparison operators to produce Boolean series\n",
    "- Using Boolean indexing to filter data\n",
    "- Using OR and AND operations to make compound filters\n",
    "- Assigning subsets to their own variable\n",
    "- Operating on subsets in place using `.loc`"
   ]
  },
  {
   "cell_type": "code",
   "execution_count": 1,
   "id": "adad7398",
   "metadata": {},
   "outputs": [],
   "source": [
    "import pandas as pd"
   ]
  },
  {
   "cell_type": "code",
   "execution_count": 2,
   "id": "cbd7754a",
   "metadata": {},
   "outputs": [
    {
     "data": {
      "text/plain": [
       "-2"
      ]
     },
     "execution_count": 2,
     "metadata": {},
     "output_type": "execute_result"
    }
   ],
   "source": [
    "# Base Python uses numeric indexes to return a single element\n",
    "ser = range(-2, 3)\n",
    "ser[0]"
   ]
  },
  {
   "cell_type": "code",
   "execution_count": 3,
   "id": "e52d0ced",
   "metadata": {},
   "outputs": [
    {
     "data": {
      "text/plain": [
       "0   -2\n",
       "1   -1\n",
       "2    0\n",
       "3    1\n",
       "4    2\n",
       "dtype: int64"
      ]
     },
     "execution_count": 3,
     "metadata": {},
     "output_type": "execute_result"
    }
   ],
   "source": [
    "# Let's make a pandas series to go into pandas indexing\n",
    "ser = pd.Series(ser)\n",
    "ser"
   ]
  },
  {
   "cell_type": "code",
   "execution_count": 4,
   "id": "27cd7b2c",
   "metadata": {},
   "outputs": [
    {
     "data": {
      "text/plain": [
       "0   -2\n",
       "dtype: int64"
      ]
     },
     "execution_count": 4,
     "metadata": {},
     "output_type": "execute_result"
    }
   ],
   "source": [
    "# The corresponding index for the first element is True and the rest are False\n",
    "# Using the corresponding index of a Boolean collection to filter is called \"Boolean masking\"\n",
    "first = [True, False, False, False, False]\n",
    "ser[first]"
   ]
  },
  {
   "cell_type": "code",
   "execution_count": 5,
   "id": "2d40f653",
   "metadata": {},
   "outputs": [
    {
     "data": {
      "text/plain": [
       "0   -2\n",
       "1   -1\n",
       "2    0\n",
       "3    1\n",
       "4    2\n",
       "dtype: int64"
      ]
     },
     "execution_count": 5,
     "metadata": {},
     "output_type": "execute_result"
    }
   ],
   "source": [
    "# If all Boolean values are True, we return the original series\n",
    "all_true = [True, True, True, True, True]\n",
    "ser[all_true]"
   ]
  },
  {
   "cell_type": "code",
   "execution_count": 6,
   "id": "f80b344a",
   "metadata": {},
   "outputs": [
    {
     "data": {
      "text/plain": [
       "Series([], dtype: int64)"
      ]
     },
     "execution_count": 6,
     "metadata": {},
     "output_type": "execute_result"
    }
   ],
   "source": [
    "all_false = [False, False, False, False, False]\n",
    "ser[all_false]"
   ]
  },
  {
   "cell_type": "code",
   "execution_count": 7,
   "id": "d4c2e742",
   "metadata": {},
   "outputs": [
    {
     "data": {
      "text/plain": [
       "0   -2\n",
       "2    0\n",
       "dtype: int64"
      ]
     },
     "execution_count": 7,
     "metadata": {},
     "output_type": "execute_result"
    }
   ],
   "source": [
    "# The Boolean mask is filtering our results here\n",
    "first_and_third = [True, False, True, False, False]\n",
    "ser[first_and_third]"
   ]
  },
  {
   "cell_type": "code",
   "execution_count": 8,
   "id": "0a0318b3",
   "metadata": {},
   "outputs": [
    {
     "data": {
      "text/plain": [
       "0   -2\n",
       "1   -1\n",
       "2    0\n",
       "3    1\n",
       "4    2\n",
       "dtype: int64"
      ]
     },
     "execution_count": 8,
     "metadata": {},
     "output_type": "execute_result"
    }
   ],
   "source": [
    "# Boolean masking leaves the original series intact\n",
    "ser"
   ]
  },
  {
   "cell_type": "code",
   "execution_count": 9,
   "id": "58095298",
   "metadata": {},
   "outputs": [
    {
     "data": {
      "text/plain": [
       "0    False\n",
       "1    False\n",
       "2    False\n",
       "3     True\n",
       "4    False\n",
       "dtype: bool"
      ]
     },
     "execution_count": 9,
     "metadata": {},
     "output_type": "execute_result"
    }
   ],
   "source": [
    "# Comparison operators return a Boolean series\n",
    "# Notice this returns a Boolean series\n",
    "ser == 1"
   ]
  },
  {
   "cell_type": "code",
   "execution_count": 10,
   "id": "f60f7681",
   "metadata": {},
   "outputs": [
    {
     "data": {
      "text/plain": [
       "3    1\n",
       "dtype: int64"
      ]
     },
     "execution_count": 10,
     "metadata": {},
     "output_type": "execute_result"
    }
   ],
   "source": [
    "mask = ser == 1\n",
    "ser[mask]"
   ]
  },
  {
   "cell_type": "code",
   "execution_count": 11,
   "id": "7d37750c",
   "metadata": {},
   "outputs": [
    {
     "data": {
      "text/plain": [
       "3    1\n",
       "dtype: int64"
      ]
     },
     "execution_count": 11,
     "metadata": {},
     "output_type": "execute_result"
    }
   ],
   "source": [
    "# We can place the Boolean series inside the square brackets directly\n",
    "ser[ser == 1]"
   ]
  },
  {
   "cell_type": "code",
   "execution_count": 12,
   "id": "7403b5bc",
   "metadata": {},
   "outputs": [
    {
     "data": {
      "text/plain": [
       "0     True\n",
       "1     True\n",
       "2    False\n",
       "3    False\n",
       "4    False\n",
       "dtype: bool"
      ]
     },
     "execution_count": 12,
     "metadata": {},
     "output_type": "execute_result"
    }
   ],
   "source": [
    "# Using a Boolean series in square brackets after the series filters results\n",
    "is_negative = ser < 0\n",
    "is_negative"
   ]
  },
  {
   "cell_type": "code",
   "execution_count": 13,
   "id": "a4cef135",
   "metadata": {},
   "outputs": [
    {
     "data": {
      "text/plain": [
       "0   -2\n",
       "1   -1\n",
       "dtype: int64"
      ]
     },
     "execution_count": 13,
     "metadata": {},
     "output_type": "execute_result"
    }
   ],
   "source": [
    "# The True values in the Boolean series enable the corresponding elements. False values hide corresponding elements.\n",
    "ser[is_negative]"
   ]
  },
  {
   "cell_type": "code",
   "execution_count": 14,
   "id": "fd366da9",
   "metadata": {},
   "outputs": [
    {
     "data": {
      "text/plain": [
       "0   -2\n",
       "1   -1\n",
       "dtype: int64"
      ]
     },
     "execution_count": 14,
     "metadata": {},
     "output_type": "execute_result"
    }
   ],
   "source": [
    "# Subsets are copies of the data\n",
    "negatives = ser[is_negative]\n",
    "negatives"
   ]
  },
  {
   "cell_type": "code",
   "execution_count": 15,
   "id": "2a9a35e8",
   "metadata": {},
   "outputs": [
    {
     "data": {
      "text/plain": [
       "0   -2\n",
       "1   -1\n",
       "2    0\n",
       "3    1\n",
       "4    2\n",
       "dtype: int64"
      ]
     },
     "execution_count": 15,
     "metadata": {},
     "output_type": "execute_result"
    }
   ],
   "source": [
    "# Reassigning the result of a Boolean mask keeps the original series intact\n",
    "ser"
   ]
  },
  {
   "cell_type": "code",
   "execution_count": 16,
   "id": "d426e169",
   "metadata": {},
   "outputs": [
    {
     "data": {
      "text/plain": [
       "1   -1\n",
       "3    1\n",
       "dtype: int64"
      ]
     },
     "execution_count": 16,
     "metadata": {},
     "output_type": "execute_result"
    }
   ],
   "source": [
    "# A comparison operator used with the modulo operator to return a Boolean Series\n",
    "is_odd = ser % 2 == 1\n",
    "ser[is_odd]"
   ]
  },
  {
   "cell_type": "code",
   "execution_count": 17,
   "id": "6d695cde",
   "metadata": {},
   "outputs": [
    {
     "data": {
      "text/plain": [
       "0      1\n",
       "1      2\n",
       "2      3\n",
       "3      4\n",
       "4      5\n",
       "5      6\n",
       "6      7\n",
       "7      8\n",
       "8      9\n",
       "9     10\n",
       "10    11\n",
       "11    12\n",
       "dtype: int64"
      ]
     },
     "execution_count": 17,
     "metadata": {},
     "output_type": "execute_result"
    }
   ],
   "source": [
    "# Let's work with some new data\n",
    "numbers = pd.Series(range(1, 13))\n",
    "numbers"
   ]
  },
  {
   "cell_type": "code",
   "execution_count": 18,
   "id": "811bb46c",
   "metadata": {},
   "outputs": [
    {
     "data": {
      "text/plain": [
       "1    2\n",
       "4    5\n",
       "dtype: int64"
      ]
     },
     "execution_count": 18,
     "metadata": {},
     "output_type": "execute_result"
    }
   ],
   "source": [
    "# We can use & and | operators on our Boolean series to produce more complex behavior\n",
    "# Parentheses are helpful for order of operations\n",
    "numbers[(numbers == 2) | (numbers == 5)]"
   ]
  },
  {
   "cell_type": "code",
   "execution_count": 19,
   "id": "32221ac9",
   "metadata": {},
   "outputs": [
    {
     "data": {
      "text/plain": [
       "Series([], dtype: int64)"
      ]
     },
     "execution_count": 19,
     "metadata": {},
     "output_type": "execute_result"
    }
   ],
   "source": [
    "# If all expressions evaluate to false, we can an empty series\n",
    "numbers[(numbers == 2) & (numbers == 5)]"
   ]
  },
  {
   "cell_type": "code",
   "execution_count": 20,
   "id": "21c09e96",
   "metadata": {},
   "outputs": [
    {
     "data": {
      "text/plain": [
       "5      6\n",
       "11    12\n",
       "dtype: int64"
      ]
     },
     "execution_count": 20,
     "metadata": {},
     "output_type": "execute_result"
    }
   ],
   "source": [
    "# To avoid parentheses, we can assign each Boolean series separately. \n",
    "# The & operator is the AND operator for Boolean series\n",
    "is_even = numbers % 2 == 0\n",
    "is_divisible_by_3 = numbers % 3 == 0\n",
    "is_divisible_by_3_or_2 = is_even & is_divisible_by_3\n",
    "numbers[is_divisible_by_3_or_2]"
   ]
  },
  {
   "cell_type": "code",
   "execution_count": 21,
   "id": "fb18d88b",
   "metadata": {},
   "outputs": [
    {
     "data": {
      "text/plain": [
       "9    10\n",
       "dtype: int64"
      ]
     },
     "execution_count": 21,
     "metadata": {},
     "output_type": "execute_result"
    }
   ],
   "source": [
    "# If each Boolean series/expression is not assigned to its own variable, we need parentheses for order of operations\n",
    "# Notice how with an AND operator, both Booleans must be true\n",
    "numbers[(numbers % 2 == 0) & (numbers % 5 == 0)]"
   ]
  },
  {
   "cell_type": "code",
   "execution_count": 22,
   "id": "4338a2dc",
   "metadata": {},
   "outputs": [
    {
     "data": {
      "text/plain": [
       "1      2\n",
       "3      4\n",
       "4      5\n",
       "5      6\n",
       "7      8\n",
       "9     10\n",
       "11    12\n",
       "dtype: int64"
      ]
     },
     "execution_count": 22,
     "metadata": {},
     "output_type": "execute_result"
    }
   ],
   "source": [
    "# We use the | operator for OR operations \n",
    "# This returns all the even numbers or the numbers evenly divisible by 5\n",
    "numbers[(numbers % 2 == 0) | (numbers % 5 == 0)]"
   ]
  },
  {
   "cell_type": "code",
   "execution_count": 23,
   "id": "1a71aa15",
   "metadata": {},
   "outputs": [],
   "source": [
    "# Boolean masking is very powerful, but what about modifying values in place on a series?\n",
    "# The .loc method use the same Boolean series syntax\n",
    "is_even = numbers % 2 == 0\n",
    "\n",
    "# For simplicity, let's assign every even number to 200\n",
    "numbers.loc[is_even] = 200"
   ]
  },
  {
   "cell_type": "code",
   "execution_count": 24,
   "id": "830caa91",
   "metadata": {},
   "outputs": [
    {
     "data": {
      "text/plain": [
       "0       1\n",
       "1     200\n",
       "2       3\n",
       "3     200\n",
       "4       5\n",
       "5     200\n",
       "6       7\n",
       "7     200\n",
       "8       9\n",
       "9     200\n",
       "10     11\n",
       "11    200\n",
       "dtype: int64"
      ]
     },
     "execution_count": 24,
     "metadata": {},
     "output_type": "execute_result"
    }
   ],
   "source": [
    "numbers"
   ]
  },
  {
   "cell_type": "code",
   "execution_count": 25,
   "id": "d1335a44",
   "metadata": {},
   "outputs": [
    {
     "data": {
      "text/plain": [
       "0      1\n",
       "1      4\n",
       "2      3\n",
       "3      8\n",
       "4      5\n",
       "5     12\n",
       "6      7\n",
       "7     16\n",
       "8      9\n",
       "9     20\n",
       "10    11\n",
       "11    24\n",
       "dtype: int64"
      ]
     },
     "execution_count": 25,
     "metadata": {},
     "output_type": "execute_result"
    }
   ],
   "source": [
    "# What if we need more dynamic reassignment?\n",
    "numbers = pd.Series(range(1, 13))\n",
    "\n",
    "# Shorthand syntax would be numbers.loc[is_even] *= 2\n",
    "numbers.loc[is_even] = numbers.loc[is_even] * 2\n",
    "numbers"
   ]
  },
  {
   "cell_type": "markdown",
   "id": "c695f8d6",
   "metadata": {},
   "source": [
    "## Further Reading\n",
    "- https://pandas.pydata.org/docs/user_guide/indexing.html\n",
    "- https://pandas.pydata.org/docs/reference/api/pandas.DataFrame.loc.html"
   ]
  },
  {
   "cell_type": "markdown",
   "id": "3bf23100",
   "metadata": {},
   "source": [
    "## Exercise check-in\n",
    "- Make a series of the following values `[-4, -3, -2, -1, 0, 1, 2, 3, 4]` and store to a variable named `ser`\n",
    "- Write the code to filter out only the number 2\n",
    "- Write the code to filter out the number 2 or 4.\n",
    "- Create a variable named `is_positive` that will be the Boolean series if the corresponding `ser` values is positive or not. Now create a new variable named `positives` and use this to store only the positive numbers.\n",
    "- Follow the steps above creating a Boolean series named `is_even` and assign a new variable named `evens` that holds only the even numbers\n",
    "- Use what you have learned to produce a new Boolean series named `is_even_and_positive` and assign the Boolean values. Use your new Boolean series to create a new variable named `even_positives` that is only the even and positive numbers.\n",
    "- Follow the pattern from above to produce a new Boolean series named `is_even_or_positive` and assign the appropriate Boolean values using | for OR operations. Use your new Boolean series to create a new variable named `even_or_positive` that is only the even and positive numbers\n",
    "- Use the `.loc` method to reassign all numbers that are both even and positive to be the number zero.\n",
    "- Use the `.loc` method and the reassignment syntax to multiply every negative number by 20, in place."
   ]
  },
  {
   "cell_type": "code",
   "execution_count": 26,
   "id": "e53659ac",
   "metadata": {},
   "outputs": [
    {
     "data": {
      "text/plain": [
       "0   -4\n",
       "1   -3\n",
       "2   -2\n",
       "3   -1\n",
       "4    0\n",
       "5    1\n",
       "6    2\n",
       "7    3\n",
       "8    4\n",
       "dtype: int64"
      ]
     },
     "execution_count": 26,
     "metadata": {},
     "output_type": "execute_result"
    }
   ],
   "source": [
    "# Make a series out of  [-4, -3, -2, -1, 0, 1, 2, 3, 4]\n"
   ]
  },
  {
   "cell_type": "code",
   "execution_count": 27,
   "id": "b319ee36",
   "metadata": {},
   "outputs": [
    {
     "data": {
      "text/plain": [
       "6    2\n",
       "dtype: int64"
      ]
     },
     "execution_count": 27,
     "metadata": {},
     "output_type": "execute_result"
    }
   ],
   "source": [
    "# Write the code to filter out only the number 2\n"
   ]
  },
  {
   "cell_type": "code",
   "execution_count": 28,
   "id": "c4e7f785",
   "metadata": {},
   "outputs": [
    {
     "data": {
      "text/plain": [
       "6    2\n",
       "8    4\n",
       "dtype: int64"
      ]
     },
     "execution_count": 28,
     "metadata": {},
     "output_type": "execute_result"
    }
   ],
   "source": [
    "# Write the code to filter out the number 2 or 4.\n"
   ]
  },
  {
   "cell_type": "code",
   "execution_count": 30,
   "id": "d181e74d",
   "metadata": {},
   "outputs": [
    {
     "data": {
      "text/plain": [
       "5    1\n",
       "6    2\n",
       "7    3\n",
       "8    4\n",
       "dtype: int64"
      ]
     },
     "execution_count": 30,
     "metadata": {},
     "output_type": "execute_result"
    }
   ],
   "source": [
    "# Create a variable named `is_positive` that will be the Boolean series if the corresponding `ser` values is positive or not. Now create a new variable named `positives` and use this to store only the positive numbers.\n"
   ]
  },
  {
   "cell_type": "code",
   "execution_count": 31,
   "id": "f04e8de2",
   "metadata": {},
   "outputs": [
    {
     "data": {
      "text/plain": [
       "0   -4\n",
       "2   -2\n",
       "4    0\n",
       "6    2\n",
       "8    4\n",
       "dtype: int64"
      ]
     },
     "execution_count": 31,
     "metadata": {},
     "output_type": "execute_result"
    }
   ],
   "source": [
    "# Follow the steps above creating a Boolean series named `is_even` and assign a new variable named `evens` that holds only the even numbers\n"
   ]
  },
  {
   "cell_type": "code",
   "execution_count": 32,
   "id": "7759204f",
   "metadata": {},
   "outputs": [
    {
     "data": {
      "text/plain": [
       "6    2\n",
       "8    4\n",
       "dtype: int64"
      ]
     },
     "execution_count": 32,
     "metadata": {},
     "output_type": "execute_result"
    }
   ],
   "source": [
    "# Use what you have learned to produce a new Boolean series named `is_even_and_positive` and assign the Boolean values. Use your new Boolean series to create a new variable named `even_positives` that is only the even and positive numbers.\n",
    "is_even_and_positive = is_even & is_positive\n",
    "even_positives = ser[is_even_and_positive]\n",
    "even_positives"
   ]
  },
  {
   "cell_type": "code",
   "execution_count": 33,
   "id": "47871072",
   "metadata": {},
   "outputs": [
    {
     "data": {
      "text/plain": [
       "0   -4\n",
       "2   -2\n",
       "4    0\n",
       "5    1\n",
       "6    2\n",
       "7    3\n",
       "8    4\n",
       "dtype: int64"
      ]
     },
     "execution_count": 33,
     "metadata": {},
     "output_type": "execute_result"
    }
   ],
   "source": [
    "# Follow the pattern from above to produce a new Boolean series named `is_even_or_positive` and assign the appropriate Boolean values using | for OR operations. Use your new Boolean series to create a new variable named `even_or_positive` that is only the even and positive numbers\n"
   ]
  },
  {
   "cell_type": "code",
   "execution_count": 35,
   "id": "1cf0cc49",
   "metadata": {},
   "outputs": [
    {
     "data": {
      "text/plain": [
       "0   -4\n",
       "1   -3\n",
       "2   -2\n",
       "3   -1\n",
       "4    0\n",
       "5    1\n",
       "6    0\n",
       "7    3\n",
       "8    0\n",
       "dtype: int64"
      ]
     },
     "execution_count": 35,
     "metadata": {},
     "output_type": "execute_result"
    }
   ],
   "source": [
    "# Use the `.loc` method to reassign all numbers that are both even and positive to be the number zero.\n"
   ]
  },
  {
   "cell_type": "code",
   "execution_count": 36,
   "id": "69c84ba2",
   "metadata": {},
   "outputs": [
    {
     "data": {
      "text/plain": [
       "0   -80\n",
       "1   -60\n",
       "2   -40\n",
       "3   -20\n",
       "4     0\n",
       "5     1\n",
       "6     0\n",
       "7     3\n",
       "8     0\n",
       "dtype: int64"
      ]
     },
     "execution_count": 36,
     "metadata": {},
     "output_type": "execute_result"
    }
   ],
   "source": [
    "# Use the `.loc` method and the reassignment syntax to multiply every negative number by 20, in place."
   ]
  },
  {
   "cell_type": "code",
   "execution_count": null,
   "id": "b22afa32",
   "metadata": {},
   "outputs": [],
   "source": []
  }
 ],
 "metadata": {
  "kernelspec": {
   "display_name": "Python 3 (ipykernel)",
   "language": "python",
   "name": "python3"
  },
  "language_info": {
   "codemirror_mode": {
    "name": "ipython",
    "version": 3
   },
   "file_extension": ".py",
   "mimetype": "text/x-python",
   "name": "python",
   "nbconvert_exporter": "python",
   "pygments_lexer": "ipython3",
   "version": "3.9.7"
  }
 },
 "nbformat": 4,
 "nbformat_minor": 5
}
