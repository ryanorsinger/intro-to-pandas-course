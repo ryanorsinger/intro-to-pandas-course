{
 "cells": [
  {
   "cell_type": "code",
   "execution_count": null,
   "id": "476c8070",
   "metadata": {},
   "outputs": [],
   "source": [
    "# Writing a "
   ]
  },
  {
   "cell_type": "code",
   "execution_count": null,
   "id": "ab3a5c3a",
   "metadata": {},
   "outputs": [],
   "source": [
    "# Common challenges reading and writing your dataframes to disk\n"
   ]
  },
  {
   "cell_type": "code",
   "execution_count": null,
   "id": "ccc77fef",
   "metadata": {},
   "outputs": [],
   "source": [
    "# Writing an excel file"
   ]
  },
  {
   "cell_type": "code",
   "execution_count": null,
   "id": "e8a7f2d7",
   "metadata": {},
   "outputs": [],
   "source": [
    "# Reading an excel file\n"
   ]
  },
  {
   "cell_type": "code",
   "execution_count": null,
   "id": "01f242ec",
   "metadata": {},
   "outputs": [],
   "source": [
    "# Reading a specific sheet from an excel file"
   ]
  },
  {
   "cell_type": "code",
   "execution_count": null,
   "id": "8b7ccc39",
   "metadata": {},
   "outputs": [],
   "source": [
    "# Reading only specific rows from excel\n"
   ]
  },
  {
   "cell_type": "code",
   "execution_count": null,
   "id": "359d3989",
   "metadata": {},
   "outputs": [],
   "source": []
  }
 ],
 "metadata": {
  "kernelspec": {
   "display_name": "Python 3 (ipykernel)",
   "language": "python",
   "name": "python3"
  },
  "language_info": {
   "codemirror_mode": {
    "name": "ipython",
    "version": 3
   },
   "file_extension": ".py",
   "mimetype": "text/x-python",
   "name": "python",
   "nbconvert_exporter": "python",
   "pygments_lexer": "ipython3",
   "version": "3.9.7"
  }
 },
 "nbformat": 4,
 "nbformat_minor": 5
}
