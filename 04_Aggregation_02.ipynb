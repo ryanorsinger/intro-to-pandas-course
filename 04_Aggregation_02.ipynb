{
 "cells": [
  {
   "cell_type": "markdown",
   "id": "a2e1c17b",
   "metadata": {},
   "source": [
    "# Intro to Pandas\n",
    "by Ryan Orsinger"
   ]
  },
  {
   "cell_type": "markdown",
   "id": "ea3d66f5",
   "metadata": {},
   "source": [
    "## Module 4: Aggregating (continued)\n",
    "- Using `.groupby` and aggregate methods\n",
    "- Understanding the `.groupby` object\n",
    "- Introducing the `.agg` method\n",
    "- Specifying column output\n",
    "- Grouping by multiple columns"
   ]
  },
  {
   "cell_type": "code",
   "execution_count": null,
   "id": "3bdcb74b",
   "metadata": {},
   "outputs": [],
   "source": [
    "# Import pandas\n",
    "import pandas as pd\n",
    "\n",
    "# Read in our data\n",
    "df = pd.read_csv(\"tips.csv\")\n",
    "df.head()"
   ]
  },
  {
   "cell_type": "code",
   "execution_count": null,
   "id": "689a69c4",
   "metadata": {},
   "outputs": [],
   "source": [
    "# We've already worked with some aggregate functions\n",
    "df.total_bill.median()"
   ]
  },
  {
   "cell_type": "code",
   "execution_count": null,
   "id": "c2367789",
   "metadata": {},
   "outputs": [],
   "source": [
    "# Aggregate functions run on entire columns or dataframes\n",
    "df.mean(numeric_only=True)"
   ]
  },
  {
   "cell_type": "code",
   "execution_count": null,
   "id": "b2d7b8c3",
   "metadata": {},
   "outputs": [],
   "source": [
    "df.tip.min(), df.tip.max()"
   ]
  },
  {
   "cell_type": "code",
   "execution_count": null,
   "id": "4f1f19e2",
   "metadata": {},
   "outputs": [],
   "source": [
    "# .describe is also an aggregate function, since it is host to multiple aggregate functions\n",
    "df.tip.describe()"
   ]
  },
  {
   "cell_type": "markdown",
   "id": "f485e28f",
   "metadata": {},
   "source": [
    "But what do we do when we need aggregate results for each value in a categorical column?"
   ]
  },
  {
   "cell_type": "code",
   "execution_count": null,
   "id": "f984ab6e",
   "metadata": {},
   "outputs": [],
   "source": [
    "# It's possible to manually create dataframes for each category\n",
    "# But this can become tedious with many categories\n",
    "# and with multiple columns\n",
    "# Especially if we want to run the same methods on each dataframe\n",
    "# etc...\n",
    "thurs = df[df.day == \"Thur\"]\n",
    "fri = df[df.day == \"Fri\"]\n",
    "sat = df[df.day == \"Sat\"]\n",
    "sun = df[df.day == \"Sun\"]\n",
    "\n",
    "# We don't have labels with this method, unfortunately\n",
    "thurs.total_bill.mean(), fri.total_bill.mean(), sat.total_bill.mean(), sun.total_bill.mean()"
   ]
  },
  {
   "cell_type": "code",
   "execution_count": null,
   "id": "4b8ab3a1",
   "metadata": {},
   "outputs": [],
   "source": [
    "# We calculate from the groupby object with aggregate methods (.mean, .median, etc...)\n",
    "# Calculate the average total bill for each day\n",
    "# The \"for each\" means that we're grouping by the day column\n",
    "df.groupby(\"day\").total_bill.mean()"
   ]
  },
  {
   "cell_type": "code",
   "execution_count": null,
   "id": "865ee059",
   "metadata": {},
   "outputs": [],
   "source": [
    "# The groupby object is a compound entity, built for accessing with aggregate functions\n",
    "df.groupby(\"day\")"
   ]
  },
  {
   "cell_type": "code",
   "execution_count": null,
   "id": "f21e8b7a",
   "metadata": {},
   "outputs": [],
   "source": [
    "# The groupby object does not print out results, \n",
    "# Underneath the hood, it is an object containing multiple tuples of dataframes for each possible categorical value\n",
    "# Recommend avoiding decomposing groupby objects (this cell is to share context)\n",
    "# That's what aggregate functions are for!\n",
    "a, b, c, d = df.groupby(\"day\")\n",
    "a"
   ]
  },
  {
   "cell_type": "code",
   "execution_count": null,
   "id": "27ebb7e0",
   "metadata": {},
   "outputs": [],
   "source": [
    "# We calculate from the groupby object with aggregate methods (.mean, .median, etc...)\n",
    "# Calculate the average total bill for each day\n",
    "# The \"for each\" means that we're grouping by the day column\n",
    "df.groupby(\"day\").total_bill.mean()"
   ]
  },
  {
   "cell_type": "code",
   "execution_count": null,
   "id": "d7a58c5c",
   "metadata": {},
   "outputs": [],
   "source": [
    "# Consider the following\n",
    "# We get the average for each day, on all numeric columns\n",
    "# Notice that each groupby result redefines what each row means\n",
    "df.groupby(\"day\").mean()"
   ]
  },
  {
   "cell_type": "code",
   "execution_count": null,
   "id": "cd94871d",
   "metadata": {},
   "outputs": [],
   "source": [
    "# We can also group by more than 1 column. This creates a multiple\n",
    "# Without specifying the columns, we'll see all the numeric columns in the output\n",
    "df.groupby([\"day\", \"time\"]).mean()"
   ]
  },
  {
   "cell_type": "code",
   "execution_count": null,
   "id": "42fb4b76",
   "metadata": {},
   "outputs": [],
   "source": [
    "# We can also group by more than 1 column. This creates a multiple\n",
    "# We can provide a list of numeric columns inside the square brackets that specify columns (making double brackets)\n",
    "df.groupby([\"day\", \"time\"])[[\"total_bill\", \"tip\"]].mean()"
   ]
  },
  {
   "cell_type": "code",
   "execution_count": null,
   "id": "a60c3d46",
   "metadata": {},
   "outputs": [],
   "source": [
    "# If we need to turn the groupby output into their own column names, we can use .reset_index\n",
    "df.groupby([\"day\", \"time\"])[[\"total_bill\", \"tip\"]].mean().reset_index()"
   ]
  },
  {
   "cell_type": "code",
   "execution_count": null,
   "id": "2bfc931f",
   "metadata": {},
   "outputs": [],
   "source": [
    "df.groupby(\"day\")[[\"total_bill\", \"tip\"]].mean()"
   ]
  },
  {
   "cell_type": "code",
   "execution_count": null,
   "id": "6abe51a7",
   "metadata": {},
   "outputs": [],
   "source": [
    "# .describe is an aggregate function, too\n",
    "df.groupby(\"time\").total_bill.describe()"
   ]
  },
  {
   "cell_type": "code",
   "execution_count": null,
   "id": "be267816",
   "metadata": {},
   "outputs": [],
   "source": [
    "# Using the .agg method to specify multiple\n",
    "df.groupby(\"day\").total_bill.agg([\"mean\", \"std\"])"
   ]
  },
  {
   "cell_type": "code",
   "execution_count": null,
   "id": "a012cf17",
   "metadata": {},
   "outputs": [],
   "source": [
    "# Using the .agg method to specify multiple\n",
    "# We can cal .agg on multiple numeric columns, too\n",
    "df.groupby(\"day\")[[\"total_bill\", \"tip\"]].agg([\"mean\", \"std\"])"
   ]
  },
  {
   "cell_type": "code",
   "execution_count": null,
   "id": "cbad6218",
   "metadata": {},
   "outputs": [],
   "source": [
    "# Since the output is a dataframe, we can transpose it, if doing so makes for easier reading\n",
    "df.groupby(\"day\")[[\"total_bill\", \"tip\"]].agg([\"mean\", \"std\"]).T"
   ]
  },
  {
   "cell_type": "markdown",
   "id": "c30af954",
   "metadata": {},
   "source": [
    "## The forms of .groupby\n",
    "\n",
    "| specific example    |  general form    |\n",
    "| ---- | ---- |\n",
    "|`df.groupby(\"day\").mean()` | `df.groupby(\"categorical_column\").aggregate_function()`     |\n",
    "| `df.groupby(\"day\").total_bill.mean()`     | `df.groupby(\"categorical_column\").numeric_column.aggregate_function()`     |\n",
    "| `df.groupby(\"day\")[\"tip\"].median()`     | `df.groupby(\"categoryA\")[\"numeric_columnA\"].aggregate_function()`     |\n",
    "| `df.groupby(\"day\")[[\"total_bill\", \"tip\"]].min()`     | `df.groupby(\"categoryA\")[[\"numeric_columnA\", \"numeric_columnB\"]].aggregate_function()`     |\n",
    "| `df.groupby([\"day\", \"time\"]).mean()`     | `df.groupby([\"categoryA\", \"categoryB\").aggregate_function()` |\n",
    "| `df.groupby(\"day\").agg([\"min\", \"median\", \"max\"])`    | `df.groupby(\"category\").agg([\"min\", \"median\", \"max\"])`     |\n",
    "| `df.groupby(\"day\")[[\"total_bill\", \"tip\"]].agg([\"min\", \"median\", \"max\"])`    | `df.groupby(\"category\")[[\"numericA\", \"numericB\"]].agg([\"min\", \"median\", \"max\"])`     |"
   ]
  },
  {
   "cell_type": "markdown",
   "id": "9895736f",
   "metadata": {},
   "source": [
    "## Additional Resource\n",
    "- https://pandas.pydata.org/docs/reference/api/pandas.DataFrame.groupby.html\n",
    "- https://pandas.pydata.org/docs/reference/api/pandas.DataFrame.agg.html\n",
    "- Further reading on the multi-index https://pandas.pydata.org/docs/user_guide/advanced.html from grouping by multiple columns"
   ]
  },
  {
   "cell_type": "markdown",
   "id": "6ad7996e",
   "metadata": {},
   "source": [
    "## Exercises\n",
    "- Use the \"mpg.csv\" dataset to create a dataframe named `mpg`\n",
    "- Group by manufacturer and obtain the highest `hwy` mileage for each manufacturer\n",
    "- Group by the manufacturer and obtain the average `hwy` and `cty` mileage\n",
    "- Group by the number of cylinders and get the average displacement for each cylinder\n",
    "- Group by the vehicle class, then calculate the average and standard deviation of `hwy` mileage\n",
    "- Which vehicle class has the largest standard deviation of hwy mileage?"
   ]
  },
  {
   "cell_type": "code",
   "execution_count": null,
   "id": "427b9a2d",
   "metadata": {},
   "outputs": [],
   "source": [
    "# Use the \"mpg.csv\" dataset to create a dataframe named `mpg`\n"
   ]
  },
  {
   "cell_type": "code",
   "execution_count": null,
   "id": "f30cea9a",
   "metadata": {},
   "outputs": [],
   "source": [
    "# Group by manufacturer and obtain the highest hwy mileage for each manufacturer\n"
   ]
  },
  {
   "cell_type": "code",
   "execution_count": null,
   "id": "9b4f1116",
   "metadata": {},
   "outputs": [],
   "source": [
    "# Group by the manufacturer and obtain the average hwy and cty mileage\n"
   ]
  },
  {
   "cell_type": "code",
   "execution_count": null,
   "id": "2471acf7",
   "metadata": {},
   "outputs": [],
   "source": [
    "# Group by the number of cylinders and get the average displacement for each cylinder\n"
   ]
  },
  {
   "cell_type": "code",
   "execution_count": null,
   "id": "6719ea81",
   "metadata": {},
   "outputs": [],
   "source": [
    "# Group by the vehicle class, then calculate the average and standard deviation of hwy mileage\n"
   ]
  },
  {
   "cell_type": "code",
   "execution_count": null,
   "id": "8340c6e5",
   "metadata": {},
   "outputs": [],
   "source": [
    "# Which vehicle class has the largest standard deviation of hwy mileage?\n"
   ]
  }
 ],
 "metadata": {
  "kernelspec": {
   "display_name": "Python 3 (ipykernel)",
   "language": "python",
   "name": "python3"
  },
  "language_info": {
   "codemirror_mode": {
    "name": "ipython",
    "version": 3
   },
   "file_extension": ".py",
   "mimetype": "text/x-python",
   "name": "python",
   "nbconvert_exporter": "python",
   "pygments_lexer": "ipython3",
   "version": "3.9.7"
  }
 },
 "nbformat": 4,
 "nbformat_minor": 5
}
