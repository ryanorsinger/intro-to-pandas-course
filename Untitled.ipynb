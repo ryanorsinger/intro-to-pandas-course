{
 "cells": [
  {
   "cell_type": "markdown",
   "id": "f9521d1d",
   "metadata": {},
   "source": [
    "### Pandas Series Part 2 of 3\n",
    "- Using comparison operators to produce Boolean series\n",
    "- Using Boolean indexing to filter data\n",
    "- Using OR and AND operations to make compound filters\n",
    "- Assigning subsets to their own variable\n",
    "- Operating on subsets in place"
   ]
  },
  {
   "cell_type": "code",
   "execution_count": 2,
   "id": "adad7398",
   "metadata": {},
   "outputs": [],
   "source": [
    "import pandas as pd"
   ]
  },
  {
   "cell_type": "code",
   "execution_count": null,
   "id": "3b8495ce",
   "metadata": {},
   "outputs": [],
   "source": [
    "numbers = pd.Series([1, 2, 3])\n",
    "numbers"
   ]
  },
  {
   "cell_type": "code",
   "execution_count": 1,
   "id": "58095298",
   "metadata": {},
   "outputs": [
    {
     "ename": "NameError",
     "evalue": "name 'numbers' is not defined",
     "output_type": "error",
     "traceback": [
      "\u001b[0;31m---------------------------------------------------------------------------\u001b[0m",
      "\u001b[0;31mNameError\u001b[0m                                 Traceback (most recent call last)",
      "\u001b[0;32m/var/folders/1s/_g4b0srs1s13gfc1m19673dc0000gn/T/ipykernel_56784/2382889783.py\u001b[0m in \u001b[0;36m<module>\u001b[0;34m\u001b[0m\n\u001b[1;32m      1\u001b[0m \u001b[0;31m# Comparison operators return a Boolean series\u001b[0m\u001b[0;34m\u001b[0m\u001b[0;34m\u001b[0m\u001b[0m\n\u001b[0;32m----> 2\u001b[0;31m \u001b[0mnumbers\u001b[0m \u001b[0;34m==\u001b[0m \u001b[0;36m1\u001b[0m\u001b[0;34m\u001b[0m\u001b[0;34m\u001b[0m\u001b[0m\n\u001b[0m",
      "\u001b[0;31mNameError\u001b[0m: name 'numbers' is not defined"
     ]
    }
   ],
   "source": [
    "# Comparison operators return a Boolean series\n",
    "numbers == 1"
   ]
  },
  {
   "cell_type": "code",
   "execution_count": null,
   "id": "7403b5bc",
   "metadata": {},
   "outputs": [],
   "source": [
    "# Using a Boolean series in square brackets after the series filters results\n",
    "numbers[numbers == 1]"
   ]
  },
  {
   "cell_type": "code",
   "execution_count": null,
   "id": "b91c89f0",
   "metadata": {},
   "outputs": [],
   "source": [
    "numbers.loc[numbers % 2 == 0] = 3f"
   ]
  }
 ],
 "metadata": {
  "kernelspec": {
   "display_name": "Python 3 (ipykernel)",
   "language": "python",
   "name": "python3"
  },
  "language_info": {
   "codemirror_mode": {
    "name": "ipython",
    "version": 3
   },
   "file_extension": ".py",
   "mimetype": "text/x-python",
   "name": "python",
   "nbconvert_exporter": "python",
   "pygments_lexer": "ipython3",
   "version": "3.9.7"
  }
 },
 "nbformat": 4,
 "nbformat_minor": 5
}
