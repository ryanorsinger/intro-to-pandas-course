{
 "cells": [
  {
   "cell_type": "markdown",
   "id": "c6b9aaa7",
   "metadata": {},
   "source": [
    "# Intro to Pandas\n",
    "by Ryan Orsinger"
   ]
  },
  {
   "cell_type": "markdown",
   "id": "05ee51ca",
   "metadata": {},
   "source": [
    "## Module 5: Combining Dataframes\n",
    "- Using `.concat` to combine dataframes horizontally or vertically \n",
    "- Intro to joining dataframes together like database tables\n",
    "- Understanding different types of joins\n",
    "- Using `.merge` to join dataframes together based on column values in common"
   ]
  },
  {
   "cell_type": "code",
   "execution_count": null,
   "id": "487f42ce",
   "metadata": {},
   "outputs": [],
   "source": [
    "import pandas as pd"
   ]
  },
  {
   "cell_type": "code",
   "execution_count": null,
   "id": "cace1fe4",
   "metadata": {},
   "outputs": [],
   "source": [
    "# String concatenation\n",
    "\"con\" + \"cat\" + \"e\" + \"nation\""
   ]
  },
  {
   "cell_type": "code",
   "execution_count": null,
   "id": "14366547",
   "metadata": {},
   "outputs": [],
   "source": [
    "# List concatenation\n",
    "[\"con\", \"cat\"] + [\"e\", \"nation\"]"
   ]
  },
  {
   "cell_type": "code",
   "execution_count": null,
   "id": "1bed67f2",
   "metadata": {},
   "outputs": [],
   "source": [
    "# Dataframe Concatenation \n",
    "fruits = pd.DataFrame({\n",
    "    \"name\": [\"mango\", \"guava\", \"orange\"],\n",
    "    \"quantity\": [2, 1, 3]\n",
    "})\n",
    "\n",
    "vegetables = pd.DataFrame({\n",
    "    \"name\": [\"Brussels sprouts\", \"spinach\", \"broccoli\"],\n",
    "    \"quantity\": [1, 7, 4]\n",
    "})"
   ]
  },
  {
   "cell_type": "code",
   "execution_count": null,
   "id": "ede9361d",
   "metadata": {},
   "outputs": [],
   "source": [
    "# Default arguments preserve the original index for each dataframe\n",
    "pd.concat([fruits, vegetables])"
   ]
  },
  {
   "cell_type": "code",
   "execution_count": null,
   "id": "8c331faf",
   "metadata": {},
   "outputs": [],
   "source": [
    "# Axis=0 is the default argument for concatenating dataframes\n",
    "# This is vertical concatenation, since we're adding row-wise\n",
    "pd.concat([fruits, vegetables], axis=0)"
   ]
  },
  {
   "cell_type": "code",
   "execution_count": null,
   "id": "abfd9fe0",
   "metadata": {},
   "outputs": [],
   "source": [
    "pd.concat([fruits, vegetables], ignore_index=True)"
   ]
  },
  {
   "cell_type": "code",
   "execution_count": null,
   "id": "0ce00d3f",
   "metadata": {},
   "outputs": [],
   "source": [
    "# Dataframe Concatenation \n",
    "fruits = pd.DataFrame({\n",
    "    \"name\": [\"mango\", \"guava\", \"orange\"],\n",
    "})\n",
    "\n",
    "# Notice that this instance of vegetables lacks a quantity column\n",
    "vegetables = pd.DataFrame({\n",
    "    \"name\": [\"Brussels sprouts\", \"spinach\", \"broccoli\"],\n",
    "    \"quantity\": [2, 3, 4]\n",
    "\n",
    "})\n",
    "\n",
    "# If a column is missing from a dataframe, its values will be missing, so the concatenation succeeds\n",
    "pd.concat([fruits, vegetables])"
   ]
  },
  {
   "cell_type": "code",
   "execution_count": null,
   "id": "b78d50a1",
   "metadata": {},
   "outputs": [],
   "source": [
    "# Axis=1 concatenates dataframes horizontally\n",
    "# This is a column-wise concatenation\n",
    "price_quality = pd.DataFrame({\n",
    "    \"price\": [2.99, 1.99, 3.99],\n",
    "    \"presentation\": [\"frozen\", \"washed\", \"raw, bunch\"] \n",
    "})\n",
    "\n",
    "pd.concat([vegetables, price_quality], axis=1)"
   ]
  },
  {
   "cell_type": "code",
   "execution_count": null,
   "id": "b0e307b5",
   "metadata": {},
   "outputs": [],
   "source": [
    "# concat can combine an arbitrary number of dataframes\n",
    "# This can be helpful if you have lots of different data frames from multiple sources\n",
    "pd.concat([vegetables, vegetables, vegetables, vegetables])"
   ]
  },
  {
   "cell_type": "markdown",
   "id": "4b7abbe4",
   "metadata": {},
   "source": [
    "## Using `.merge` to combine dataframes on common column values\n",
    "- Database style join for Pandas Dataframes\n",
    "- Pandas `.join` joins dataframes on identical column names that exist on both dataframes\n",
    "- Using `.merge` can be more flexible, since sometimes the column names are not identical"
   ]
  },
  {
   "cell_type": "markdown",
   "id": "680938fa",
   "metadata": {},
   "source": [
    "## Types of Joins\n",
    "- \"Inner\" returns records that have matching values in both tables.\n",
    "- \"Left\" returns all records from the left table, and the matched records from the right table.\n",
    "- \"Right\" returns all records from the right table, and the matched records from the left table.\n",
    "- \"Outer\" Returns all records when there is a match in either left or right table.\n",
    "![diagram of different types of joins](types_of_joins.png)"
   ]
  },
  {
   "cell_type": "code",
   "execution_count": null,
   "id": "f2b7069c",
   "metadata": {},
   "outputs": [],
   "source": [
    "# Notice how role_id points to the id on the roles dataframe\n",
    "# Take note of the missing data\n",
    "users = pd.DataFrame({\n",
    "    'user_id': [1, 2, 3, 4, 5, 6],\n",
    "    'name': ['bob', 'mary', 'sally', 'adam', 'jane', 'mike'],\n",
    "    'role_id': [1, 2, 3, 3, None, None]\n",
    "})\n",
    "\n",
    "users"
   ]
  },
  {
   "cell_type": "code",
   "execution_count": null,
   "id": "e950cce1",
   "metadata": {},
   "outputs": [],
   "source": [
    "# Notice that the role id column is called \"id\" on the roles dataframe\n",
    "roles = pd.DataFrame({\n",
    "    'role_id': [1, 2, 3, 4],\n",
    "    'role': ['admin', 'author', 'reviewer', 'commenter']\n",
    "})\n",
    "\n",
    "roles"
   ]
  },
  {
   "cell_type": "code",
   "execution_count": null,
   "id": "281c3afa",
   "metadata": {},
   "outputs": [],
   "source": [
    "# An inner join returns members that exist on both the dataframes\n",
    "users.merge(roles, left_on='role_id', right_on='role_id', how='inner')"
   ]
  },
  {
   "cell_type": "code",
   "execution_count": null,
   "id": "1fd6407d",
   "metadata": {},
   "outputs": [],
   "source": [
    "# If the same exact column name exists on both dataframes, we can use the \"on\" argument\n",
    "users.merge(roles, on='role_id', how='inner')"
   ]
  },
  {
   "cell_type": "code",
   "execution_count": null,
   "id": "a2a5d8a8",
   "metadata": {},
   "outputs": [],
   "source": [
    "# Notice that the left join keeps all records from the users dataframe, even if they are missing on the right dataframe\n",
    "users.merge(roles, on='role_id', how='left')"
   ]
  },
  {
   "cell_type": "code",
   "execution_count": null,
   "id": "d0d923af",
   "metadata": {},
   "outputs": [],
   "source": [
    "# Notice that the right join keeps all records from the users dataframe, even if they are missing on the right dataframe\n",
    "users.merge(roles, left_on='role_id', right_on='role_id', how='right')"
   ]
  },
  {
   "cell_type": "code",
   "execution_count": null,
   "id": "27eec755",
   "metadata": {},
   "outputs": [],
   "source": [
    "# The outer join keeps all records from every dataframe, but values are associated, where applicable\n",
    "# Outer joins keep all values including nulls\n",
    "users.merge(roles, on='role_id', how='outer')"
   ]
  },
  {
   "cell_type": "code",
   "execution_count": null,
   "id": "423c94d7",
   "metadata": {},
   "outputs": [],
   "source": [
    "# Relationship between dataframe order and join type \n",
    "# Consider the result of starting with users and left joining roles\n",
    "users.merge(roles, on=\"role_id\", how='left')"
   ]
  },
  {
   "cell_type": "code",
   "execution_count": null,
   "id": "4ea97f96",
   "metadata": {},
   "outputs": [],
   "source": [
    "# Compare to starting with roles and using right join with users\n",
    "roles.merge(users, on=\"role_id\", how='right')"
   ]
  },
  {
   "cell_type": "markdown",
   "id": "9d8b2c77",
   "metadata": {},
   "source": [
    "## Additional Resources\n",
    "- https://pandas.pydata.org/pandas-docs/stable/reference/api/pandas.concat.html\n",
    "- https://pandas.pydata.org/docs/reference/api/pandas.DataFrame.join.html\n",
    "- https://pandas.pydata.org/docs/reference/api/pandas.DataFrame.merge.html\n",
    "- https://pandas.pydata.org/docs/user_guide/merging.html\n",
    "- https://pandas.pydata.org/pandas-docs/stable/getting_started/comparison/comparison_with_sql.html#compare-with-sql-join"
   ]
  },
  {
   "cell_type": "markdown",
   "id": "2d199d67",
   "metadata": {},
   "source": [
    "## Exercises\n",
    "- As an experiment, use `pd.concat` to concatenate the `vegetables` and `users` dataframes together. \n",
    "    - First, use the default axis argument (or explicitly state `axis=0`). What do you notice?\n",
    "    - Then, use `axis=1`. What do you notice in the results?\n",
    "- Read \"2020-sales.csv\", \"2021-sales.csv\", and \"2022-sales.csv\" into dataframes, then concatenate these 3 dataframes vertically.\n",
    "- Create a `posts` dataframe of the following information. \n",
    "```\n",
    "[\n",
    "    {\n",
    "        \"author_id\": 1,\n",
    "        \"title\": \"How I Learned Python\"\n",
    "    },\n",
    "    {\n",
    "        \"author_id\": 2,\n",
    "        \"title\": \"How I Learned to Stop Worrying and Love Pandas\"\n",
    "    },\n",
    "    {\n",
    "        \"author_id\": 2,\n",
    "        \"title\": \"Quick Tutorial on Installing Anaconda\"\n",
    "    },\n",
    "    {\n",
    "        \"author_id\": 9,\n",
    "        \"title\": \"Learning Pandas If You Already Work With Spreadsheets\"\n",
    "    }\n",
    "]\n",
    "```\n",
    "- Perform an inner join of `users` and `posts`. *Hint* Think about what data these two dataframes share in common.\n",
    "- Start with `users` then left join the `posts` dataframe\n",
    "- Start with `posts` then right join the `users` dataframe\n",
    "- Finally, perform an outer join of `users` and `posts`"
   ]
  },
  {
   "cell_type": "code",
   "execution_count": null,
   "id": "7bbde77a",
   "metadata": {},
   "outputs": [],
   "source": [
    "# Concatenate vegetables and users, using the default axis argument, for vertical, row-wise concatenation\n"
   ]
  },
  {
   "cell_type": "code",
   "execution_count": null,
   "id": "2b43ea1f",
   "metadata": {},
   "outputs": [],
   "source": [
    "# Concatenate vegetables and users, using the axis=1 argument, for horizontal, column-wise concatentation\n"
   ]
  },
  {
   "cell_type": "code",
   "execution_count": null,
   "id": "fe2cb2ad",
   "metadata": {},
   "outputs": [],
   "source": [
    "# Read \"2020-sales.csv\", \"2021-sales.csv\", and `\"2022-sales.csv\" into dataframes\n",
    "# Concatenate these 3 dataframes together, vertically\n",
    "    "
   ]
  },
  {
   "cell_type": "code",
   "execution_count": null,
   "id": "b032c681",
   "metadata": {},
   "outputs": [],
   "source": [
    "# Create a `posts` dataframe of the above blog post data\n"
   ]
  },
  {
   "cell_type": "code",
   "execution_count": null,
   "id": "22f9c36d",
   "metadata": {},
   "outputs": [],
   "source": [
    "# Perform an inner join of `users` and `posts`. \n",
    "# Hint: Think about what data these two dataframes share in common.\n"
   ]
  },
  {
   "cell_type": "code",
   "execution_count": null,
   "id": "066f9890",
   "metadata": {},
   "outputs": [],
   "source": [
    "# Start with `users` then left join the `posts` dataframe\n"
   ]
  },
  {
   "cell_type": "code",
   "execution_count": null,
   "id": "2f7f050b",
   "metadata": {},
   "outputs": [],
   "source": [
    "# Start with `posts` then right join the `users` dataframe\n"
   ]
  },
  {
   "cell_type": "code",
   "execution_count": null,
   "id": "4c60533a",
   "metadata": {},
   "outputs": [],
   "source": [
    "# Finally, perform an outer join of `users` and `posts`\n"
   ]
  }
 ],
 "metadata": {
  "kernelspec": {
   "display_name": "Python 3 (ipykernel)",
   "language": "python",
   "name": "python3"
  },
  "language_info": {
   "codemirror_mode": {
    "name": "ipython",
    "version": 3
   },
   "file_extension": ".py",
   "mimetype": "text/x-python",
   "name": "python",
   "nbconvert_exporter": "python",
   "pygments_lexer": "ipython3",
   "version": "3.9.7"
  }
 },
 "nbformat": 4,
 "nbformat_minor": 5
}
