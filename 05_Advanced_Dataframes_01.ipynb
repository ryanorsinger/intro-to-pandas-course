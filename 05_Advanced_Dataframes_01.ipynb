{
 "cells": [
  {
   "cell_type": "markdown",
   "id": "c6b9aaa7",
   "metadata": {},
   "source": [
    "# Intro to Pandas\n",
    "by Ryan Orsinger"
   ]
  },
  {
   "cell_type": "markdown",
   "id": "05ee51ca",
   "metadata": {},
   "source": [
    "## Module 5: Combining Dataframes\n",
    "- Using `.concat` \n",
    "- Introducing .join\n",
    "- Understanding types of joins\n",
    "- Using `.merge` for more flexibility "
   ]
  },
  {
   "cell_type": "code",
   "execution_count": 4,
   "id": "487f42ce",
   "metadata": {},
   "outputs": [],
   "source": [
    "import pandas as pd"
   ]
  },
  {
   "cell_type": "code",
   "execution_count": 5,
   "id": "cace1fe4",
   "metadata": {},
   "outputs": [
    {
     "data": {
      "text/plain": [
       "'concatenation'"
      ]
     },
     "execution_count": 5,
     "metadata": {},
     "output_type": "execute_result"
    }
   ],
   "source": [
    "# String concatenation\n",
    "\"con\" + \"cat\" + \"e\" + \"nation\""
   ]
  },
  {
   "cell_type": "code",
   "execution_count": 6,
   "id": "14366547",
   "metadata": {},
   "outputs": [
    {
     "data": {
      "text/plain": [
       "['con', 'cat', 'e', 'nation']"
      ]
     },
     "execution_count": 6,
     "metadata": {},
     "output_type": "execute_result"
    }
   ],
   "source": [
    "# List concatenation\n",
    "[\"con\", \"cat\"] + [\"e\", \"nation\"]"
   ]
  },
  {
   "cell_type": "code",
   "execution_count": 9,
   "id": "1bed67f2",
   "metadata": {},
   "outputs": [],
   "source": [
    "# Dataframe Concatenation "
   ]
  },
  {
   "cell_type": "markdown",
   "id": "9d8b2c77",
   "metadata": {},
   "source": [
    "## Additional Resources\n",
    "- https://pandas.pydata.org/docs/user_guide/merging.html"
   ]
  },
  {
   "cell_type": "markdown",
   "id": "5bf6fbc8",
   "metadata": {},
   "source": [
    "## Exercises\n",
    "- Use "
   ]
  }
 ],
 "metadata": {
  "kernelspec": {
   "display_name": "Python 3 (ipykernel)",
   "language": "python",
   "name": "python3"
  },
  "language_info": {
   "codemirror_mode": {
    "name": "ipython",
    "version": 3
   },
   "file_extension": ".py",
   "mimetype": "text/x-python",
   "name": "python",
   "nbconvert_exporter": "python",
   "pygments_lexer": "ipython3",
   "version": "3.9.7"
  }
 },
 "nbformat": 4,
 "nbformat_minor": 5
}
