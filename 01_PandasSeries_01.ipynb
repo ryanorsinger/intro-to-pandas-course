{
 "cells": [
  {
   "cell_type": "markdown",
   "id": "cbb4c68c",
   "metadata": {},
   "source": [
    "# Intro to Pandas\n",
    "by Ryan Orsinger"
   ]
  },
  {
   "cell_type": "markdown",
   "id": "d1c2ddbd",
   "metadata": {},
   "source": [
    "## Module 1: Intro to pandas series\n",
    "- Creating series from Python collections\n",
    "- Describing\n",
    "- Doing math on series of numbers\n",
    "- Filtering series\n",
    "- Operating on series of strings\n",
    "- Using built-in series attributes and methods\n",
    "\n",
    "## What is pandas?\n",
    "- The leading data analysis library for Python\n",
    "- Built for acquiring, cleaning, organizing, and analyzing data\n",
    "\n",
    "## So what?\n",
    "- Pandas is ubiquitous for data tasks in Python\n",
    "- Pandas is also *fast*, faster than base Python\n",
    "- Enables accomplishing more with less code"
   ]
  },
  {
   "cell_type": "markdown",
   "id": "5f13f743",
   "metadata": {},
   "source": [
    "### Pandas Series Part 1 of 3\n",
    "- Creating series objects\n",
    "- Assigning series\n",
    "- Doing math on series\n",
    "- Describing a series"
   ]
  },
  {
   "cell_type": "code",
   "execution_count": 1,
   "id": "c020021a",
   "metadata": {},
   "outputs": [],
   "source": [
    "import pandas as pd"
   ]
  },
  {
   "cell_type": "code",
   "execution_count": 2,
   "id": "11c08f3f",
   "metadata": {},
   "outputs": [
    {
     "data": {
      "text/plain": [
       "0    7\n",
       "1    8\n",
       "2    9\n",
       "dtype: int64"
      ]
     },
     "execution_count": 2,
     "metadata": {},
     "output_type": "execute_result"
    }
   ],
   "source": [
    "pd.Series([7, 8, 9])"
   ]
  },
  {
   "cell_type": "code",
   "execution_count": 3,
   "id": "64ef6e74",
   "metadata": {},
   "outputs": [
    {
     "data": {
      "text/plain": [
       "0     True\n",
       "1    False\n",
       "2     True\n",
       "dtype: bool"
      ]
     },
     "execution_count": 3,
     "metadata": {},
     "output_type": "execute_result"
    }
   ],
   "source": [
    "# Assigning a series to a variable \n",
    "results = pd.Series([True, False, True])\n",
    "results"
   ]
  },
  {
   "cell_type": "code",
   "execution_count": 4,
   "id": "11929db1",
   "metadata": {},
   "outputs": [
    {
     "data": {
      "text/plain": [
       "0       red\n",
       "1    orange\n",
       "2    yellow\n",
       "3     green\n",
       "4      blue\n",
       "5    indigo\n",
       "6    violet\n",
       "dtype: object"
      ]
     },
     "execution_count": 4,
     "metadata": {},
     "output_type": "execute_result"
    }
   ],
   "source": [
    "# Series can be any Python data type\n",
    "colors = [\"red\", \"orange\", \"yellow\", \"green\", \"blue\", \"indigo\", \"violet\"]\n",
    "colors = pd.Series(colors)\n",
    "colors"
   ]
  },
  {
   "cell_type": "code",
   "execution_count": 5,
   "id": "dca4507c",
   "metadata": {},
   "outputs": [
    {
     "data": {
      "text/plain": [
       "0   -3\n",
       "1   -2\n",
       "2   -1\n",
       "3    0\n",
       "4    1\n",
       "5    2\n",
       "dtype: int64"
      ]
     },
     "execution_count": 5,
     "metadata": {},
     "output_type": "execute_result"
    }
   ],
   "source": [
    "# We can assign ranges to make series of numbers\n",
    "numbers = pd.Series(range(-3, 3))\n",
    "numbers"
   ]
  },
  {
   "cell_type": "code",
   "execution_count": 6,
   "id": "d090109f",
   "metadata": {},
   "outputs": [
    {
     "data": {
      "text/plain": [
       "0   -2\n",
       "1   -1\n",
       "2    0\n",
       "3    1\n",
       "4    2\n",
       "5    3\n",
       "dtype: int64"
      ]
     },
     "execution_count": 6,
     "metadata": {},
     "output_type": "execute_result"
    }
   ],
   "source": [
    "# We can do arithmetic on entire series with our math operators\n",
    "numbers + 1"
   ]
  },
  {
   "cell_type": "code",
   "execution_count": 7,
   "id": "5f559c69",
   "metadata": {},
   "outputs": [
    {
     "data": {
      "text/plain": [
       "0   -1\n",
       "1    1\n",
       "2    3\n",
       "3    5\n",
       "4    7\n",
       "5    9\n",
       "dtype: int64"
      ]
     },
     "execution_count": 7,
     "metadata": {},
     "output_type": "execute_result"
    }
   ],
   "source": [
    "# Pandas, like Python, follows PEMDAS order of operations\n",
    "numbers * 2 + 5"
   ]
  },
  {
   "cell_type": "code",
   "execution_count": 8,
   "id": "d0b1e271",
   "metadata": {},
   "outputs": [
    {
     "data": {
      "text/plain": [
       "0    9\n",
       "1    4\n",
       "2    1\n",
       "3    0\n",
       "4    1\n",
       "5    4\n",
       "dtype: int64"
      ]
     },
     "execution_count": 8,
     "metadata": {},
     "output_type": "execute_result"
    }
   ],
   "source": [
    "# Notice how Python's built-in operators work on the entire series\n",
    "numbers ** 2"
   ]
  },
  {
   "cell_type": "code",
   "execution_count": 9,
   "id": "8040187a",
   "metadata": {},
   "outputs": [
    {
     "data": {
      "text/plain": [
       "0         NaN\n",
       "1         NaN\n",
       "2         NaN\n",
       "3    0.000000\n",
       "4    1.000000\n",
       "5    1.414214\n",
       "dtype: float64"
      ]
     },
     "execution_count": 9,
     "metadata": {},
     "output_type": "execute_result"
    }
   ],
   "source": [
    "# We can take the square root by raising to the 1/2 power\n",
    "numbers ** (1/2)"
   ]
  },
  {
   "cell_type": "code",
   "execution_count": 10,
   "id": "a158c7f5",
   "metadata": {},
   "outputs": [
    {
     "data": {
      "text/plain": [
       "0   -3\n",
       "1   -2\n",
       "2   -1\n",
       "3    0\n",
       "4    1\n",
       "5    2\n",
       "dtype: int64"
      ]
     },
     "execution_count": 10,
     "metadata": {},
     "output_type": "execute_result"
    }
   ],
   "source": [
    "# Notice that arithmetic does not change the original series\n",
    "numbers"
   ]
  },
  {
   "cell_type": "code",
   "execution_count": 11,
   "id": "335a5ceb",
   "metadata": {},
   "outputs": [
    {
     "data": {
      "text/plain": [
       "0   -9\n",
       "1   -6\n",
       "2   -3\n",
       "3    0\n",
       "4    3\n",
       "5    6\n",
       "dtype: int64"
      ]
     },
     "execution_count": 11,
     "metadata": {},
     "output_type": "execute_result"
    }
   ],
   "source": [
    "# Assigning the result of an operation to a new variable\n",
    "tripled = numbers * 3\n",
    "tripled"
   ]
  },
  {
   "cell_type": "code",
   "execution_count": 12,
   "id": "69ba45dc",
   "metadata": {},
   "outputs": [
    {
     "data": {
      "text/plain": [
       "0     1.3\n",
       "1     2.5\n",
       "2     2.5\n",
       "3     5.6\n",
       "4    10.1\n",
       "dtype: float64"
      ]
     },
     "execution_count": 12,
     "metadata": {},
     "output_type": "execute_result"
    }
   ],
   "source": [
    "prices = pd.Series([1.30, 2.50, 2.50, 5.60, 10.10])\n",
    "prices"
   ]
  },
  {
   "cell_type": "code",
   "execution_count": 13,
   "id": "c78dc97a",
   "metadata": {},
   "outputs": [
    {
     "data": {
      "text/plain": [
       "0    1.04\n",
       "1    2.00\n",
       "2    2.00\n",
       "3    4.48\n",
       "4    8.08\n",
       "dtype: float64"
      ]
     },
     "execution_count": 13,
     "metadata": {},
     "output_type": "execute_result"
    }
   ],
   "source": [
    "# Reassigning a variable to overwrite the values with the result of an operation\n",
    "prices = prices * .8\n",
    "prices"
   ]
  },
  {
   "cell_type": "code",
   "execution_count": 14,
   "id": "d98b25e7",
   "metadata": {},
   "outputs": [
    {
     "data": {
      "text/plain": [
       "0    7\n",
       "1    8\n",
       "2    8\n",
       "3    9\n",
       "4    9\n",
       "5    9\n",
       "dtype: int64"
      ]
     },
     "execution_count": 14,
     "metadata": {},
     "output_type": "execute_result"
    }
   ],
   "source": [
    "sequence = pd.Series([7, 8, 8, 9, 9, 9])\n",
    "sequence"
   ]
  },
  {
   "cell_type": "code",
   "execution_count": 15,
   "id": "3408cb7e",
   "metadata": {},
   "outputs": [
    {
     "data": {
      "text/plain": [
       "RangeIndex(start=0, stop=6, step=1)"
      ]
     },
     "execution_count": 15,
     "metadata": {},
     "output_type": "execute_result"
    }
   ],
   "source": [
    "# The .index attribute returns information about the index\n",
    "# Zero based integer indexes are the default\n",
    "# Pandas can also use strings and dates as index values\n",
    "sequence.index"
   ]
  },
  {
   "cell_type": "code",
   "execution_count": 16,
   "id": "dcc08f10",
   "metadata": {},
   "outputs": [
    {
     "data": {
      "text/plain": [
       "dtype('int64')"
      ]
     },
     "execution_count": 16,
     "metadata": {},
     "output_type": "execute_result"
    }
   ],
   "source": [
    "# The .dtype attribute returns\n",
    "sequence.dtype"
   ]
  },
  {
   "cell_type": "code",
   "execution_count": 17,
   "id": "dd9f8936",
   "metadata": {},
   "outputs": [
    {
     "data": {
      "text/plain": [
       "array([7, 8, 8, 9, 9, 9])"
      ]
     },
     "execution_count": 17,
     "metadata": {},
     "output_type": "execute_result"
    }
   ],
   "source": [
    "# The .values attribute returns only the values from a pandas dataset\n",
    "sequence.values"
   ]
  },
  {
   "cell_type": "code",
   "execution_count": 18,
   "id": "4ff066a6",
   "metadata": {},
   "outputs": [
    {
     "data": {
      "text/plain": [
       "(6,)"
      ]
     },
     "execution_count": 18,
     "metadata": {},
     "output_type": "execute_result"
    }
   ],
   "source": [
    "# The .shape attribute returns the \n",
    "sequence.shape"
   ]
  },
  {
   "cell_type": "code",
   "execution_count": 19,
   "id": "afef0d0e",
   "metadata": {},
   "outputs": [
    {
     "data": {
      "text/plain": [
       "9    3\n",
       "8    2\n",
       "7    1\n",
       "dtype: int64"
      ]
     },
     "execution_count": 19,
     "metadata": {},
     "output_type": "execute_result"
    }
   ],
   "source": [
    "# .value_counts returns a frequency count of values\n",
    "# The index is the value\n",
    "sequence.value_counts()"
   ]
  },
  {
   "cell_type": "code",
   "execution_count": 20,
   "id": "22e91ad8",
   "metadata": {},
   "outputs": [
    {
     "data": {
      "text/plain": [
       "0    9\n",
       "dtype: int64"
      ]
     },
     "execution_count": 20,
     "metadata": {},
     "output_type": "execute_result"
    }
   ],
   "source": [
    "# Mode is the most frequently occurring value in a dataset\n",
    "sequence.mode()"
   ]
  },
  {
   "cell_type": "code",
   "execution_count": 21,
   "id": "ee047939",
   "metadata": {},
   "outputs": [
    {
     "data": {
      "text/plain": [
       "8.5"
      ]
     },
     "execution_count": 21,
     "metadata": {},
     "output_type": "execute_result"
    }
   ],
   "source": [
    "# Median is the ordinal middle of the sorted data\n",
    "sequence.median()"
   ]
  },
  {
   "cell_type": "code",
   "execution_count": 22,
   "id": "454a7dfb",
   "metadata": {},
   "outputs": [
    {
     "data": {
      "text/plain": [
       "8.333333333333334"
      ]
     },
     "execution_count": 22,
     "metadata": {},
     "output_type": "execute_result"
    }
   ],
   "source": [
    "# Average\n",
    "sequence.mean()"
   ]
  },
  {
   "cell_type": "code",
   "execution_count": 23,
   "id": "0aa6ebbb",
   "metadata": {},
   "outputs": [
    {
     "data": {
      "text/plain": [
       "0.816496580927726"
      ]
     },
     "execution_count": 23,
     "metadata": {},
     "output_type": "execute_result"
    }
   ],
   "source": [
    "# Standard deviation is a measure of spread\n",
    "sequence.std()"
   ]
  },
  {
   "cell_type": "code",
   "execution_count": 24,
   "id": "cbd3d910",
   "metadata": {},
   "outputs": [
    {
     "data": {
      "text/plain": [
       "count    5.000000\n",
       "mean     3.520000\n",
       "std      2.849842\n",
       "min      1.040000\n",
       "25%      2.000000\n",
       "50%      2.000000\n",
       "75%      4.480000\n",
       "max      8.080000\n",
       "dtype: float64"
      ]
     },
     "execution_count": 24,
     "metadata": {},
     "output_type": "execute_result"
    }
   ],
   "source": [
    "# The .describe method outputs descriptive statistics\n",
    "prices.describe()"
   ]
  },
  {
   "cell_type": "markdown",
   "id": "5f8f9495",
   "metadata": {},
   "source": [
    "### Exercise check-in, part 1 of 3\n",
    "- Create a series named `a` that is the numbers `[1, 2, 3, 4, 5]`\n",
    "- Create a series named `b` that is the numbers `[1, 1, 2, 3, 5]`\n",
    "- Square `a` and reassign to the variable `a`\n",
    "- Square `b` and reassign to the variable `b`\n",
    "- Add the squares `a` and `b`. Assign to a variable named `sum_of_squares`\n",
    "- Now take the square root of that sum (*hint* raising to the 0.5 power takes the square root)"
   ]
  },
  {
   "cell_type": "code",
   "execution_count": 25,
   "id": "bf9f85c0",
   "metadata": {},
   "outputs": [],
   "source": [
    "# Create a series named \"a\" and assign it the numbers [1, 2, 3, 4, 5]"
   ]
  },
  {
   "cell_type": "code",
   "execution_count": 26,
   "id": "6760f17b",
   "metadata": {},
   "outputs": [],
   "source": [
    "# Create a series named \"b\" and assign it the numbers [1, 1, 2, 3, 5]"
   ]
  },
  {
   "cell_type": "code",
   "execution_count": 27,
   "id": "97a45ebd",
   "metadata": {},
   "outputs": [],
   "source": [
    "# Square all the numbers in a and reassign the result to a"
   ]
  },
  {
   "cell_type": "code",
   "execution_count": 28,
   "id": "9e356a21",
   "metadata": {},
   "outputs": [],
   "source": [
    "# Square all the numbers in b and reassign the result to b"
   ]
  },
  {
   "cell_type": "code",
   "execution_count": 29,
   "id": "16007fd8",
   "metadata": {},
   "outputs": [],
   "source": [
    "# Create a series named sum_of_squares that holds the sum of a and b squares"
   ]
  },
  {
   "cell_type": "code",
   "execution_count": 30,
   "id": "87b48b9d",
   "metadata": {},
   "outputs": [],
   "source": [
    "# Evaluate the square root of that sum_of_squares"
   ]
  },
  {
   "cell_type": "code",
   "execution_count": null,
   "id": "960230b3",
   "metadata": {},
   "outputs": [],
   "source": []
  }
 ],
 "metadata": {
  "kernelspec": {
   "display_name": "Python 3 (ipykernel)",
   "language": "python",
   "name": "python3"
  },
  "language_info": {
   "codemirror_mode": {
    "name": "ipython",
    "version": 3
   },
   "file_extension": ".py",
   "mimetype": "text/x-python",
   "name": "python",
   "nbconvert_exporter": "python",
   "pygments_lexer": "ipython3",
   "version": "3.9.7"
  }
 },
 "nbformat": 4,
 "nbformat_minor": 5
}
