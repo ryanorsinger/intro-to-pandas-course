{
 "cells": [
  {
   "cell_type": "markdown",
   "id": "e848ce0e",
   "metadata": {},
   "source": [
    "# Intro to Pandas\n",
    "by Ryan Orsinger"
   ]
  },
  {
   "cell_type": "markdown",
   "id": "25142685",
   "metadata": {},
   "source": [
    "## Module 4: Aggregating\n",
    "- Using `.crosstab` to count a frequency count for each category pairing\n",
    "- Using `.pivot_table` to calculate aggregates of numeric values for each category pairing (same as a spreadsheet pivot table)"
   ]
  },
  {
   "cell_type": "code",
   "execution_count": null,
   "id": "429bef4e",
   "metadata": {},
   "outputs": [],
   "source": [
    "# Import pandas\n",
    "import pandas as pd\n",
    "\n",
    "# Read in some data\n",
    "df = pd.read_csv(\"tips.csv\")\n",
    "df.head()"
   ]
  },
  {
   "cell_type": "markdown",
   "id": "3c776aa1",
   "metadata": {},
   "source": [
    "### What is `.crosstab?`\n",
    "- Crosstab computes a simple cross tabulation of two (or more) factors\n",
    "- Computes a frequency table of factors\n",
    "- Example: counting up how many tables ate lunch or dinner for each day?\n",
    "- Example: Counting the number of smoking tables broken out by gender?"
   ]
  },
  {
   "cell_type": "code",
   "execution_count": null,
   "id": "28b7a6a0",
   "metadata": {},
   "outputs": [],
   "source": [
    "# Say we needed to get all the different days\n",
    "df.day.unique()"
   ]
  },
  {
   "cell_type": "code",
   "execution_count": null,
   "id": "b54e55f0",
   "metadata": {},
   "outputs": [],
   "source": [
    "# And all the different times\n",
    "df.time.unique()"
   ]
  },
  {
   "cell_type": "code",
   "execution_count": null,
   "id": "336b12e2",
   "metadata": {},
   "outputs": [],
   "source": [
    "# To count Thursday Lunch, we need this compound indexing operation\n",
    "df[(df.day == \"Thur\") & (df.time == \"Lunch\")].shape[0]"
   ]
  },
  {
   "cell_type": "code",
   "execution_count": null,
   "id": "b9fe507b",
   "metadata": {},
   "outputs": [],
   "source": [
    "# To count Thursday Dinner, we need this compound indexing operation\n",
    "# Repeat this for each day/time combination...\n",
    "df[(df.day == \"Thur\") & (df.time == \"Dinner\")].shape[0]"
   ]
  },
  {
   "cell_type": "code",
   "execution_count": null,
   "id": "29fed9fd",
   "metadata": {},
   "outputs": [],
   "source": [
    "# For another approach,\n",
    "# we could run .time.value_counts() on each individual day\n",
    "# But this would be get tedious, too\n",
    "# Especially if the possible values are larger than 4 x 2\n",
    "df[df.day == \"Thur\"].time.value_counts()"
   ]
  },
  {
   "cell_type": "code",
   "execution_count": null,
   "id": "9f936499",
   "metadata": {},
   "outputs": [],
   "source": [
    "# Crosstab to the rescue!\n",
    "# Frequency count of all days by all times\n",
    "pd.crosstab(index=df.day, columns=df.time)"
   ]
  },
  {
   "cell_type": "code",
   "execution_count": null,
   "id": "46d95ec1",
   "metadata": {},
   "outputs": [],
   "source": [
    "# Margins=True shows the row/column totals\n",
    "pd.crosstab(index=df.day, columns=df.time, margins=True)"
   ]
  },
  {
   "cell_type": "code",
   "execution_count": null,
   "id": "86350e9d",
   "metadata": {},
   "outputs": [],
   "source": [
    "# We can also pass lists of series into either index or columns\n",
    "pd.crosstab(index=df.day, columns=[df.time, df.smoker])"
   ]
  },
  {
   "cell_type": "markdown",
   "id": "bc8136d4",
   "metadata": {},
   "source": [
    "## Using pivot_tables to aggregate more than counts\n",
    "- Use `.pivot_table` to set up intersections, then specify the column to measure, in aggregate, and your aggregate function\n",
    "- The `.pivot_table` method defaults to using the average, \n",
    "- We can specify multiple categories in the index and columns, but the results can become visually busy\n",
    "- Example: for each day/time pairing, calculate the average `total_bill`\n",
    "- Example: for each day/time pairing, get the average `total_bill` and `tip`\n",
    "- Example: for each day/time pairing, calculate the min, median, max `tip`"
   ]
  },
  {
   "cell_type": "code",
   "execution_count": null,
   "id": "52b0b479",
   "metadata": {},
   "outputs": [],
   "source": [
    "# Without specifying a \"values\" column, \n",
    "# pivot_table returns the average of each category pair\n",
    "pd.pivot_table(df, index=\"day\", columns=\"time\")"
   ]
  },
  {
   "cell_type": "code",
   "execution_count": null,
   "id": "f7e5cb81",
   "metadata": {},
   "outputs": [],
   "source": [
    "pd.pivot_table(df, index=\"day\", columns=\"time\", values=\"total_bill\")"
   ]
  },
  {
   "cell_type": "code",
   "execution_count": null,
   "id": "a4735540",
   "metadata": {},
   "outputs": [],
   "source": [
    "# Use the \"values\" argument to specify which columns to calculate\n",
    "pd.pivot_table(df, index=\"day\", columns=\"time\", values=[\"total_bill\", \"tip\"])"
   ]
  },
  {
   "cell_type": "code",
   "execution_count": null,
   "id": "7f4c44f4",
   "metadata": {},
   "outputs": [],
   "source": [
    "# Use the aggfunc argument to overwrite the default mean function\n",
    "pd.pivot_table(df, values=\"tip\", aggfunc=\"median\", index=\"day\", columns=\"time\")"
   ]
  },
  {
   "cell_type": "code",
   "execution_count": null,
   "id": "7b153e3e",
   "metadata": {},
   "outputs": [],
   "source": [
    "# The aggfunc argument can take a list of aggregate functions\n",
    "pd.pivot_table(df, values=\"tip\", aggfunc=[\"min\", \"median\", \"max\"], index=\"day\", columns=\"time\")"
   ]
  },
  {
   "cell_type": "markdown",
   "id": "3baa00b1",
   "metadata": {},
   "source": [
    "## Additional Resources\n",
    "- https://pandas.pydata.org/docs/reference/api/pandas.crosstab.html\n",
    "- https://pandas.pydata.org/docs/reference/api/pandas.pivot_table.html"
   ]
  },
  {
   "cell_type": "markdown",
   "id": "ae54a7bf",
   "metadata": {},
   "source": [
    "## Exercises\n",
    "- Use crosstab on the `tips` dataframe to count the number of differently sized tables for each time of day. *Hint* remember that `.size` is a built-in attribute on pandas objects.\n",
    "- Use `pd.read_csv` and the `mpg.csv` file to create a dataframe named `mpg`.\n",
    "- Use `.crosstab` to count the number of vehicles for each combination of class and drivetrain. *Hint* remember that `class` is a reserved word in Python.\n",
    "- Use `.crosstab` to count the number of vehicles for each combination of manufacturer and drivetrain.\n",
    "- Use `.pivot_table` and `mpg` to calculate the average highway mileage for each combination of vehicle class and drivetrain. \n",
    "- Use `.pivot_table` and `mpg` to calculate the median city mileage for each combination of manufacturer and drivetrain."
   ]
  },
  {
   "cell_type": "code",
   "execution_count": null,
   "id": "6c56a1aa",
   "metadata": {},
   "outputs": [],
   "source": [
    "# Use crosstab on the tips dataframe to count the number of differently sized tables for each time of day. \n",
    "# Hint remember that .size is a built-in attribute on pandas objects.\n"
   ]
  },
  {
   "cell_type": "code",
   "execution_count": null,
   "id": "ca684b88",
   "metadata": {},
   "outputs": [],
   "source": [
    "# Use pd.read_csv and the mpg.csv file to create a dataframe named mpg.\n"
   ]
  },
  {
   "cell_type": "code",
   "execution_count": null,
   "id": "77593616",
   "metadata": {},
   "outputs": [],
   "source": [
    "# Use .crosstab to count the number of vehicles for each combination of class and drivetrain. \n",
    "# Hint remember that \"class\" is a reserved word in Python.\n"
   ]
  },
  {
   "cell_type": "code",
   "execution_count": null,
   "id": "2b49051b",
   "metadata": {},
   "outputs": [],
   "source": [
    "# Use .crosstab to count the number of vehicles for each combination of manufacturer and drivetrain.\n"
   ]
  },
  {
   "cell_type": "code",
   "execution_count": null,
   "id": "280056ff",
   "metadata": {},
   "outputs": [],
   "source": [
    "# Use .pivot_table and mpg to calculate the average highway mileage for each combination of vehicle class and drivetrain.\n"
   ]
  },
  {
   "cell_type": "code",
   "execution_count": null,
   "id": "d7982176",
   "metadata": {},
   "outputs": [],
   "source": [
    "# Use .pivot_table and mpg to calculate the median city mileage for each combination of manufacturer and drivetrain.\n"
   ]
  }
 ],
 "metadata": {
  "kernelspec": {
   "display_name": "Python 3 (ipykernel)",
   "language": "python",
   "name": "python3"
  },
  "language_info": {
   "codemirror_mode": {
    "name": "ipython",
    "version": 3
   },
   "file_extension": ".py",
   "mimetype": "text/x-python",
   "name": "python",
   "nbconvert_exporter": "python",
   "pygments_lexer": "ipython3",
   "version": "3.9.7"
  }
 },
 "nbformat": 4,
 "nbformat_minor": 5
}
