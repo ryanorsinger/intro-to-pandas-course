{
 "cells": [
  {
   "cell_type": "markdown",
   "id": "121e96dc",
   "metadata": {},
   "source": [
    "# Intro to Pandas\n",
    "by Ryan Orsinger"
   ]
  },
  {
   "cell_type": "markdown",
   "id": "b3f61014",
   "metadata": {},
   "source": [
    "## Module 4: DataFrames Continued\n",
    "\n",
    "### Pandas DataFrames Continued\n",
    "- Handling columns with different data types\n",
    "- Using `.map` to transform values\n",
    "- Working with `.isin`\n",
    "- Using the complement operator\n",
    "- pd.concat to combine dataframes\n",
    "\n",
    "- str.split() on a single column containing multiple columns of data (maybe move this to tidy data?)\n",
    "- IQR range rule\n",
    "- 3 sigma rule\n",
    "- working with dates/datetime\n",
    "\n",
    "### Part 2\n",
    "- crosstab\n",
    "- pivot table\n",
    "\n",
    "- group by"
   ]
  },
  {
   "cell_type": "code",
   "execution_count": null,
   "id": "5905cab3",
   "metadata": {},
   "outputs": [],
   "source": []
  }
 ],
 "metadata": {
  "kernelspec": {
   "display_name": "Python 3 (ipykernel)",
   "language": "python",
   "name": "python3"
  },
  "language_info": {
   "codemirror_mode": {
    "name": "ipython",
    "version": 3
   },
   "file_extension": ".py",
   "mimetype": "text/x-python",
   "name": "python",
   "nbconvert_exporter": "python",
   "pygments_lexer": "ipython3",
   "version": "3.9.7"
  }
 },
 "nbformat": 4,
 "nbformat_minor": 5
}
